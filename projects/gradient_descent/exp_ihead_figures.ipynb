{
 "cells": [
  {
   "cell_type": "code",
   "execution_count": null,
   "id": "8872aae4",
   "metadata": {},
   "outputs": [],
   "source": [
    "import pandas as pd\n",
    "import matplotlib.pyplot as plt\n",
    "import json\n",
    "import numpy as np\n",
    "import subprocess\n",
    "from matplotlib import rc\n",
    "\n",
    "WIDTH = 8.5              # inches (from ICML style file)\n",
    "HEIGHT = 8.5 / 1.5     # golden ratio\n",
    "\n",
    "WIDTH *= 1.8 / 2\n",
    "HEIGHT *= 1.8 / 2\n",
    "\n",
    "rc('font', family='serif', size=8)\n",
    "usetex = not subprocess.run(['which', 'pdflatex']).returncode\n",
    "rc('text', usetex=usetex)\n",
    "if usetex:\n",
    "    rc('text.latex', preamble=r'\\usepackage{times}')"
   ]
  },
  {
   "cell_type": "code",
   "execution_count": null,
   "id": "3a160573",
   "metadata": {},
   "outputs": [],
   "source": [
    "def load_data(name):\n",
    "    fname = f'<PATH>/ihead_data/{name}/res.jsonl'\n",
    "    res = [json.loads(line) for line in open(fname)]\n",
    "    return pd.DataFrame(res)"
   ]
  },
  {
   "attachments": {},
   "cell_type": "markdown",
   "id": "3373848f",
   "metadata": {},
   "source": [
    "# Plots for the paper"
   ]
  },
  {
   "cell_type": "code",
   "execution_count": null,
   "id": "6ec29f7d",
   "metadata": {},
   "outputs": [],
   "source": [
    "# loss on Wo2 only\n",
    "name = 'wo2only'\n",
    "dim = 64\n",
    "\n",
    "lrs = [20, 50, 100, 200]\n",
    "\n",
    "fig, ax = plt.subplots(figsize=(.2 * WIDTH, .2 * HEIGHT))\n",
    "for lr in lrs:\n",
    "    df = load_data(f\"nomo_{name}_{dim}_{lr}\").loc[:50]\n",
    "    \n",
    "    ax.plot(df.epoch, df.loss, label=f\"$\\\\eta = {lr}$\")\n",
    "ax.legend(fontsize=5, loc='upper right', handlelength=1)\n",
    "ax.set_ylim(2.4, 5)\n",
    "ax.set_xlabel(r\"iteration $t$\")\n",
    "ax.set_ylabel(r\"${\\cal L}(W_t)$\")\n",
    "ax.set_title(fr\"Training $W_O^2$ only, $d = {dim}$\")\n",
    "fig.savefig(f'eos_figures/wo2only_d{dim}_loss.pdf', pad_inches=0, bbox_inches='tight')\n"
   ]
  },
  {
   "cell_type": "code",
   "execution_count": null,
   "id": "ec309de8",
   "metadata": {},
   "outputs": [],
   "source": [
    "# margins on wo2 only\n",
    "name = 'wo2only'\n",
    "dim = 64\n",
    "# lr = 200\n",
    "value = 'wo1_margins'\n",
    "\n",
    "for lr in [100, 200]:\n",
    "    fig, ax = plt.subplots(figsize=(.2 * WIDTH, .2 * HEIGHT))\n",
    "\n",
    "    df = load_data(f\"nomo_{name}_{dim}_{lr}\").loc[:50]\n",
    "    dff = pd.DataFrame(df[value].values.tolist())\n",
    "\n",
    "    np.random.seed(42)\n",
    "    idxs = np.random.permutation(65)\n",
    "    for i in range(5):\n",
    "        ax.plot(dff.index, dff[idxs[i]])\n",
    "\n",
    "    ax.set_xlabel(r'iteration $t$')\n",
    "    ax.set_ylabel(r'$m_t(x)$')\n",
    "    ax.set_yticks([0, 5])\n",
    "    ax.grid(True, axis='y', alpha=.5)\n",
    "    ax.set_title(rf\"$W_O^2$, $d={dim}$, $\\eta = {lr}$\")\n",
    "    fig.savefig(f'eos_figures/wo2only_d{dim}_lr{lr}_margins.pdf', pad_inches=0, bbox_inches='tight')\n"
   ]
  },
  {
   "cell_type": "code",
   "execution_count": null,
   "id": "f80503dc",
   "metadata": {},
   "outputs": [],
   "source": [
    "# loss on all params\n",
    "name = 'all_params'\n",
    "# dim = 128\n",
    "\n",
    "lrs = [2, 5, 10, 20]\n",
    "\n",
    "for dim in [64, 128]:\n",
    "    fig, ax = plt.subplots(figsize=(.2 * WIDTH, .2 * HEIGHT))\n",
    "    for lr in lrs:\n",
    "        df = load_data(f\"nomo_{name}_{dim}_{lr}\")\n",
    "\n",
    "        ax.plot(df.epoch, df.loss, label=f\"$\\\\eta = {lr}$\")\n",
    "    if dim == 128:\n",
    "        ax.set_xlabel(r'iteration $t$')\n",
    "        ax.legend(fontsize=5, handlelength=1, ncol=1, loc='lower left')\n",
    "    else:\n",
    "        ax.set_xticks([])\n",
    "    # plt.ylim(2.4, 6)\n",
    "    ax.set_ylabel(r\"${\\cal L}(W_t)$\")\n",
    "    ax.set_title(fr\"Train all, $d = {dim}$\")\n",
    "    fig.savefig(f'eos_figures/trainall_d{dim}_loss.pdf', pad_inches=0, bbox_inches='tight')\n",
    "\n",
    "    "
   ]
  },
  {
   "cell_type": "code",
   "execution_count": null,
   "id": "35837b3d",
   "metadata": {},
   "outputs": [],
   "source": [
    "# margins on wo2, train all\n",
    "name = 'all_params'\n",
    "dim = 128\n",
    "lr = 20\n",
    "value = 'wo1_margins'\n",
    "\n",
    "fig, ax = plt.subplots(figsize=(.2 * WIDTH, .2 * HEIGHT))\n",
    "\n",
    "df = load_data(f\"nomo_{name}_{dim}_{lr}\")\n",
    "dff = pd.DataFrame(df[value].values.tolist())\n",
    "\n",
    "np.random.seed(42)\n",
    "idxs = np.random.permutation(65)\n",
    "for i in range(5):\n",
    "    ax.plot(dff.index, dff[idxs[i]])\n",
    "\n",
    "ax.set_yticks([0, 5])\n",
    "ax.set_xticks([])\n",
    "ax.grid(True, axis='y', alpha=.5)\n",
    "ax.set_ylabel(r'$m_t(x)$')\n",
    "ax.set_title(f\"$W_O^2$, $d={dim}$, $\\\\eta = {lr}$\")\n",
    "fig.savefig('eos_figures/trainall_wo2_margins.pdf', pad_inches=0, bbox_inches='tight')\n"
   ]
  },
  {
   "cell_type": "code",
   "execution_count": null,
   "id": "8fa67678",
   "metadata": {
    "scrolled": true
   },
   "outputs": [],
   "source": [
    "# margins on wk2, train all\n",
    "name = 'all_params'\n",
    "dim = 128\n",
    "lr = 20\n",
    "value = 'wk1_margins'\n",
    "\n",
    "fig, ax = plt.subplots(figsize=(.2 * WIDTH, .2 * HEIGHT))\n",
    "\n",
    "df = load_data(f\"nomo_{name}_{dim}_{lr}\")\n",
    "dff = pd.DataFrame(df[value].values.tolist())\n",
    "\n",
    "for i in range(5):\n",
    "    ax.plot(dff.index, dff[i])\n",
    "\n",
    "ax.set_yticks([0, 5])\n",
    "ax.grid(True, axis='y', alpha=.5)\n",
    "ax.set_xlabel(r'iteration $t$')\n",
    "ax.set_ylabel(r'$m_t(x)$')\n",
    "ax.set_title(f\"$W_K^2$, $d={dim}$, $\\\\eta = {lr}$\")\n",
    "fig.savefig('eos_figures/trainall_wk2_margins.pdf', pad_inches=0, bbox_inches='tight')\n"
   ]
  },
  {
   "cell_type": "code",
   "execution_count": null,
   "id": "0777264f",
   "metadata": {},
   "outputs": [],
   "source": []
  }
 ],
 "metadata": {
  "kernelspec": {
   "display_name": "dev",
   "language": "python",
   "name": "python3"
  },
  "language_info": {
   "codemirror_mode": {
    "name": "ipython",
    "version": 3
   },
   "file_extension": ".py",
   "mimetype": "text/x-python",
   "name": "python",
   "nbconvert_exporter": "python",
   "pygments_lexer": "ipython3",
   "version": "3.10.4"
  }
 },
 "nbformat": 4,
 "nbformat_minor": 5
}
