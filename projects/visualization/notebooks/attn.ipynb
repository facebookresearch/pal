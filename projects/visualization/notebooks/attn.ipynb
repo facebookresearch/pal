{
 "cells": [
  {
   "cell_type": "code",
   "execution_count": 36,
   "metadata": {},
   "outputs": [],
   "source": [
    "# %% Imports\n",
    "from visualization import *\n",
    "unique_id = \"02523ea98ad3459a90cd6e3a74291d67\"\n",
    "\n",
    "save_ext = 'seed'\n",
    "suffix = None"
   ]
  },
  {
   "cell_type": "code",
   "execution_count": 37,
   "metadata": {},
   "outputs": [],
   "source": [
    "config = recover_config(unique_id, save_ext=save_ext, suffix=suffix)\n",
    "vocab_size = config[\"vocab_size\"]\n",
    "length = config[\"seq_length\"]\n",
    "sparsity_index = config[\"sparsity_index\"]\n",
    "ffn_dim = config[\"ffn_dim\"]\n",
    "assert config[\"save_weights\"], f\"Weights were not saved for ID {unique_id}.\"\n",
    "\n",
    "save_dir, _ = get_paths(save_ext, suffix=suffix)\n",
    "save_dir = save_dir / unique_id\n",
    "weights = pickle.load(open(save_dir / \"weights.pkl\", \"rb\"))\n",
    "losses = pickle.load(open(save_dir / \"losses.pkl\", \"rb\"))\n",
    "test_losses = pickle.load(open(save_dir / \"test_losses.pkl\", \"rb\"))\n",
    "accs = pickle.load(open(save_dir / \"accs.pkl\", \"rb\"))\n",
    "test_accs = pickle.load(open(save_dir / \"test_accs.pkl\", \"rb\"))\n",
    "\n",
    "DEVICE = \"cpu\"\n",
    "\n",
    "# modules\n",
    "\n",
    "config = ModelConfig(\n",
    "    vocab_size=config[\"nb_emb\"],\n",
    "    emb_dim=config[\"emb_dim\"],\n",
    "    seq_length=config[\"seq_length\"],\n",
    "    ffn_dim=config[\"ffn_dim\"],\n",
    "    ffn_bias=config[\"ffn_bias\"],\n",
    ")\n",
    "model = Model(config)\n",
    "model.eval()\n",
    "model.to(DEVICE)\n",
    "norm = RMSNorm()\n",
    "\n",
    "# variables\n",
    "\n",
    "kwargs = {\n",
    "    \"DEVICE\": DEVICE,\n",
    "    \"vocab_size\": vocab_size,\n",
    "    \"sparsity_index\": sparsity_index,\n",
    "    \"length\": length,\n",
    "    \"ffn_dim\": ffn_dim,\n",
    "    \"losses\": losses,\n",
    "    \"test_losses\": test_losses,\n",
    "    \"accs\": accs,\n",
    "    \"test_accs\": test_accs,\n",
    "    \"text_fontsize\": 8,\n",
    "    \"title_fontsize\": 12,\n",
    "    \"pos_marker\": \"o\",\n",
    "    \"neg_marker\": \"s\",\n",
    "    \"third_marker\": \"^\",\n",
    "}\n",
    "\n",
    "\n",
    "# plot configurations\n",
    "\n",
    "plot_functions = {\n",
    "    \"show_token_emb\": show_token_emb,\n",
    "    \"show_pos_emb\": show_pos_emb,\n",
    "    \"show_emb\": show_emb,\n",
    "    \"show_norm_emb\": show_norm_emb,\n",
    "    \"show_attn\": show_attn,\n",
    "    \"show_value\": show_value,\n",
    "    \"show_seq_emb\": show_seq_emb,\n",
    "    \"show_level_line\": show_level_line,\n",
    "    \"show_norm_input\": show_norm_input,\n",
    "    \"show_mlp_receptors\": show_mlp_receptors,\n",
    "    \"show_mlp_emitters\": show_mlp_emitters,\n",
    "    \"show_mlp_output\": show_mlp_output,\n",
    "    \"show_output_level_lines\": show_output_level_lines,\n",
    "    \"show_output\": show_output,\n",
    "    \"show_loss\": show_loss,\n",
    "    \"show_acc\": show_acc,\n",
    "}\n",
    "\n"
   ]
  },
  {
   "cell_type": "code",
   "execution_count": 38,
   "metadata": {},
   "outputs": [
    {
     "data": {
      "image/png": "[encoded data removed]",
      "text/plain": [
       "<Figure size 600x400 with 3 Axes>"
      ]
     },
     "metadata": {},
     "output_type": "display_data"
    }
   ],
   "source": [
    "fig, axes = plt.subplots(1, 3, figsize=(6, 4))\n",
    "for i, frame in enumerate([0, 0, 1000]):\n",
    "    model.load_state_dict(weights[frame])\n",
    "    variables = ComputationCache(\n",
    "        {\n",
    "            \"weights\": weights[frame],\n",
    "            \"model\": model,\n",
    "            \"norm\": norm,\n",
    "            \"frame\": frame,\n",
    "        }\n",
    "        | kwargs\n",
    "    )\n",
    "    if i == 0:\n",
    "        attn =  variables[\"attn\"]\n",
    "        tmp = variables['pos_inputs']\n",
    "        axes[i].imshow(tmp, cmap=\"Blues\", vmin=0, vmax=1, alpha=0.2)\n",
    "        axes[i].plot([4.5, 4.5], [-1, len(attn)], color=\"C3\")\n",
    "        for j in range(tmp.shape[0]):\n",
    "            for k in range(tmp.shape[1]):\n",
    "                axes[i].text(k, j, str(tmp[j, k].item()), ha='center', va='center', size=8)\n",
    "        axes[i].set_title(\"Input\")\n",
    "        axes[i].set_xticks([])\n",
    "        axes[i].set_yticks([])\n",
    "        axes[i].set_frame_on(False)\n",
    "    else:\n",
    "        show_attn(axes[i], variables)\n",
    "        axes[i].set_title(f\"Attention, epoch {frame}\")\n",
    "fig.savefig(\"attn.pdf\", bbox_inches=\"tight\")"
   ]
  },
  {
   "cell_type": "code",
   "execution_count": null,
   "metadata": {},
   "outputs": [],
   "source": []
  }
 ],
 "metadata": {
  "kernelspec": {
   "display_name": "dev",
   "language": "python",
   "name": "python3"
  },
  "language_info": {
   "codemirror_mode": {
    "name": "ipython",
    "version": 3
   },
   "file_extension": ".py",
   "mimetype": "text/x-python",
   "name": "python",
   "nbconvert_exporter": "python",
   "pygments_lexer": "ipython3",
   "version": "3.11.5"
  }
 },
 "nbformat": 4,
 "nbformat_minor": 2
}
