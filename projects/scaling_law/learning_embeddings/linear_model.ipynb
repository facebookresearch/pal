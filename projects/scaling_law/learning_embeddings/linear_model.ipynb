{
 "cells": [
  {
   "cell_type": "code",
   "execution_count": 1,
   "metadata": {},
   "outputs": [],
   "source": [
    "from math import sqrt\n",
    "\n",
    "import matplotlib.pyplot as plt\n",
    "import numpy as np\n",
    "import torch as th\n",
    "import torch.nn as nn\n",
    "import torch.nn.functional as F\n",
    "\n",
    "plt.rc('font', family='serif')\n",
    "plt.rc('text', usetex=True)\n"
   ]
  },
  {
   "cell_type": "code",
   "execution_count": 2,
   "metadata": {},
   "outputs": [],
   "source": [
    "class AssMem(nn.Module):\n",
    "    def __init__(self, d, n, m):\n",
    "        \"\"\"\n",
    "        d: int\n",
    "            Memory dimensionality\n",
    "        n: int\n",
    "            Number of input tokens\n",
    "        m: int\n",
    "            Number of classes\n",
    "        \"\"\"\n",
    "        super().__init__()\n",
    "        self.W = nn.Parameter(th.randn(d, d))\n",
    "        # self.W = th.eye(d)\n",
    "        self.E = nn.Parameter(th.randn(n, d) / sqrt(d))\n",
    "        self.UT = nn.Parameter(th.randn(d, m) / sqrt(d))\n",
    "\n",
    "    def forward(self, x):\n",
    "        out = self.E[x] @ self.W\n",
    "        out = out @ self.UT\n",
    "        out = F.softmax(out, dim=-1)\n",
    "        return out\n",
    "\n",
    "\n",
    "def modular_class(x, m):\n",
    "    return x % m"
   ]
  },
  {
   "cell_type": "code",
   "execution_count": 3,
   "metadata": {},
   "outputs": [],
   "source": [
    "# number of input tokens\n",
    "n = 100\n",
    "# memory dimension\n",
    "d = 2\n",
    "\n",
    "# Zipf parameter\n",
    "alpha = 2\n",
    "\n",
    "# Population data\n",
    "all_x = th.arange(n)\n",
    "proba = (all_x + 1.) ** (-alpha)\n",
    "proba /= proba.sum()"
   ]
  },
  {
   "cell_type": "code",
   "execution_count": 4,
   "metadata": {},
   "outputs": [],
   "source": [
    "# number of output classes\n",
    "ms = np.unique(np.logspace(0, 2, num=50).astype(int))"
   ]
  },
  {
   "cell_type": "code",
   "execution_count": 11,
   "metadata": {},
   "outputs": [
    {
     "name": "stdout",
     "output_type": "stream",
     "text": [
      "1,2,3,4,5,6,7,8,9,10,11,12,13,15,16,18,20,22,24,26,29,32,35,39,42,47,51,56,62,68,75,82,91,100,"
     ]
    }
   ],
   "source": [
    "nb_trials = 10\n",
    "errors = th.zeros(nb_trials, len(ms))\n",
    "\n",
    "for i_m, m in enumerate(ms):\n",
    "    assoc = AssMem(d, n, m)\n",
    "    opti = th.optim.Adam(assoc.parameters(), lr=1e-1)\n",
    "\n",
    "    all_y = modular_class(all_x, m)\n",
    "\n",
    "    # number of data\n",
    "    batch_size = 1000\n",
    "    nb_epoch = 1000\n",
    "    T = nb_epoch * batch_size\n",
    "\n",
    "    for i_n in range(nb_trials):\n",
    "        for i in range(nb_epoch):\n",
    "            x = th.multinomial(proba, batch_size, replacement=True)\n",
    "            y = x % m\n",
    "\n",
    "            opti.zero_grad()\n",
    "            softpred = assoc(x)\n",
    "            loss = - th.log(softpred[th.arange(len(y)), y]).mean()\n",
    "            loss.backward()\n",
    "            opti.step()\n",
    "\n",
    "        with th.no_grad():\n",
    "            pred = assoc(all_x).argmax(dim=1)\n",
    "            loss = proba[pred != all_y].sum()\n",
    "            errors[i_n, i_m] = loss.item()\n",
    "\n",
    "    print(m, end=',')"
   ]
  },
  {
   "cell_type": "code",
   "execution_count": 14,
   "metadata": {},
   "outputs": [],
   "source": [
    "errors_mean = errors.mean(dim=0)\n",
    "errors_std = errors.std(dim=0)"
   ]
  },
  {
   "cell_type": "code",
   "execution_count": 17,
   "metadata": {},
   "outputs": [
    {
     "data": {
      "image/png": "[encoded data removed]",
      "text/plain": [
       "<Figure size 150x100 with 1 Axes>"
      ]
     },
     "metadata": {},
     "output_type": "display_data"
    }
   ],
   "source": [
    "fig, ax = plt.subplots(figsize=(1.5, 1))\n",
    "ax.plot(ms, errors_mean)\n",
    "ax.fill_between(ms, (errors_mean - errors_std).clip(0, None), errors_mean + errors_std, alpha=.5)\n",
    "ax.set_xscale('log')\n",
    "ax.set_xlabel('M', fontsize=10)\n",
    "ax.set_ylabel(r'Error', fontsize=10)\n",
    "# ax.set_yticks([0, .02])\n",
    "# ax.set_yticklabels([0, .02], fontsize=8)\n",
    "ax.set_xticks([1, 10, 100])\n",
    "ax.set_xticklabels([1, 10, 100], fontsize=8)\n",
    "fig.savefig(\"error_m.pdf\", bbox_inches='tight')\n",
    "\n",
    "# ax.set_yscale('log')"
   ]
  },
  {
   "cell_type": "code",
   "execution_count": 5,
   "metadata": {},
   "outputs": [],
   "source": [
    "m = 5\n",
    "assoc = AssMem(d, n, m)\n",
    "opti = th.optim.Adam(assoc.parameters(), lr=1e-3)\n",
    "\n",
    "all_y = modular_class(all_x, m)\n",
    "\n",
    "# number of data\n",
    "batch_size = 1000\n",
    "nb_epoch = 10000\n",
    "T = nb_epoch * batch_size\n",
    "\n",
    "for i in range(nb_epoch):\n",
    "    x = th.multinomial(proba, batch_size, replacement=True)\n",
    "    y = x % m\n",
    "\n",
    "    opti.zero_grad()\n",
    "    softpred = assoc(x)\n",
    "    loss = - th.log(softpred[th.arange(len(y)), y]).mean()\n",
    "    loss.backward()\n",
    "    opti.step()"
   ]
  },
  {
   "cell_type": "code",
   "execution_count": 6,
   "metadata": {},
   "outputs": [],
   "source": [
    "U = assoc.UT.detach().numpy()\n",
    "X, Y = np.meshgrid(np.linspace(-1,1, num=100), np.linspace(-1, 1, num=100))\n",
    "x = np.stack((X.flatten(), Y.flatten())).T\n",
    "Z = np.argmax(x @ U, axis=1).reshape(X.shape)"
   ]
  },
  {
   "cell_type": "code",
   "execution_count": 14,
   "metadata": {},
   "outputs": [
    {
     "data": {
      "image/png": "[encoded data removed]",
      "text/plain": [
       "<Figure size 100x100 with 1 Axes>"
      ]
     },
     "metadata": {},
     "output_type": "display_data"
    }
   ],
   "source": [
    "fig, ax = plt.subplots(figsize=(1,1))\n",
    "ax.contourf(X, Y, Z, cmap='tab10', vmin=-.5, vmax=9.5)\n",
    "ax.set_axis_off()\n",
    "fig.savefig(\"output_embeddings.pdf\")"
   ]
  },
  {
   "cell_type": "code",
   "execution_count": 11,
   "metadata": {},
   "outputs": [],
   "source": [
    "mean_emb = th.zeros(m, 2)\n",
    "std_emb = th.zeros(m, 2)\n",
    "for i in range(m):\n",
    "    E = assoc.E[all_y == i]\n",
    "    mean_emb[i] = E.mean(dim=0)\n",
    "    std_emb[i] = E.std(dim=0)\n",
    "\n",
    "mean_emb = mean_emb.detach().numpy()\n",
    "std_emb = std_emb.detach().numpy()"
   ]
  },
  {
   "cell_type": "code",
   "execution_count": 12,
   "metadata": {},
   "outputs": [
    {
     "data": {
      "image/png": "[encoded data removed]",
      "text/plain": [
       "<Figure size 100x100 with 1 Axes>"
      ]
     },
     "metadata": {},
     "output_type": "display_data"
    }
   ],
   "source": [
    "fig, ax = plt.subplots(figsize=(1,1))\n",
    "# tmp = [3, 4, 0, 1, 2]\n",
    "for i in range(m):\n",
    "    emb = assoc.E[all_y == i].detach().numpy()\n",
    "    # ax.scatter(emb[:, 0], emb[:, 1], s=5, c='C' + str(tmp[i]))\n",
    "    ax.scatter(emb[:, 0], emb[:, 1], s=5)\n",
    "ax.set_axis_off()\n",
    "fig.savefig(f\"input_embeddings_{m}.pdf\")"
   ]
  },
  {
   "cell_type": "code",
   "execution_count": null,
   "metadata": {},
   "outputs": [],
   "source": []
  }
 ],
 "metadata": {
  "kernelspec": {
   "display_name": "base",
   "language": "python",
   "name": "python3"
  },
  "language_info": {
   "codemirror_mode": {
    "name": "ipython",
    "version": 3
   },
   "file_extension": ".py",
   "mimetype": "text/x-python",
   "name": "python",
   "nbconvert_exporter": "python",
   "pygments_lexer": "ipython3",
   "version": "3.10.4"
  },
  "orig_nbformat": 4
 },
 "nbformat": 4,
 "nbformat_minor": 2
}
