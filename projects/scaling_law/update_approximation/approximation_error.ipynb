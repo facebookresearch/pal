{
 "cells": [
  {
   "cell_type": "code",
   "execution_count": 1,
   "metadata": {},
   "outputs": [],
   "source": [
    "from math import sqrt\n",
    "from random import seed\n",
    "\n",
    "import matplotlib.pyplot as plt\n",
    "import numpy as np\n",
    "import torch as th\n",
    "import torch.nn as nn\n",
    "import torch.nn.functional as F\n",
    "\n",
    "plt.rc('font', family='serif', size=8)\n",
    "plt.rc('text', usetex=True)\n",
    "th.manual_seed(0)\n",
    "seed(0)"
   ]
  },
  {
   "cell_type": "code",
   "execution_count": 2,
   "metadata": {},
   "outputs": [],
   "source": [
    "def get_embeddings(n, d, norm=True):\n",
    "    emb = th.randn(n, d)\n",
    "    if norm:\n",
    "        emb /= emb.norm(dim=1, keepdim=True)\n",
    "    else:\n",
    "        emb /= sqrt(d)\n",
    "    return emb\n",
    "\n",
    "\n",
    "class AssMem(nn.Module):\n",
    "    def __init__(self, E, U):\n",
    "        \"\"\"\n",
    "        E: torch.Tensor\n",
    "            Input embedding matrix of size $n \\times d$,\n",
    "            where $n$ is the number of tokens and $d$ is the embedding dimension.\n",
    "        U: torch.Tensor\n",
    "            Output unembedding matrix of size $d \\times m$,\n",
    "            where $m$ is the number of classes and $d$ is the embedding dimension.\n",
    "        \"\"\"\n",
    "        super().__init__()\n",
    "        d = E.shape[1]\n",
    "        self.W = nn.Parameter(th.zeros(d, d))\n",
    "        self.E = E\n",
    "        self.U = U\n",
    "\n",
    "    def forward(self, x):\n",
    "        out = self.E[x] @ self.W\n",
    "        out = out @ self.U\n",
    "        return out\n",
    "\n",
    "\n",
    "class AssMemApprox(nn.Module):\n",
    "    def __init__(self, E, U, all_y):\n",
    "        \"\"\"\n",
    "        E: torch.Tensor\n",
    "            Input embedding matrix of size $n \\times d$,\n",
    "            where $n$ is the number of tokens and $d$ is the embedding dimension.\n",
    "        U: torch.Tensor\n",
    "            Output unembedding matrix of size $d \\times m$,\n",
    "            where $m$ is the number of classes and $d$ is the embedding dimension.\n",
    "        \"\"\"\n",
    "        super().__init__()\n",
    "        d = E.shape[1]\n",
    "        self.m = U.shape[1]\n",
    "        self.n = E.shape[0]\n",
    "        self.q = th.zeros(self.n, dtype=th.float32)\n",
    "        self.E2 = E @ E.T\n",
    "        self.U2 = U[:, all_y].T @ U\n",
    "\n",
    "    def update(self, x, gamma):\n",
    "        grad = th.exp(self.q) / (self.m - 1)\n",
    "        grad = 1 / (1+ grad)\n",
    "        grad *= th.bincount(x, minlength=self.n)\n",
    "        self.q += gamma * grad\n",
    "\n",
    "    def prediction(self):\n",
    "        return (self.E2 * self.q) @ self.U2"
   ]
  },
  {
   "cell_type": "code",
   "execution_count": 27,
   "metadata": {},
   "outputs": [],
   "source": [
    "# number of input tokens\n",
    "n = 100\n",
    "# number of output classes\n",
    "m = 5\n",
    "# memory dimension\n",
    "d = 10\n",
    "\n",
    "# Zipf parameter\n",
    "alpha = 2"
   ]
  },
  {
   "cell_type": "code",
   "execution_count": 28,
   "metadata": {},
   "outputs": [],
   "source": [
    "# Population data\n",
    "all_x = th.arange(n)\n",
    "proba = (all_x + 1.) ** (-alpha)\n",
    "proba /= proba.sum()\n",
    "all_y = all_x % m"
   ]
  },
  {
   "cell_type": "code",
   "execution_count": 29,
   "metadata": {},
   "outputs": [],
   "source": [
    "# number of data\n",
    "batch_size = 1000\n",
    "nb_epoch = 100\n",
    "T = nb_epoch * batch_size"
   ]
  },
  {
   "cell_type": "code",
   "execution_count": 30,
   "metadata": {},
   "outputs": [
    {
     "name": "stdout",
     "output_type": "stream",
     "text": [
      "0,1,2,3,4,5,6,7,8,9,10,11,12,13,14,15,16,17,18,19,20,21,22,23,24,25,26,27,28,29,30,31,32,33,34,35,36,37,38,39,40,41,42,43,44,45,46,47,48,49,50,51,52,53,54,55,56,57,58,59,60,61,62,63,64,65,66,67,68,69,70,71,72,73,74,75,76,77,78,79,80,81,82,83,84,85,86,87,88,89,90,91,92,93,94,95,96,97,98,99,"
     ]
    }
   ],
   "source": [
    "lr = 1e0\n",
    "nb_trials = 100\n",
    "\n",
    "errors = th.zeros(2, nb_trials, nb_epoch)\n",
    "errors[:] = -1\n",
    "\n",
    "\n",
    "for i_t in range(nb_trials):\n",
    "    # Embeddings\n",
    "    E = get_embeddings(n, d, norm=False)\n",
    "    U = get_embeddings(m, d, norm=True).T\n",
    "\n",
    "    model = AssMem(E, U)\n",
    "    opti = th.optim.SGD(model.parameters(), lr=lr)\n",
    "\n",
    "    approx_model = AssMemApprox(E, U, all_y)\n",
    "\n",
    "    for i_e in range(nb_epoch):\n",
    "        x = th.multinomial(proba, batch_size, replacement=True)\n",
    "        y = x % m\n",
    "\n",
    "        # real update\n",
    "        out = model(x)\n",
    "        loss = F.cross_entropy(out, y)\n",
    "        opti.zero_grad()\n",
    "        loss.backward()\n",
    "        opti.step()\n",
    "\n",
    "        # approx update\n",
    "        approx_model.update(x, lr / batch_size)\n",
    "\n",
    "        with th.no_grad():\n",
    "            pred = model(all_x).argmax(dim=-1)\n",
    "            errors[0, i_t, i_e] = proba[pred != all_y].sum().item()\n",
    "\n",
    "            approx_pred = approx_model.prediction().argmax(dim=-1)\n",
    "            errors[1, i_t, i_e] = proba[approx_pred != all_y].sum().item()\n",
    "\n",
    "    print(i_t, end=',')"
   ]
  },
  {
   "cell_type": "code",
   "execution_count": 31,
   "metadata": {},
   "outputs": [],
   "source": [
    "mean_errors = errors.mean(dim=1).numpy()\n",
    "std_errors = errors.std(dim=1).numpy()"
   ]
  },
  {
   "cell_type": "code",
   "execution_count": 32,
   "metadata": {},
   "outputs": [
    {
     "data": {
      "image/png": "[encoded data removed]",
      "text/plain": [
       "<Figure size 150x100 with 1 Axes>"
      ]
     },
     "metadata": {},
     "output_type": "display_data"
    }
   ],
   "source": [
    "fig, ax = plt.subplots(figsize=(1.5, 1))\n",
    "leg = []\n",
    "for i in range(2):\n",
    "    a, = ax.plot(mean_errors[i])\n",
    "    ax.fill_between(np.arange(nb_epoch), mean_errors[i] - .5*std_errors[i],\n",
    "                    mean_errors[i] + .5*std_errors[i], alpha=.5)\n",
    "    leg.append(a)\n",
    "\n",
    "ax.set_yscale('log')\n",
    "ax.set_xlabel('Epochs', fontsize=10)\n",
    "ax.set_ylabel('Error', fontsize=10)\n",
    "plt.legend(leg, ['real', 'approx'], loc=\"best\", fontsize=8, handlelength=1, frameon=True)\n",
    "fig.savefig(f'approx_sgd_{d}_{batch_size}.pdf', bbox_inches='tight')"
   ]
  },
  {
   "cell_type": "code",
   "execution_count": 26,
   "metadata": {},
   "outputs": [
    {
     "data": {
      "image/png": "[encoded data removed]",
      "text/plain": [
       "<Figure size 150x100 with 1 Axes>"
      ]
     },
     "metadata": {},
     "output_type": "display_data"
    }
   ],
   "source": [
    "fig, ax = plt.subplots(figsize=(1.5, 1))\n",
    "leg = []\n",
    "for i in range(2):\n",
    "    a, = ax.plot(errors[i, 0])\n",
    "    leg.append(a)\n",
    "\n",
    "ax.set_yscale('log')\n",
    "ax.set_xlabel('Epochs', fontsize=10)\n",
    "ax.set_ylabel('Error', fontsize=10)\n",
    "plt.legend(leg, ['real', 'approx'], loc=\"best\", fontsize=8, handlelength=1)\n",
    "fig.savefig(f'approx_sgd_{d}_{batch_size}_one_run.pdf', bbox_inches='tight')"
   ]
  },
  {
   "cell_type": "code",
   "execution_count": null,
   "metadata": {},
   "outputs": [],
   "source": []
  }
 ],
 "metadata": {
  "kernelspec": {
   "display_name": "dev",
   "language": "python",
   "name": "python3"
  },
  "language_info": {
   "codemirror_mode": {
    "name": "ipython",
    "version": 3
   },
   "file_extension": ".py",
   "mimetype": "text/x-python",
   "name": "python",
   "nbconvert_exporter": "python",
   "pygments_lexer": "ipython3",
   "version": "3.10.4"
  },
  "orig_nbformat": 4
 },
 "nbformat": 4,
 "nbformat_minor": 2
}
