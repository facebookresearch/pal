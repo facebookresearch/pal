{
 "cells": [
  {
   "cell_type": "code",
   "execution_count": 1,
   "metadata": {},
   "outputs": [],
   "source": [
    "from math import sqrt\n",
    "from random import seed\n",
    "\n",
    "import matplotlib.pyplot as plt\n",
    "import torch as th\n",
    "import torch.nn as nn\n",
    "import torch.nn.functional as F\n",
    "\n",
    "th.manual_seed(0)\n",
    "seed(0)"
   ]
  },
  {
   "cell_type": "code",
   "execution_count": 2,
   "metadata": {},
   "outputs": [],
   "source": [
    "def get_embeddings(n, d, norm=True):\n",
    "    emb = th.randn(n, d)\n",
    "    if norm:\n",
    "        emb /= emb.norm(dim=1, keepdim=True)\n",
    "    else:\n",
    "        emb /= sqrt(d)\n",
    "    return emb\n",
    "\n",
    "\n",
    "class AssMem(nn.Module):\n",
    "    def __init__(self, E, U):\n",
    "        \"\"\"\n",
    "        E: torch.Tensor\n",
    "            Input embedding matrix of size $n \\times d$,\n",
    "            where $n$ is the number of tokens and $d$ is the embedding dimension.\n",
    "        U: torch.Tensor\n",
    "            Output unembedding matrix of size $d \\times m$,\n",
    "            where $m$ is the number of classes and $d$ is the embedding dimension.\n",
    "        \"\"\"\n",
    "        super().__init__()\n",
    "        # self.W = nn.Parameter(th.randn(d, d))\n",
    "        d = E.shape[1]\n",
    "        self.W = nn.Parameter(th.zeros(d, d))\n",
    "        self.E = E\n",
    "        self.U = U\n",
    "\n",
    "    def forward(self, x):\n",
    "        # TODO: add noise on the embeddings at inference time\n",
    "        out = self.E[x] @ self.W\n",
    "        out = out @ self.U\n",
    "        # out = F.softmax(out, dim=-1)\n",
    "        return out"
   ]
  },
  {
   "cell_type": "code",
   "execution_count": 3,
   "metadata": {},
   "outputs": [],
   "source": [
    "# number of input tokens\n",
    "n = 10\n",
    "# number of output classes\n",
    "m = 5\n",
    "# memory dimension\n",
    "d = 5\n",
    "\n",
    "alpha = 1.5"
   ]
  },
  {
   "cell_type": "code",
   "execution_count": 4,
   "metadata": {},
   "outputs": [],
   "source": [
    "all_x = th.arange(n)\n",
    "proba = (all_x + 1.) ** (-alpha)\n",
    "proba /= proba.sum()\n",
    "all_y = all_x % m"
   ]
  },
  {
   "cell_type": "code",
   "execution_count": 5,
   "metadata": {},
   "outputs": [],
   "source": [
    "# number of data\n",
    "batch_size = 1\n",
    "nb_epoch = 1000\n",
    "T = nb_epoch * batch_size\n",
    "lr = 1e-1"
   ]
  },
  {
   "cell_type": "code",
   "execution_count": 8,
   "metadata": {},
   "outputs": [
    {
     "name": "stdout",
     "output_type": "stream",
     "text": [
      "0,100,200,300,400,500,600,700,800,900,"
     ]
    }
   ],
   "source": [
    "# Embeddings\n",
    "E = get_embeddings(n, d, norm=False)\n",
    "U = get_embeddings(m, d, norm=True).T \n",
    "\n",
    "lrs = [1e1, 1e-1, 1e1]\n",
    "num_models = len(lrs)\n",
    "\n",
    "# models\n",
    "assoc = []\n",
    "opti = []\n",
    "for i in range(num_models):\n",
    "    assoc.append(AssMem(E, U))\n",
    "    lr = lrs[i]\n",
    "    opti.append(th.optim.SGD(assoc[-1].parameters(), lr=lr, momentum=0))\n",
    "scheduler = th.optim.lr_scheduler.StepLR(opti[-1], nb_epoch // 10, gamma=0.1)\n",
    "\n",
    "train_loss = [[] for _ in range(num_models)]\n",
    "test_loss = [[] for _ in range(num_models)]\n",
    "\n",
    "for i in range(nb_epoch):\n",
    "    x = th.multinomial(proba, batch_size, replacement=True)\n",
    "    y = x % m\n",
    "\n",
    "    for j in range(num_models):\n",
    "        out = assoc[j](x)\n",
    "        loss = F.cross_entropy(out, y)\n",
    "        train_loss[j].append(loss.item())\n",
    "\n",
    "        with th.no_grad():\n",
    "            pred = assoc[j](all_x).argmax(dim=-1)\n",
    "            test_loss[j].append(proba[pred != all_y].sum().item())\n",
    "\n",
    "        opti[j].zero_grad()\n",
    "        loss.backward()\n",
    "        opti[j].step()\n",
    "\n",
    "    scheduler.step()\n",
    "\n",
    "    if i % 100 == 0:\n",
    "        print(i, end=',')"
   ]
  },
  {
   "cell_type": "code",
   "execution_count": 7,
   "metadata": {},
   "outputs": [
    {
     "data": {
      "image/png": "[encoded data removed]",
      "text/plain": [
       "<Figure size 200x150 with 1 Axes>"
      ]
     },
     "metadata": {},
     "output_type": "display_data"
    }
   ],
   "source": [
    "import matplotlib.pyplot as plt\n",
    "import numpy as np\n",
    "plt.rc('font', family='serif')\n",
    "plt.rc('text', usetex=True)\n",
    "\n",
    "fig, ax = plt.subplots(1, 1, figsize=(2, 1.5))\n",
    "leg = []\n",
    "for i in range(num_models):\n",
    "    # ax.plot(np.arange(nb_epoch)[10:], train_loss[i][10:], color='C' + str(i), alpha=.1, linestyle='--')\n",
    "    a, = ax.plot(np.arange(nb_epoch), test_loss[i], color= 'C' + str(i))\n",
    "    leg.append(a)\n",
    "ax.set_xscale('log')\n",
    "ax.set_yscale('log')\n",
    "# ax.set_ylim(3e-2, 1e0)\n",
    "ax.set_xlabel('T', fontsize=10)\n",
    "ax.set_ylabel('Error', fontsize=10)\n",
    "ax.tick_params(axis='both', which='major', labelsize=8)\n",
    "ax.legend(leg, [r\"$\\gamma=10$\", r\"$\\gamma=.1$\", r\"StepLR\"], fontsize=7)\n",
    "fig.savefig('sgd_step_lr.pdf', bbox_inches='tight')"
   ]
  },
  {
   "attachments": {},
   "cell_type": "markdown",
   "metadata": {},
   "source": [
    "Averaging over several trials"
   ]
  },
  {
   "cell_type": "code",
   "execution_count": null,
   "metadata": {},
   "outputs": [
    {
     "name": "stdout",
     "output_type": "stream",
     "text": [
      "0,1,2,3,4,5,6,7,8,9,10,11,12,13,14,15,16,17,18,19,20,21,22,23,24,25,26,27,28,29,30,31,32,33,34,35,36,37,38,39,40,41,42,43,44,45,46,47,48,49,50,51,52,53,54,55,56,57,58,59,60,61,62,63,64,65,66,67,68,69,70,71,72,73,74,75,76,77,78,79,80,81,82,83,84,85,86,87,88,89,90,91,92,93,94,95,96,97,98,99,"
     ]
    }
   ],
   "source": [
    "lrs = [1e1, 1e-1, 1e1]\n",
    "num_models = len(lrs)\n",
    "\n",
    "nb_trials = 100\n",
    "\n",
    "train_loss = th.zeros(num_models, nb_trials, nb_epoch)\n",
    "test_loss = th.zeros(num_models, nb_trials, nb_epoch)\n",
    "train_loss[:] = -1\n",
    "test_loss[:] = -1\n",
    "\n",
    "for k in range(nb_trials):\n",
    "    # Embeddings\n",
    "    E = get_embeddings(n, d, norm=False)\n",
    "    U = get_embeddings(m, d, norm=True).T \n",
    "\n",
    "    # models\n",
    "    assoc = []\n",
    "    opti = []\n",
    "    for i in range(num_models):\n",
    "        assoc.append(AssMem(E, U))\n",
    "        lr = lrs[i]\n",
    "        opti.append(th.optim.SGD(assoc[-1].parameters(), lr=lr, momentum=0))\n",
    "\n",
    "    for i in range(nb_epoch):\n",
    "        x = th.multinomial(proba, batch_size, replacement=True)\n",
    "        y = x % m\n",
    "\n",
    "        for j in range(num_models):\n",
    "            out = assoc[j](x)\n",
    "            loss = F.cross_entropy(out, y)\n",
    "            train_loss[j, k, i] = loss.item()\n",
    "\n",
    "            with th.no_grad():\n",
    "                pred = assoc[j](all_x).argmax(dim=-1)\n",
    "                test_loss[j, k, i] = proba[pred != all_y].sum().item()\n",
    "\n",
    "            opti[j].zero_grad()\n",
    "            loss.backward()\n",
    "            opti[j].step()\n",
    "\n",
    "        if i == 100:\n",
    "            for g in opti[-1].param_groups:\n",
    "                g['lr'] *= .03\n",
    "\n",
    "    print(k, end=',')"
   ]
  },
  {
   "cell_type": "code",
   "execution_count": null,
   "metadata": {},
   "outputs": [
    {
     "data": {
      "image/png": "[encoded data removed]",
      "text/plain": [
       "<Figure size 200x150 with 1 Axes>"
      ]
     },
     "metadata": {},
     "output_type": "display_data"
    }
   ],
   "source": [
    "import matplotlib.pyplot as plt\n",
    "import numpy as np\n",
    "plt.rc('font', family='serif')\n",
    "plt.rc('text', usetex=True)\n",
    "\n",
    "fig, ax = plt.subplots(1, 1, figsize=(2, 1.5))\n",
    "leg = []\n",
    "for i in range(num_models):\n",
    "    a, = ax.plot(batch_size * np.arange(nb_epoch), test_loss[i].mean(dim=0), color= 'C' + str(i))\n",
    "    ax.fill_between(batch_size * np.arange(nb_epoch), test_loss[i].mean(dim=0) - .5 * test_loss[i].std(dim=0), test_loss[i].mean(dim=0) + .5 * test_loss[i].std(dim=0), color= 'C' + str(i), alpha=.3)\n",
    "    leg.append(a)\n",
    "ax.set_xscale('log')\n",
    "ax.set_yscale('log')\n",
    "ax.set_yticks([.2, .3, .4, .5, .6, .7, .8])\n",
    "ax.set_yticklabels(['.2', '', '.4', '', '.6', '', ''])\n",
    "ax.set_xlabel('T', fontsize=10)\n",
    "ax.set_ylabel('Error', fontsize=10)\n",
    "ax.tick_params(axis='both', which='major', labelsize=8)\n",
    "ax.legend(leg, [r\"$\\gamma=10$\", r\"$\\gamma=.1$\", r\"StepLR\"], fontsize=7)\n",
    "fig.savefig('sgd_step_lr_mean.pdf', bbox_inches='tight')"
   ]
  }
 ],
 "metadata": {
  "kernelspec": {
   "display_name": "base",
   "language": "python",
   "name": "python3"
  },
  "language_info": {
   "codemirror_mode": {
    "name": "ipython",
    "version": 3
   },
   "file_extension": ".py",
   "mimetype": "text/x-python",
   "name": "python",
   "nbconvert_exporter": "python",
   "pygments_lexer": "ipython3",
   "version": "3.10.4"
  },
  "orig_nbformat": 4
 },
 "nbformat": 4,
 "nbformat_minor": 2
}
