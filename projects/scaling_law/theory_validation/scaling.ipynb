{
 "cells": [
  {
   "cell_type": "code",
   "execution_count": 1,
   "metadata": {},
   "outputs": [],
   "source": [
    "from math import sqrt\n",
    "\n",
    "import matplotlib.pyplot as plt\n",
    "import numpy as np\n",
    "import torch as th\n",
    "\n",
    "plt.rc('font', family='serif')\n",
    "plt.rc('text', usetex=True)"
   ]
  },
  {
   "cell_type": "code",
   "execution_count": 2,
   "metadata": {},
   "outputs": [],
   "source": [
    "def modular_class(x, m):\n",
    "    return x % m\n",
    "\n",
    "\n",
    "def squared_modular_class(x, m):\n",
    "    return (x**2) % m\n",
    "\n",
    "\n",
    "def get_embeddings(n, d, norm=True):\n",
    "    emb = th.randn(n, d)\n",
    "    if norm:\n",
    "        emb /= emb.norm(dim=1, keepdim=True)\n",
    "    else:\n",
    "        emb /= sqrt(d)\n",
    "    return emb"
   ]
  },
  {
   "attachments": {},
   "cell_type": "markdown",
   "metadata": {},
   "source": [
    "Scaling with respect to T and d jointly"
   ]
  },
  {
   "cell_type": "code",
   "execution_count": 3,
   "metadata": {},
   "outputs": [],
   "source": [
    "# number of input tokens\n",
    "n = 1000\n",
    "# number of output classes\n",
    "m = 5\n",
    "# memory dimension\n",
    "ds = [10, 20, 50, 100, 200, 1000]\n",
    "dmax = np.max(ds)\n",
    "\n",
    "# number of data\n",
    "ts = [10, 100, 1000, 10000]\n",
    "tmax = np.max(ts)\n",
    "\n",
    "# Zipf parameter\n",
    "alpha = 2"
   ]
  },
  {
   "cell_type": "code",
   "execution_count": 4,
   "metadata": {},
   "outputs": [],
   "source": [
    "# Population data\n",
    "all_x = th.arange(n)\n",
    "proba = (all_x + 1.) ** (-alpha)\n",
    "proba /= proba.sum()\n",
    "all_y = modular_class(all_x, m)"
   ]
  },
  {
   "cell_type": "code",
   "execution_count": 5,
   "metadata": {},
   "outputs": [
    {
     "name": "stdout",
     "output_type": "stream",
     "text": [
      "0,1,2,3,4,5,6,7,8,9,10,11,12,13,14,15,16,17,18,19,20,21,22,23,24,25,26,27,28,29,30,31,32,33,34,35,36,37,38,39,40,41,42,43,44,45,46,47,48,49,50,51,52,53,54,55,56,57,58,59,60,61,62,63,64,65,66,67,68,69,70,71,72,73,74,75,76,77,78,79,80,81,82,83,84,85,86,87,88,89,90,91,92,93,94,95,96,97,98,99,"
     ]
    }
   ],
   "source": [
    "P = None\n",
    "rho = 0\n",
    "\n",
    "nb_trials = 100\n",
    "\n",
    "errors = th.zeros(nb_trials, len(ts), len(ds))\n",
    "errors[:] = -1\n",
    "\n",
    "for i_n in range(nb_trials):\n",
    "    # Embeddings\n",
    "    E = get_embeddings(n, dmax, norm=False)\n",
    "    U = get_embeddings(m, dmax, norm=True)\n",
    "    x = th.multinomial(proba, tmax, replacement=True)\n",
    "    y = all_y[x]\n",
    "\n",
    "    for i_t, t in enumerate(ts):\n",
    "\n",
    "        counts = th.bincount(x[:t])\n",
    "        _, order = th.sort(counts, descending=True)\n",
    "        P = th.sum(counts!=0).item()\n",
    "        idx = order[:P]\n",
    "        q = (counts[idx] / counts[idx].sum())**rho\n",
    "\n",
    "        for i_d, d in enumerate(ds):\n",
    "            P = int(d / 12)\n",
    "            W = (E[idx[:P]].T * q[:P]) @ U[all_y[idx[:P]]]\n",
    "\n",
    "            scores = E[:, :d] @ W[:d,:d] @ U[:,:d].T\n",
    "            preds = scores.argmax(dim=1)\n",
    "            errors[i_n, i_t, i_d] = proba[preds != all_y].sum()\n",
    "\n",
    "        # print(len(idx), end=',')\n",
    "    print(i_n, end=',')"
   ]
  },
  {
   "cell_type": "code",
   "execution_count": 6,
   "metadata": {},
   "outputs": [],
   "source": [
    "errors_mean = errors.mean(dim=0)\n",
    "errors_std = errors.std(dim=0)"
   ]
  },
  {
   "cell_type": "code",
   "execution_count": 7,
   "metadata": {},
   "outputs": [
    {
     "data": {
      "image/png": "[encoded data removed]",
      "text/plain": [
       "<Figure size 100x100 with 2 Axes>"
      ]
     },
     "metadata": {},
     "output_type": "display_data"
    }
   ],
   "source": [
    "X, Y = np.meshgrid(ds, ts)\n",
    "fig, ax = plt.subplots(figsize=(1, 1))\n",
    "c = ax.contourf(X, Y, errors_mean.numpy(), levels=20, cmap='RdBu_r')\n",
    "ax.set_xscale('log')\n",
    "ax.set_yscale('log')\n",
    "ax.set_xticks([10, 100, 1000])\n",
    "ax.set_xticklabels([\"10\", \"$10^2$\", r\"$10^3$\"], fontsize=6)\n",
    "ax.set_yticks([10, 100, 1000])\n",
    "ax.set_yticklabels([\"10\", r\"$10^2$\", r\"$10^3$\"], fontsize=6)\n",
    "ax.set_xlabel('$d$', fontsize=8)\n",
    "ax.set_ylabel('$T$', fontsize=8)\n",
    "bar = fig.colorbar(c, ax=ax, ticks=[0, .3, .6, .9])\n",
    "bar.set_ticklabels([r\"$0$\", r\"$0.3$\", r\"$0.6$\", r\"$0.9$\"], fontsize=6)\n",
    "fig.savefig('thres_storage_error.pdf', bbox_inches='tight')\n",
    "# fig.savefig('fill_storage_error.pdf', bbox_inches='tight')"
   ]
  },
  {
   "cell_type": "code",
   "execution_count": 8,
   "metadata": {},
   "outputs": [
    {
     "data": {
      "image/png": "[encoded data removed]",
      "text/plain": [
       "<Figure size 200x150 with 1 Axes>"
      ]
     },
     "metadata": {},
     "output_type": "display_data"
    }
   ],
   "source": [
    "ds = np.asanyarray(ds)\n",
    "ts = np.asanyarray(ts)\n",
    "fig, ax = plt.subplots(figsize=(2, 1.5))\n",
    "for i in range(len(ts)):\n",
    "    ax.plot(ds, errors_mean[i].numpy(), label=f\"$T=10^{int(np.log10(ts[i]))}$\")\n",
    "    ax.fill_between(ds, errors_mean[i].numpy() - .5*errors_std[i].numpy(),\n",
    "                    errors_mean[i].numpy() + .5*errors_std[i].numpy(), alpha=.5)\n",
    "ax.plot(ds, 5*ds.astype(float) ** (-alpha + 1), linestyle='--', c=\"k\")\n",
    "ax.set_xscale('log')\n",
    "ax.set_xticks([10, 100, 1000], fontsize=6)\n",
    "ax.set_yscale('log')\n",
    "# ax.set_yticks([2e-1, 3e-1, 4e-1, 6e-1])\n",
    "# ax.set_yticklabels([2e-1, 3e-1, 4e-1, 6e-1], fontsize=8)\n",
    "ax.set_xlabel('$d$', fontsize=10)\n",
    "ax.set_ylabel('Error', fontsize=10)\n",
    "plt.legend(loc=\"best\", frameon=False, handlelength=.5, ncol=1, fontsize=7)\n",
    "fig.savefig('thres_storage_error_d.pdf', bbox_inches='tight')"
   ]
  },
  {
   "cell_type": "code",
   "execution_count": 9,
   "metadata": {},
   "outputs": [
    {
     "data": {
      "image/png": "[encoded data removed]",
      "text/plain": [
       "<Figure size 200x150 with 1 Axes>"
      ]
     },
     "metadata": {},
     "output_type": "display_data"
    }
   ],
   "source": [
    "fig, ax = plt.subplots(figsize=(2, 1.5))\n",
    "for i in range(2, len(ds), 1):\n",
    "    ax.plot(ts, errors_mean[:, i].numpy(), label=f\"$d={ds[i]}$\")\n",
    "    ax.fill_between(ts, errors_mean[:, i].numpy() - .5*errors_std[:, i].numpy(), errors_mean[:, i].numpy() + .5*errors_std[:, i].numpy(), alpha=.5)\n",
    "ax.plot(ts, .5*ts.astype(float) ** (-1 + 1/alpha), linestyle='--', c=\"k\")\n",
    "ax.set_xscale('log')\n",
    "ax.set_xticks([10, 100, 1000, 1e4], fontsize=6)\n",
    "ax.set_yscale('log')\n",
    "# ax.set_yticks([1e-4, 1e-2, 1], fontsize=6)\n",
    "ax.set_xlabel('$T$', fontsize=10)\n",
    "ax.set_ylabel('Error', fontsize=10)\n",
    "plt.legend(loc=\"best\", frameon=False, handlelength=.5, ncol=1, fontsize=7)\n",
    "fig.savefig('thres_storage_error_T.pdf', bbox_inches='tight')"
   ]
  },
  {
   "attachments": {},
   "cell_type": "markdown",
   "metadata": {},
   "source": [
    "Scaling with respect to d"
   ]
  },
  {
   "cell_type": "code",
   "execution_count": 10,
   "metadata": {},
   "outputs": [],
   "source": [
    "# number of input tokens\n",
    "n = 1000\n",
    "# number of output classes\n",
    "m = 5\n",
    "# memory dimension\n",
    "ds = np.logspace(1, 3, num=20, dtype=int)\n",
    "dmax = np.max(ds)\n",
    "\n",
    "# Zipf parameter\n",
    "alpha = 2"
   ]
  },
  {
   "cell_type": "code",
   "execution_count": 11,
   "metadata": {},
   "outputs": [],
   "source": [
    "# Population data\n",
    "all_x = th.arange(n)\n",
    "proba = (all_x + 1.) ** (-alpha)\n",
    "proba /= proba.sum()\n",
    "all_y = modular_class(all_x, m)"
   ]
  },
  {
   "cell_type": "code",
   "execution_count": 12,
   "metadata": {},
   "outputs": [],
   "source": [
    "nb_trials = 100\n",
    "errors = th.zeros(3, nb_trials, len(ds))\n",
    "errors[:] = -1\n",
    "\n",
    "for i_t in range(nb_trials):\n",
    "    # Embeddings\n",
    "    E = get_embeddings(n, dmax, norm=False)\n",
    "    U = get_embeddings(m, dmax, norm=True)\n",
    "\n",
    "    W_fill = E.T @ U[all_y]\n",
    "    W_weight = E.T * proba @ U[all_y]\n",
    "\n",
    "    for i_d, d in enumerate(ds):\n",
    "        pred_fill = (E[:, :d] @ W_fill[:d,:d] @ U[:,:d].T).argmax(dim=1)\n",
    "        pred_weight = (E[:, :d] @ W_weight[:d,:d] @ U[:,:d].T).argmax(dim=1)\n",
    "\n",
    "        # P = d\n",
    "        # W = E[:P].T @ U[all_y[:P]]\n",
    "        # pred_thres1 = (E[:, :d] @ W[:d,:d] @ U[:,:d].T).argmax(dim=1)\n",
    "\n",
    "        P = int(d / 8)\n",
    "        W = E[:P].T @ U[all_y[:P]]\n",
    "        pred_thres2 = (E[:, :d] @ W[:d,:d] @ U[:,:d].T).argmax(dim=1)\n",
    "        \n",
    "        errors[0, i_t, i_d] = proba[pred_fill != all_y].sum()\n",
    "        errors[1, i_t, i_d] = proba[pred_weight != all_y].sum()\n",
    "        # errors[2, i_t, i_d] = proba[pred_thres1 != all_y].sum()\n",
    "        errors[2, i_t, i_d] = proba[pred_thres2 != all_y].sum()"
   ]
  },
  {
   "cell_type": "code",
   "execution_count": 13,
   "metadata": {},
   "outputs": [],
   "source": [
    "errors_mean = errors.mean(dim=1)\n",
    "errors_std = errors.std(dim=1)"
   ]
  },
  {
   "cell_type": "code",
   "execution_count": 14,
   "metadata": {},
   "outputs": [
    {
     "data": {
      "image/png": "[encoded data removed]",
      "text/plain": [
       "<Figure size 300x200 with 1 Axes>"
      ]
     },
     "metadata": {},
     "output_type": "display_data"
    }
   ],
   "source": [
    "import matplotlib.pyplot as plt\n",
    "import numpy as np\n",
    "plt.rc('font', family='serif')\n",
    "plt.rc('text', usetex=True)\n",
    "\n",
    "fig, ax = plt.subplots(figsize=(3, 2))\n",
    "# fig, ax = plt.subplots(figsize=(1.5, 1))\n",
    "leg = []\n",
    "for i in range(3):\n",
    "    a, = ax.plot(ds, errors_mean[i], color='C' + str(i), linewidth=1)\n",
    "    ax.fill_between(ds, errors_mean[i] - .5*errors_std[i], errors_mean[i] + .5*errors_std[i], alpha=.3)\n",
    "    leg.append(a)\n",
    "\n",
    "ax.plot(ds, .35*ds**(-1/4), color='C1', linestyle='--')\n",
    "ax.plot(ds, 3.5*ds**(-1.), color='C2', linestyle='--')\n",
    "ax.set_xscale('log')\n",
    "ax.set_yscale('log')\n",
    "ax.set_xticks([10, 100, 1000])\n",
    "ax.set_xticklabels([\"10\", r\"$10^2$\", r\"$10^3$\"], fontsize=6)\n",
    "# ax.set_yticks([1e-1, 1e-3, 1e-5])\n",
    "# ax.set_yticklabels([\"$10^{-1}$\", r\"$10^{-3}$\", r\"$10^{-5}$\"], fontsize=6)\n",
    "ax.set_xlabel('d', fontsize=8)\n",
    "ax.set_ylabel(r'Error', fontsize=8)\n",
    "ax.legend(leg, ['$q=1$', '$q=p$', r'$q = 1_{x\\leq d / 8}$'], fontsize=8)\n",
    "fig.savefig('gen_error_bigN.pdf', bbox_inches='tight')\n",
    "# fig.savefig('gen_error.pdf', bbox_inches='tight')"
   ]
  }
 ],
 "metadata": {
  "kernelspec": {
   "display_name": "Python 3 (ipykernel)",
   "language": "python",
   "name": "python3"
  },
  "language_info": {
   "codemirror_mode": {
    "name": "ipython",
    "version": 3
   },
   "file_extension": ".py",
   "mimetype": "text/x-python",
   "name": "python",
   "nbconvert_exporter": "python",
   "pygments_lexer": "ipython3",
   "version": "3.10.4"
  }
 },
 "nbformat": 4,
 "nbformat_minor": 2
}
