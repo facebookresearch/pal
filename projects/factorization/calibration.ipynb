{
 "cells": [
  {
   "cell_type": "markdown",
   "metadata": {},
   "source": [
    "# Calibration"
   ]
  },
  {
   "cell_type": "code",
   "execution_count": null,
   "metadata": {},
   "outputs": [],
   "source": [
    "%load_ext autoreload\n",
    "%autoreload 2"
   ]
  },
  {
   "cell_type": "code",
   "execution_count": null,
   "metadata": {},
   "outputs": [],
   "source": [
    "import logging\n",
    "\n",
    "import matplotlib.pyplot as plt\n",
    "import numpy as np\n",
    "from matplotlib import rc\n",
    "\n",
    "from analysis import load_configs, load_experimental_results, get_stats\n",
    "from factorization.config import IMAGE_DIR, USETEX\n",
    "from factorization.models.mlp import Model\n",
    "\n",
    "logging.basicConfig(level=logging.INFO)\n",
    "\n",
    "\n",
    "rc(\"font\", family=\"serif\", size=8)\n",
    "rc(\"text\", usetex=USETEX)\n",
    "if USETEX:\n",
    "    rc(\"text.latex\", preamble=r\"\\usepackage{times}\")\n",
    "\n",
    "\n",
    "def get_names(name):\n",
    "    match name:\n",
    "        case \"dim\":\n",
    "            return \"calibration/emb\", [\"emb_dim\"]\n",
    "        case \"ffn\":\n",
    "            return \"calibration/ffn\", [\"ffn_dim\"]\n",
    "        case \"ffn_bis\":\n",
    "            return \"calibration/ffn_bis\", [\"ffn_dim\"]\n",
    "        case \"layer\":\n",
    "            return \"calibration/layer\", [\"nb_layers\"]\n",
    "        case \"layer_bis\":\n",
    "            return \"calibration/layer_bis\", [\"nb_layers\"]\n",
    "        case \"lr\":\n",
    "            return \"calibration/lr\", [\"learning_rate\"]\n",
    "        case \"scheduler\":\n",
    "            return \"calibration/lr_schedule\", [\"learning_rate\"]"
   ]
  },
  {
   "cell_type": "code",
   "execution_count": null,
   "metadata": {},
   "outputs": [],
   "source": [
    "save_fig = True"
   ]
  },
  {
   "cell_type": "markdown",
   "metadata": {},
   "source": [
    "## Embedding dimension"
   ]
  },
  {
   "cell_type": "code",
   "execution_count": null,
   "metadata": {},
   "outputs": [],
   "source": [
    "name = \"dim\"\n",
    "xaxis = \"flops\"\n",
    "\n",
    "kwargs = {\n",
    "    \"input_factors\": [2, 2, 2, 2, 2, 2, 2, 2, 2, 2, 2, 2],\n",
    "    # \"input_factors\": [8, 8, 8, 8],\n",
    "    \"output_factors\": [8, 8, 8, 8],\n",
    "    # \"output_factors\": [4096],\n",
    "    \"learning_rate\": 1e-2,\n",
    "}\n",
    "\n",
    "file_path, study_factors = get_names(name)"
   ]
  },
  {
   "cell_type": "code",
   "execution_count": null,
   "metadata": {},
   "outputs": [],
   "source": [
    "all_configs = load_configs(file_path)\n",
    "res = load_experimental_results(all_configs, **kwargs)"
   ]
  },
  {
   "cell_type": "code",
   "execution_count": null,
   "metadata": {},
   "outputs": [],
   "source": [
    "res['flops'] = Model.get_flops(res['emb_dim'], res['ffn_dim'], res['nb_layers'], res['output_size'])\n",
    "res['flops'] *= res['epoch'] * res['input_size']"
   ]
  },
  {
   "cell_type": "code",
   "execution_count": null,
   "metadata": {},
   "outputs": [],
   "source": [
    "all_mean, all_std, keys = get_stats(res, study_factors, xaxis=xaxis, **kwargs)"
   ]
  },
  {
   "cell_type": "code",
   "execution_count": null,
   "metadata": {},
   "outputs": [],
   "source": [
    "if save_fig:\n",
    "    fig, ax = plt.subplots(1, 1, figsize=(1.75, 1.5))\n",
    "else:\n",
    "    fig, axes = plt.subplots(1, 2, figsize=(10, 5))\n",
    "    ax = axes[0]\n",
    "\n",
    "y_name = \"test_loss\"\n",
    "legend = []\n",
    "all_plots = []\n",
    "for val, val_std in zip(all_mean, all_std):\n",
    "    a, = ax.plot(val[y_name], linewidth=1.5)\n",
    "    all_plots.append(a)\n",
    "    # leg = ' '.join([rf'{key}={val[key].values[0]}' for key in keys])\n",
    "    leg = rf'$d=${val[keys[0]].values[0]}'\n",
    "    legend.append(leg)\n",
    "ax.set_yscale('log')\n",
    "ax.set_xscale('log')\n",
    "ax.set_xlim(1e10, 1e13)\n",
    "ax.set_xlabel(\"Flop\", fontsize=8)\n",
    "ax.set_ylabel(r\"Test loss ${\\cal L}_{\\text{unobs.}}$\", fontsize=8)\n",
    "ax.tick_params(axis='both', labelsize=6)\n",
    "ax.grid()\n",
    "if save_fig:\n",
    "    fig.savefig(IMAGE_DIR / f'{name}_{len(kwargs[\"input_factors\"])}_{len(kwargs[\"output_factors\"])}.pdf', bbox_inches='tight')\n",
    "\n",
    "if save_fig:\n",
    "    fig, ax = plt.subplots(1, 1, figsize=(.25, 1.5))\n",
    "    leg = ax.legend(all_plots, legend, loc='center', ncol=1, fontsize=6)\n",
    "    ax.axis('off')\n",
    "    fig.savefig(IMAGE_DIR / f'cal0_{name}_leg.pdf', bbox_inches='tight')\n",
    "else:\n",
    "    ax = axes[1]\n",
    "    leg = ax.legend(all_plots, legend, loc='center', ncol=1, fontsize=12)\n",
    "    ax.axis('off')"
   ]
  },
  {
   "cell_type": "markdown",
   "metadata": {},
   "source": [
    "## FFN dimension"
   ]
  },
  {
   "cell_type": "code",
   "execution_count": null,
   "metadata": {},
   "outputs": [],
   "source": [
    "name = \"ffn\"\n",
    "xaxis = \"flops\"\n",
    "\n",
    "kwargs = {\n",
    "    # \"input_factors\": [2, 2, 2, 2, 2, 2, 2, 2, 2, 2, 2, 2],\n",
    "    \"input_factors\": [8, 8, 8, 8],\n",
    "    # \"output_factors\": [8, 8, 8, 8],\n",
    "    \"output_factors\": [4096],\n",
    "    \"learning_rate\": 1e-2,\n",
    "}\n",
    "\n",
    "file_path, study_factors = get_names(name)"
   ]
  },
  {
   "cell_type": "code",
   "execution_count": null,
   "metadata": {},
   "outputs": [],
   "source": [
    "all_configs = load_configs(file_path)\n",
    "res = load_experimental_results(all_configs, **kwargs)"
   ]
  },
  {
   "cell_type": "code",
   "execution_count": null,
   "metadata": {},
   "outputs": [],
   "source": [
    "res['flops'] = Model.get_flops(res['emb_dim'], res['ffn_dim'], res['nb_layers'], res['output_size'])\n",
    "res['flops'] *= res['epoch'] * res['input_size']"
   ]
  },
  {
   "cell_type": "code",
   "execution_count": null,
   "metadata": {},
   "outputs": [],
   "source": [
    "all_mean, all_std, keys = get_stats(res, study_factors, xaxis=xaxis, **kwargs)"
   ]
  },
  {
   "cell_type": "code",
   "execution_count": null,
   "metadata": {},
   "outputs": [],
   "source": [
    "if save_fig:\n",
    "    fig, ax = plt.subplots(1, 1, figsize=(1.75, 1.5))\n",
    "else:\n",
    "    fig, axes = plt.subplots(1, 2, figsize=(10, 5))\n",
    "    ax = axes[0]\n",
    "\n",
    "y_name = \"test_loss\"\n",
    "legend = []\n",
    "all_plots = []\n",
    "for val, val_std in zip(all_mean, all_std):\n",
    "    a, = ax.plot(val[y_name], linewidth=1.5)\n",
    "    all_plots.append(a)\n",
    "    # leg = ' '.join([rf'{key}={val[key].values[0]}' for key in keys])\n",
    "    leg = rf'$h={val[keys[0]].values[0]//64}d$'\n",
    "    legend.append(leg)\n",
    "ax.set_yscale('log')\n",
    "ax.set_xscale('log')\n",
    "ax.set_xlabel(\"Flop\", fontsize=8)\n",
    "ax.set_ylabel(r\"Test loss ${\\cal L}_{\\text{unobs.}}$\", fontsize=8)\n",
    "ax.tick_params(axis='both', labelsize=6)\n",
    "ax.grid()\n",
    "if save_fig:\n",
    "    fig.savefig(IMAGE_DIR / f'{name}__{len(kwargs[\"input_factors\"])}_{len(kwargs[\"output_factors\"])}.pdf', bbox_inches='tight')\n",
    "\n",
    "if save_fig:\n",
    "    fig, ax = plt.subplots(1, 1, figsize=(.25, 1.5))\n",
    "    leg = ax.legend(all_plots, legend, loc='center', ncol=1, fontsize=6)\n",
    "    ax.axis('off')\n",
    "    fig.savefig(IMAGE_DIR / f'{name}_leg.pdf', bbox_inches='tight')\n",
    "else:\n",
    "    ax = axes[1]\n",
    "    leg = ax.legend(all_plots, legend, loc='center', ncol=1, fontsize=12)\n",
    "    ax.axis('off')"
   ]
  },
  {
   "cell_type": "markdown",
   "metadata": {},
   "source": [
    "With smaller spaces"
   ]
  },
  {
   "cell_type": "code",
   "execution_count": null,
   "metadata": {},
   "outputs": [],
   "source": [
    "name = \"ffn_bis\"\n",
    "xaxis = \"flops\"\n",
    "\n",
    "kwargs = {\n",
    "    # \"input_factors\": [2, 2, 2, 3, 3, 5],\n",
    "    \"input_factors\": [3, 4, 5, 6],\n",
    "    # \"output_factors\": [2, 2, 3, 3],\n",
    "    \"output_factors\": [36],\n",
    "    \"learning_rate\": 1e-2,\n",
    "}\n",
    "\n",
    "file_path, study_factors = get_names(name)"
   ]
  },
  {
   "cell_type": "code",
   "execution_count": null,
   "metadata": {},
   "outputs": [],
   "source": [
    "all_configs = load_configs(file_path)\n",
    "res = load_experimental_results(all_configs, **kwargs)"
   ]
  },
  {
   "cell_type": "code",
   "execution_count": null,
   "metadata": {},
   "outputs": [],
   "source": [
    "res['flops'] = Model.get_flops(res['emb_dim'], res['ffn_dim'], res['nb_layers'], res['output_size'])\n",
    "res['flops'] *= res['epoch'] * res['input_size']"
   ]
  },
  {
   "cell_type": "code",
   "execution_count": null,
   "metadata": {},
   "outputs": [],
   "source": [
    "all_mean, all_std, keys = get_stats(res, study_factors, xaxis=xaxis, **kwargs)"
   ]
  },
  {
   "cell_type": "code",
   "execution_count": null,
   "metadata": {},
   "outputs": [],
   "source": [
    "if save_fig:\n",
    "    fig, ax = plt.subplots(1, 1, figsize=(1.75, 1.5))\n",
    "else:\n",
    "    fig, axes = plt.subplots(1, 2, figsize=(10, 5))\n",
    "    ax = axes[0]\n",
    "\n",
    "y_name = \"test_loss\"\n",
    "legend = []\n",
    "all_plots = []\n",
    "for val, val_std in zip(all_mean, all_std):\n",
    "    a, = ax.plot(val[y_name], linewidth=1.5)\n",
    "    all_plots.append(a)\n",
    "    # leg = ' '.join([rf'{key}={val[key].values[0]}' for key in keys])\n",
    "    leg = rf'$h={val[keys[0]].values[0]//64}d$'\n",
    "    legend.append(leg)\n",
    "ax.set_yscale('log')\n",
    "ax.set_xscale('log')\n",
    "ax.set_xlabel(\"Flop\", fontsize=8)\n",
    "ax.set_ylabel(r\"Test loss ${\\cal L}_{\\text{unobs.}}$\", fontsize=8)\n",
    "ax.tick_params(axis='both', labelsize=6)\n",
    "ax.grid()\n",
    "if save_fig:\n",
    "    fig.savefig(IMAGE_DIR / f'{name}_{len(kwargs[\"input_factors\"])}_{len(kwargs[\"output_factors\"])}.pdf', bbox_inches='tight')\n",
    "\n",
    "if save_fig:\n",
    "    fig, ax = plt.subplots(1, 1, figsize=(.25, 1.5))\n",
    "    leg = ax.legend(all_plots, legend, loc='center', ncol=1, fontsize=6)\n",
    "    ax.axis('off')\n",
    "    fig.savefig(IMAGE_DIR / f'{name}_leg.pdf', bbox_inches='tight')\n",
    "else:\n",
    "    ax = axes[1]\n",
    "    leg = ax.legend(all_plots, legend, loc='center', ncol=1, fontsize=12)\n",
    "    ax.axis('off')"
   ]
  },
  {
   "cell_type": "markdown",
   "metadata": {},
   "source": [
    "## Number of layers"
   ]
  },
  {
   "cell_type": "code",
   "execution_count": null,
   "metadata": {},
   "outputs": [],
   "source": [
    "name = \"layer\"\n",
    "xaxis = \"flops\"\n",
    "\n",
    "kwargs = {\n",
    "    # \"input_factors\": [2, 2, 2, 2, 2, 2, 2, 2, 2, 2, 2, 2],\n",
    "    \"input_factors\": [8, 8, 8, 8],\n",
    "    # \"output_factors\": [8, 8, 8, 8],\n",
    "    \"output_factors\": [4096],\n",
    "    \"learning_rate\": 1e-2,\n",
    "}\n",
    "\n",
    "file_path, study_factors = get_names(name)"
   ]
  },
  {
   "cell_type": "code",
   "execution_count": null,
   "metadata": {},
   "outputs": [],
   "source": [
    "all_configs = load_configs(file_path)\n",
    "res = load_experimental_results(all_configs, **kwargs)"
   ]
  },
  {
   "cell_type": "code",
   "execution_count": null,
   "metadata": {},
   "outputs": [],
   "source": [
    "res['flops'] = Model.get_flops(res['emb_dim'], res['ffn_dim'], res['nb_layers'], res['output_size'])\n",
    "res['flops'] *= res['epoch'] * res['input_size']"
   ]
  },
  {
   "cell_type": "code",
   "execution_count": null,
   "metadata": {},
   "outputs": [],
   "source": [
    "all_mean, all_std, keys = get_stats(res, study_factors, xaxis=xaxis, **kwargs)"
   ]
  },
  {
   "cell_type": "code",
   "execution_count": null,
   "metadata": {},
   "outputs": [],
   "source": [
    "if save_fig:\n",
    "    fig, ax = plt.subplots(1, 1, figsize=(1.75, 1.5))\n",
    "else:\n",
    "    fig, axes = plt.subplots(1, 2, figsize=(10, 5))\n",
    "    ax = axes[0]\n",
    "\n",
    "y_name = \"test_loss\"\n",
    "legend = []\n",
    "all_plots = []\n",
    "for val, val_std in zip(all_mean, all_std):\n",
    "    a, = ax.plot(val[y_name], linewidth=1.5)\n",
    "    all_plots.append(a)\n",
    "    # leg = ' '.join([rf'{key}={val[key].values[0]}' for key in keys])\n",
    "    leg = rf'L={val[keys[0]].values[0]}'\n",
    "    legend.append(leg)\n",
    "ax.set_yscale('log')\n",
    "ax.set_xscale('log')\n",
    "ax.set_xlabel(\"Flop\", fontsize=8)\n",
    "ax.set_ylabel(r\"Test loss ${\\cal L}_{\\text{unobs.}}$\", fontsize=8)\n",
    "ax.tick_params(axis='both', labelsize=6)\n",
    "ax.grid()\n",
    "if save_fig:\n",
    "    fig.savefig(IMAGE_DIR / f'{name}_{len(kwargs[\"input_factors\"])}_{len(kwargs[\"output_factors\"])}.pdf', bbox_inches='tight')\n",
    "\n",
    "if save_fig:\n",
    "    fig, ax = plt.subplots(1, 1, figsize=(.25, 1.5))\n",
    "    leg = ax.legend(all_plots, legend, loc='center', ncol=1, fontsize=6)\n",
    "    ax.axis('off')\n",
    "    fig.savefig(IMAGE_DIR / f'{name}_leg.pdf', bbox_inches='tight')\n",
    "else:\n",
    "    ax = axes[1]\n",
    "    leg = ax.legend(all_plots, legend, loc='center', ncol=1, fontsize=12)\n",
    "    ax.axis('off')"
   ]
  },
  {
   "cell_type": "markdown",
   "metadata": {},
   "source": [
    "With smaller spaces"
   ]
  },
  {
   "cell_type": "code",
   "execution_count": null,
   "metadata": {},
   "outputs": [],
   "source": [
    "name = \"layer_bis\"\n",
    "xaxis = \"flops\"\n",
    "\n",
    "kwargs = {\n",
    "    # \"input_factors\": [2, 2, 2, 3, 3, 5],\n",
    "    \"input_factors\": [3, 4, 5, 6],\n",
    "    # \"output_factors\": [2, 2, 3, 3],\n",
    "    \"output_factors\": [36],\n",
    "    \"learning_rate\": 1e-2,\n",
    "}\n",
    "\n",
    "file_path, study_factors = get_names(name)"
   ]
  },
  {
   "cell_type": "code",
   "execution_count": null,
   "metadata": {},
   "outputs": [],
   "source": [
    "all_configs = load_configs(file_path)\n",
    "res = load_experimental_results(all_configs, **kwargs)"
   ]
  },
  {
   "cell_type": "code",
   "execution_count": null,
   "metadata": {},
   "outputs": [],
   "source": [
    "res['flops'] = Model.get_flops(res['emb_dim'], res['ffn_dim'], res['nb_layers'], res['output_size'])\n",
    "res['flops'] *= res['epoch'] * res['input_size']"
   ]
  },
  {
   "cell_type": "code",
   "execution_count": null,
   "metadata": {},
   "outputs": [],
   "source": [
    "all_mean, all_std, keys = get_stats(res, study_factors, xaxis=xaxis, **kwargs)"
   ]
  },
  {
   "cell_type": "code",
   "execution_count": null,
   "metadata": {},
   "outputs": [],
   "source": [
    "if save_fig:\n",
    "    fig, ax = plt.subplots(1, 1, figsize=(1.75, 1.5))\n",
    "else:\n",
    "    fig, axes = plt.subplots(1, 2, figsize=(10, 5))\n",
    "    ax = axes[0]\n",
    "\n",
    "y_name = \"test_loss\"\n",
    "legend = []\n",
    "all_plots = []\n",
    "for val, val_std in zip(all_mean, all_std):\n",
    "    a, = ax.plot(val[y_name], linewidth=1.5)\n",
    "    all_plots.append(a)\n",
    "    # leg = ' '.join([rf'{key}={val[key].values[0]}' for key in keys])\n",
    "    leg = rf'L={val[keys[0]].values[0]}'\n",
    "    legend.append(leg)\n",
    "ax.set_yscale('log')\n",
    "ax.set_xscale('log')\n",
    "ax.set_xlabel(\"Flop\", fontsize=8)\n",
    "ax.set_ylabel(r\"Test loss ${\\cal L}_{\\text{unobs.}}$\", fontsize=8)\n",
    "ax.tick_params(axis='both', labelsize=6)\n",
    "ax.grid()\n",
    "if save_fig:\n",
    "    fig.savefig(IMAGE_DIR / f'{name}_{len(kwargs[\"input_factors\"])}_{len(kwargs[\"output_factors\"])}.pdf', bbox_inches='tight')\n",
    "\n",
    "if save_fig:\n",
    "    fig, ax = plt.subplots(1, 1, figsize=(.25, 1.5))\n",
    "    leg = ax.legend(all_plots, legend, loc='center', ncol=1, fontsize=6)\n",
    "    ax.axis('off')\n",
    "    fig.savefig(IMAGE_DIR / f'{name}_leg.pdf', bbox_inches='tight')\n",
    "else:\n",
    "    ax = axes[1]\n",
    "    leg = ax.legend(all_plots, legend, loc='center', ncol=1, fontsize=12)\n",
    "    ax.axis('off')"
   ]
  },
  {
   "cell_type": "markdown",
   "metadata": {},
   "source": [
    "## Learning rate"
   ]
  },
  {
   "cell_type": "code",
   "execution_count": null,
   "metadata": {},
   "outputs": [],
   "source": [
    "name = \"lr\"\n",
    "xaxis = \"epoch\"\n",
    "\n",
    "kwargs = {\n",
    "    # \"input_factors\": [2, 2, 2, 2, 2, 2, 2, 2, 2, 2, 2, 2],\n",
    "    \"input_factors\": [8, 8, 8, 8],\n",
    "    # \"output_factors\": [8, 8, 8, 8],\n",
    "    \"output_factors\": [4096],\n",
    "    \"nb_epochs\": [1000],\n",
    "    # \"seed\": 0,\n",
    "}\n",
    "\n",
    "file_path, study_factors = get_names(name)"
   ]
  },
  {
   "cell_type": "code",
   "execution_count": null,
   "metadata": {},
   "outputs": [],
   "source": [
    "all_configs = load_configs(file_path)\n",
    "res = load_experimental_results(all_configs, **kwargs)"
   ]
  },
  {
   "cell_type": "code",
   "execution_count": null,
   "metadata": {},
   "outputs": [],
   "source": [
    "all_mean, all_std, keys = get_stats(res, study_factors, xaxis=xaxis, **kwargs)"
   ]
  },
  {
   "cell_type": "code",
   "execution_count": null,
   "metadata": {},
   "outputs": [],
   "source": [
    "if save_fig:\n",
    "    fig, ax = plt.subplots(1, 1, figsize=(1.75, 1.5))\n",
    "else:\n",
    "    fig, axes = plt.subplots(1, 2, figsize=(10, 5))\n",
    "    ax = axes[0]\n",
    "\n",
    "y_name = \"test_loss\"\n",
    "legend = []\n",
    "all_plots = []\n",
    "for val, val_std in zip(all_mean, all_std):\n",
    "    a, = ax.plot(val[y_name], linewidth=1.5)\n",
    "    all_plots.append(a)\n",
    "    # leg = ' '.join([rf'{key}={val[key].values[0]}' for key in keys])\n",
    "    leg = rf'$\\eta=${val[keys[0]].values[0]}'\n",
    "    legend.append(leg)\n",
    "ax.set_yscale('log')\n",
    "ax.set_xscale('log')\n",
    "ax.set_xlabel(\"Epoch\", fontsize=8)\n",
    "ax.set_ylabel(r\"Test loss ${\\cal L}_{\\text{unobs.}}$\", fontsize=8)\n",
    "ax.tick_params(axis='both', labelsize=6)\n",
    "ax.grid()\n",
    "if save_fig:\n",
    "    fig.savefig(IMAGE_DIR / f'{name}_{len(kwargs[\"input_factors\"])}_{len(kwargs[\"output_factors\"])}.pdf', bbox_inches='tight')\n",
    "\n",
    "if save_fig:\n",
    "    fig, ax = plt.subplots(1, 1, figsize=(.25, 1.5))\n",
    "    leg = ax.legend(all_plots, legend, loc='center', ncol=1, fontsize=6)\n",
    "    ax.axis('off')\n",
    "    fig.savefig(IMAGE_DIR / f'{name}_leg.pdf', bbox_inches='tight')\n",
    "else:\n",
    "    ax = axes[1]\n",
    "    leg = ax.legend(all_plots, legend, loc='center', ncol=1, fontsize=12)\n",
    "    ax.axis('off')"
   ]
  },
  {
   "cell_type": "markdown",
   "metadata": {},
   "source": [
    "## Homemade Scheduler"
   ]
  },
  {
   "cell_type": "code",
   "execution_count": null,
   "metadata": {},
   "outputs": [],
   "source": [
    "name = \"scheduler\"\n",
    "xaxis = \"epoch\"\n",
    "file_path, study_factors = get_names(name)\n",
    "all_configs = load_configs(file_path)\n",
    "res = load_experimental_results(all_configs, **kwargs)\n",
    "all_mean_bis, all_std_bis, keys_bis = get_stats(res, study_factors, xaxis=xaxis, **kwargs)"
   ]
  },
  {
   "cell_type": "code",
   "execution_count": null,
   "metadata": {},
   "outputs": [],
   "source": [
    "if save_fig:\n",
    "    fig, ax = plt.subplots(1, 1, figsize=(1.75, 1.5))\n",
    "else:\n",
    "    fig, axes = plt.subplots(1, 2, figsize=(10, 5))\n",
    "    ax = axes[0]\n",
    "\n",
    "y_name = \"test_loss\"\n",
    "legend = []\n",
    "all_plots = []\n",
    "for val, val_std in zip(all_mean, all_std):\n",
    "    a, = ax.plot(val[y_name], linewidth=1.5)\n",
    "    all_plots.append(a)\n",
    "    # leg = ' '.join([rf'{key}={val[key].values[0]}' for key in keys])\n",
    "    leg = rf'$\\eta=${val[keys[0]].values[0]}'\n",
    "    legend.append(leg)\n",
    "for val, val_std in zip(all_mean_bis, all_std_bis):\n",
    "    a, = ax.plot(val[y_name], linewidth=1.5)\n",
    "    all_plots.append(a)\n",
    "    # leg = ' '.join([rf'{key}={val[key].values[0]}' for key in keys])\n",
    "    leg = 'custom'\n",
    "    legend.append(leg)\n",
    "ax.set_yscale('log')\n",
    "ax.set_xscale('log')\n",
    "ax.set_xlabel(\"Epoch\", fontsize=8)\n",
    "ax.set_ylabel(r\"Test loss ${\\cal L}_{\\text{unobs.}}$\", fontsize=8)\n",
    "ax.tick_params(axis='both', labelsize=6)\n",
    "ax.grid()\n",
    "if save_fig:\n",
    "    fig.savefig(IMAGE_DIR / f'{name}_{len(kwargs[\"input_factors\"])}_{len(kwargs[\"output_factors\"])}.pdf', bbox_inches='tight')\n",
    "\n",
    "if save_fig:\n",
    "    fig, ax = plt.subplots(1, 1, figsize=(.25, 1.5))\n",
    "    leg = ax.legend(all_plots, legend, loc='center', ncol=1, fontsize=6)\n",
    "    ax.axis('off')\n",
    "    fig.savefig(IMAGE_DIR / f'{name}_leg.pdf', bbox_inches='tight')\n",
    "else:\n",
    "    ax = axes[1]\n",
    "    leg = ax.legend(all_plots, legend, loc='center', ncol=1, fontsize=12)\n",
    "    ax.axis('off')"
   ]
  },
  {
   "cell_type": "code",
   "execution_count": null,
   "metadata": {},
   "outputs": [],
   "source": []
  }
 ],
 "metadata": {
  "kernelspec": {
   "display_name": "llm",
   "language": "python",
   "name": "python3"
  },
  "language_info": {
   "codemirror_mode": {
    "name": "ipython",
    "version": 3
   },
   "file_extension": ".py",
   "mimetype": "text/x-python",
   "name": "python",
   "nbconvert_exporter": "python",
   "pygments_lexer": "ipython3",
   "version": "3.11.5"
  }
 },
 "nbformat": 4,
 "nbformat_minor": 2
}
