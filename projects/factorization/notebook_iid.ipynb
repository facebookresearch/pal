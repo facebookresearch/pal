{
 "cells": [
  {
   "cell_type": "markdown",
   "metadata": {},
   "source": [
    "# Single pass study"
   ]
  },
  {
   "cell_type": "code",
   "execution_count": null,
   "metadata": {},
   "outputs": [],
   "source": [
    "%load_ext autoreload\n",
    "%autoreload 2"
   ]
  },
  {
   "cell_type": "code",
   "execution_count": null,
   "metadata": {},
   "outputs": [],
   "source": [
    "import logging\n",
    "\n",
    "import matplotlib.pyplot as plt\n",
    "import numpy as np\n",
    "from matplotlib import rc\n",
    "\n",
    "from analysis import load_configs, load_experimental_results, get_stats\n",
    "from factorization.config import IMAGE_DIR, USETEX\n",
    "from factorization.models.mlp import Model\n",
    "\n",
    "logging.basicConfig(level=logging.INFO)\n",
    "\n",
    "\n",
    "rc(\"font\", family=\"serif\", size=8)\n",
    "rc(\"text\", usetex=USETEX)\n",
    "if USETEX:\n",
    "    rc(\"text.latex\", preamble=r\"\\usepackage{times}\")\n",
    "\n",
    "\n",
    "def get_names(name):\n",
    "    match name:\n",
    "        case \"iid\":\n",
    "            return \"iid\", [\"statistical_complexity\"]"
   ]
  },
  {
   "cell_type": "code",
   "execution_count": null,
   "metadata": {},
   "outputs": [],
   "source": [
    "save_fig = False"
   ]
  },
  {
   "cell_type": "code",
   "execution_count": null,
   "metadata": {},
   "outputs": [],
   "source": [
    "name = \"iid\"\n",
    "xaxis = \"epoch\"\n",
    "\n",
    "kwargs = {\n",
    "    # \"nb_parents\": 3,\n",
    "    \"alphas\": 1e-1,\n",
    "}\n",
    "\n",
    "file_path, study_factors = get_names(name)"
   ]
  },
  {
   "cell_type": "code",
   "execution_count": null,
   "metadata": {},
   "outputs": [],
   "source": [
    "all_configs = load_configs(file_path)\n",
    "res = load_experimental_results(all_configs, **kwargs)"
   ]
  },
  {
   "cell_type": "code",
   "execution_count": null,
   "metadata": {},
   "outputs": [],
   "source": [
    "all_mean, all_std, keys = get_stats(res, study_factors, xaxis=xaxis, **kwargs)"
   ]
  },
  {
   "cell_type": "code",
   "execution_count": null,
   "metadata": {},
   "outputs": [],
   "source": [
    "if save_fig:\n",
    "    fig, ax = plt.subplots(1, 1, figsize=(1.75, 1.5))\n",
    "else:\n",
    "    fig, axes = plt.subplots(1, 2, figsize=(10, 5))\n",
    "    ax = axes[0]\n",
    "\n",
    "y_name = \"test_loss\"\n",
    "legend = []\n",
    "all_plots = []\n",
    "ind = 0\n",
    "for val, val_std in zip(all_mean, all_std):\n",
    "    ind += 1\n",
    "    # if ind % 2 == 0:\n",
    "        # continue\n",
    "    a, = ax.plot(val[y_name], linewidth=1.5)\n",
    "    all_plots.append(a)\n",
    "    # leg = ' '.join([rf'{key}={val[key].values[0]}' for key in keys])\n",
    "    leg = r'$\\chi=$' + f'{val[keys[0]].values[0]}'\n",
    "    legend.append(leg)\n",
    "ax.set_yscale('log')\n",
    "ax.set_xscale('log')\n",
    "ax.set_xlabel(\"Epoch\", fontsize=8)\n",
    "ax.set_ylabel(r\"Loss ${\\cal L}$\", fontsize=8)\n",
    "ax.tick_params(axis='both', labelsize=6)\n",
    "ax.grid()\n",
    "if save_fig:\n",
    "    fig.savefig(IMAGE_DIR / f'{name}.pdf', bbox_inches='tight')\n",
    "\n",
    "if save_fig:\n",
    "    fig, ax = plt.subplots(1, 1, figsize=(.25, 1.5))\n",
    "    leg = ax.legend(all_plots, legend, loc='center', ncol=1, fontsize=6)\n",
    "    ax.axis('off')\n",
    "    fig.savefig(IMAGE_DIR / f'{name}_leg.pdf', bbox_inches='tight')\n",
    "else:\n",
    "    ax = axes[1]\n",
    "    leg = ax.legend(all_plots, legend, loc='center', ncol=1, fontsize=12)\n",
    "    ax.axis('off')"
   ]
  }
 ],
 "metadata": {
  "kernelspec": {
   "display_name": "llm",
   "language": "python",
   "name": "python3"
  },
  "language_info": {
   "codemirror_mode": {
    "name": "ipython",
    "version": 3
   },
   "file_extension": ".py",
   "mimetype": "text/x-python",
   "name": "python",
   "nbconvert_exporter": "python",
   "pygments_lexer": "ipython3",
   "version": "3.11.5"
  }
 },
 "nbformat": 4,
 "nbformat_minor": 2
}
