{
 "cells": [
  {
   "cell_type": "markdown",
   "metadata": {},
   "source": [
    "# Compression study"
   ]
  },
  {
   "cell_type": "code",
   "execution_count": null,
   "metadata": {},
   "outputs": [],
   "source": [
    "%load_ext autoreload\n",
    "%autoreload 2"
   ]
  },
  {
   "cell_type": "code",
   "execution_count": null,
   "metadata": {},
   "outputs": [],
   "source": [
    "import logging\n",
    "\n",
    "import matplotlib.pyplot as plt\n",
    "import numpy as np\n",
    "from matplotlib import rc\n",
    "\n",
    "from analysis import load_configs, load_experimental_results, get_stats\n",
    "from factorization.config import IMAGE_DIR, USETEX\n",
    "from factorization.models.mlp import Model\n",
    "\n",
    "logging.basicConfig(level=logging.INFO)\n",
    "\n",
    "\n",
    "rc(\"font\", family=\"serif\", size=8)\n",
    "rc(\"text\", usetex=USETEX)\n",
    "if USETEX:\n",
    "    rc(\"text.latex\", preamble=r\"\\usepackage{times}\")\n",
    "\n",
    "\n",
    "def get_names(name):\n",
    "    match name:\n",
    "        case \"compression\":\n",
    "            return \"compression\", [\"compression_complexity\", \"statistical_complexity\", \"emb_dim\", \"scheduler\"]\n",
    "        case \"compression_bis\":\n",
    "            return \"compression_bis\", [\"compression_complexity\", \"statistical_complexity\", \"emb_dim\", \"scheduler\"]"
   ]
  },
  {
   "cell_type": "code",
   "execution_count": null,
   "metadata": {},
   "outputs": [],
   "source": [
    "save_fig = True"
   ]
  },
  {
   "cell_type": "markdown",
   "metadata": {},
   "source": [
    "## Verification of the convergence"
   ]
  },
  {
   "cell_type": "code",
   "execution_count": null,
   "metadata": {},
   "outputs": [],
   "source": [
    "name = \"compression_bis\"\n",
    "xaxis = \"epoch\"\n",
    "\n",
    "kwargs = {\n",
    "    \"scheduler\": \"custom\",\n",
    "    \"emb_dim\": 24,\n",
    "}\n",
    "\n",
    "file_path, study_factors = get_names(name)"
   ]
  },
  {
   "cell_type": "code",
   "execution_count": null,
   "metadata": {},
   "outputs": [],
   "source": [
    "all_configs = load_configs(file_path)\n",
    "res = load_experimental_results(all_configs, **kwargs)"
   ]
  },
  {
   "cell_type": "code",
   "execution_count": null,
   "metadata": {},
   "outputs": [],
   "source": [
    "all_mean, all_std, keys = get_stats(res, study_factors, xaxis=xaxis, **kwargs)"
   ]
  },
  {
   "cell_type": "code",
   "execution_count": null,
   "metadata": {},
   "outputs": [],
   "source": [
    "if save_fig:\n",
    "    fig, ax = plt.subplots(1, 1, figsize=(1.75, 1.5))\n",
    "else:\n",
    "    fig, axes = plt.subplots(1, 2, figsize=(10, 5))\n",
    "    ax = axes[0]\n",
    "\n",
    "y_name = \"loss\"\n",
    "legend = []\n",
    "all_plots = []\n",
    "for val, val_std in zip(all_mean, all_std):\n",
    "    if val.shape[0] == 0:\n",
    "        continue\n",
    "    a, = ax.plot(val[y_name], linewidth=1.5)\n",
    "    all_plots.append(a)\n",
    "    leg = ' '.join([rf'{key}={val[key].values[0]}' for key in keys])\n",
    "    legend.append(leg)\n",
    "ax.set_yscale('log')\n",
    "ax.set_xscale('log')\n",
    "ax.set_xlabel(\"Epoch\", fontsize=8)\n",
    "ax.set_ylabel(r\"Loss ${\\cal L}$\", fontsize=8)\n",
    "ax.tick_params(axis='both', labelsize=6)\n",
    "ax.grid()\n",
    "if save_fig:\n",
    "    fig.savefig(IMAGE_DIR / f'{name}.pdf', bbox_inches='tight')\n",
    "\n",
    "if save_fig:\n",
    "    fig, ax = plt.subplots(1, 1, figsize=(.25, 1.5))\n",
    "    leg = ax.legend(all_plots, legend, loc='center', ncol=1, fontsize=6)\n",
    "    ax.axis('off')\n",
    "    fig.savefig(IMAGE_DIR / f'{name}_leg.pdf', bbox_inches='tight')\n",
    "else:\n",
    "    ax = axes[1]\n",
    "    leg = ax.legend(all_plots, legend, loc='center', ncol=1, fontsize=12)\n",
    "    ax.axis('off')"
   ]
  },
  {
   "cell_type": "markdown",
   "metadata": {},
   "source": [
    "## Effect of embedding dimension"
   ]
  },
  {
   "cell_type": "code",
   "execution_count": null,
   "metadata": {},
   "outputs": [],
   "source": [
    "xaxis = \"emb_dim\"\n",
    "\n",
    "kwargs = {\n",
    "    \"scheduler\": \"cosine\",\n",
    "    \"final\": True,\n",
    "}\n",
    "\n",
    "file_path, study_factors = get_names(name)"
   ]
  },
  {
   "cell_type": "code",
   "execution_count": null,
   "metadata": {},
   "outputs": [],
   "source": [
    "all_configs = load_configs(file_path)\n",
    "res = load_experimental_results(all_configs, **kwargs)"
   ]
  },
  {
   "cell_type": "code",
   "execution_count": null,
   "metadata": {},
   "outputs": [],
   "source": [
    "all_mean, all_std, keys = get_stats(res, study_factors, xaxis=xaxis, **kwargs)"
   ]
  },
  {
   "cell_type": "code",
   "execution_count": null,
   "metadata": {},
   "outputs": [],
   "source": [
    "if save_fig:\n",
    "    fig, ax = plt.subplots(1, 1, figsize=(1.75, 1.5))\n",
    "else:\n",
    "    fig, axes = plt.subplots(1, 2, figsize=(10, 5))\n",
    "    ax = axes[0]\n",
    "\n",
    "y_name = \"loss\"\n",
    "legend = []\n",
    "all_plots = []\n",
    "ind = 0\n",
    "for val, val_std in zip(all_mean, all_std):\n",
    "    if val.shape[0] == 0:\n",
    "        continue\n",
    "    ind += 1\n",
    "    a, = ax.plot(val[y_name], linewidth=1.5)\n",
    "    all_plots.append(a)\n",
    "    # leg = ' '.join([rf'{key}={val[key].values[0]}' for key in keys])\n",
    "    bar_chi = val[keys[0]].values[0]\n",
    "    leg = rf'$\\bar\\chi=${bar_chi}, $\\chi=${val[keys[1]].values[0]}'\n",
    "    ax.plot([bar_chi, bar_chi], [1e-6, 1e0], linestyle='--', color=f'C{ind-1}', linewidth=1)\n",
    "    legend.append(leg)\n",
    "ax.set_yscale('log')\n",
    "ax.set_xscale('log')\n",
    "ax.set_xlabel(r\"Emb. dim. $d$\", fontsize=8)\n",
    "ax.set_ylabel(r\"Loss ${\\cal L}$\", fontsize=8)\n",
    "ax.tick_params(axis='both', labelsize=6)\n",
    "ax.grid()\n",
    "if save_fig:\n",
    "    fig.savefig(IMAGE_DIR / f'{name}_emb.pdf', bbox_inches='tight')\n",
    "\n",
    "if save_fig:\n",
    "    fig, ax = plt.subplots(1, 1, figsize=(.25, 1.5))\n",
    "    leg = ax.legend(all_plots, legend, loc='center', ncol=1, fontsize=6)\n",
    "    ax.axis('off')\n",
    "    fig.savefig(IMAGE_DIR / f'{name}_leg.pdf', bbox_inches='tight')\n",
    "else:\n",
    "    ax = axes[1]\n",
    "    leg = ax.legend(all_plots, legend, loc='center', ncol=1, fontsize=12)\n",
    "    ax.axis('off')"
   ]
  },
  {
   "cell_type": "markdown",
   "metadata": {},
   "source": [
    "## Flop normalization"
   ]
  },
  {
   "cell_type": "code",
   "execution_count": null,
   "metadata": {},
   "outputs": [],
   "source": [
    "xaxis = \"flops\"\n",
    "\n",
    "kwargs = {\n",
    "    \"scheduler\": \"custom\",\n",
    "    \"input_factors\": [5, 5, 5, 5],\n",
    "}\n",
    "\n",
    "file_path, study_factors = get_names(name)\n",
    "study_factors = [\"emb_dim\"]"
   ]
  },
  {
   "cell_type": "code",
   "execution_count": null,
   "metadata": {},
   "outputs": [],
   "source": [
    "all_configs = load_configs(file_path)\n",
    "res = load_experimental_results(all_configs, **kwargs)"
   ]
  },
  {
   "cell_type": "code",
   "execution_count": null,
   "metadata": {},
   "outputs": [],
   "source": [
    "res['flops'] = Model.get_flops(res['emb_dim'], res['ffn_dim'], res['nb_layers'], res['output_size'])\n",
    "res['flops'] *= res['epoch'] * res['input_size']"
   ]
  },
  {
   "cell_type": "code",
   "execution_count": null,
   "metadata": {},
   "outputs": [],
   "source": [
    "all_mean, all_std, keys = get_stats(res, study_factors, xaxis=xaxis, **kwargs)"
   ]
  },
  {
   "cell_type": "code",
   "execution_count": null,
   "metadata": {},
   "outputs": [],
   "source": [
    "if save_fig:\n",
    "    fig, ax = plt.subplots(1, 1, figsize=(1.75, 1.5))\n",
    "else:\n",
    "    fig, axes = plt.subplots(1, 2, figsize=(10, 5))\n",
    "    ax = axes[0]\n",
    "\n",
    "y_name = \"loss\"\n",
    "legend = []\n",
    "all_plots = []\n",
    "ind = 0\n",
    "for val, val_std in zip(all_mean, all_std):\n",
    "    if val.shape[0] == 0:\n",
    "        continue\n",
    "    ind += 1\n",
    "    if ind > 8 and ind < 11:\n",
    "        continue\n",
    "    a, = ax.plot(val[y_name], linewidth=1.5)\n",
    "    all_plots.append(a)\n",
    "    # leg = ' '.join([rf'{key}={val[key].values[0]}' for key in keys])\n",
    "    leg = rf'$d={val[keys[0]].values[0]}$'\n",
    "    legend.append(leg)\n",
    "ax.set_yscale('log')\n",
    "ax.set_xscale('log')\n",
    "ax.set_xlabel(r\"Flop\", fontsize=8)\n",
    "ax.set_ylabel(r\"Loss ${\\cal L}$\", fontsize=8)\n",
    "ax.tick_params(axis='both', labelsize=6)\n",
    "ax.grid()\n",
    "# ax.set_xlim(3e9, 3e15)\n",
    "if save_fig:\n",
    "    fig.savefig(IMAGE_DIR / f'{name}_flop.pdf', bbox_inches='tight')\n",
    "\n",
    "if save_fig:\n",
    "    fig, ax = plt.subplots(1, 1, figsize=(.25, 1.5))\n",
    "    leg = ax.legend(all_plots, legend, loc='center', ncol=1, fontsize=6)\n",
    "    ax.axis('off')\n",
    "    fig.savefig(IMAGE_DIR / f'{name}_flop_leg.pdf', bbox_inches='tight')\n",
    "else:\n",
    "    ax = axes[1]\n",
    "    leg = ax.legend(all_plots, legend, loc='center', ncol=1, fontsize=12)\n",
    "    ax.axis('off')"
   ]
  },
  {
   "cell_type": "code",
   "execution_count": null,
   "metadata": {},
   "outputs": [],
   "source": []
  }
 ],
 "metadata": {
  "kernelspec": {
   "display_name": "llm",
   "language": "python",
   "name": "python3"
  },
  "language_info": {
   "codemirror_mode": {
    "name": "ipython",
    "version": 3
   },
   "file_extension": ".py",
   "mimetype": "text/x-python",
   "name": "python",
   "nbconvert_exporter": "python",
   "pygments_lexer": "ipython3",
   "version": "3.11.5"
  }
 },
 "nbformat": 4,
 "nbformat_minor": 2
}
