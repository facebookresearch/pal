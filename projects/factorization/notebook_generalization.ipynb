{
 "cells": [
  {
   "cell_type": "markdown",
   "metadata": {},
   "source": [
    "# Generalization study"
   ]
  },
  {
   "cell_type": "code",
   "execution_count": null,
   "metadata": {},
   "outputs": [],
   "source": [
    "%load_ext autoreload\n",
    "%autoreload 2"
   ]
  },
  {
   "cell_type": "code",
   "execution_count": null,
   "metadata": {},
   "outputs": [],
   "source": [
    "import logging\n",
    "\n",
    "import matplotlib.pyplot as plt\n",
    "import numpy as np\n",
    "from matplotlib import rc\n",
    "\n",
    "from analysis import load_configs, load_experimental_results, get_stats\n",
    "from factorization.config import IMAGE_DIR, USETEX\n",
    "from factorization.models.mlp import Model\n",
    "\n",
    "logging.basicConfig(level=logging.INFO)\n",
    "\n",
    "\n",
    "rc(\"font\", family=\"serif\", size=8)\n",
    "rc(\"text\", usetex=USETEX)\n",
    "if USETEX:\n",
    "    rc(\"text.latex\", preamble=r\"\\usepackage{times}\")\n",
    "\n",
    "\n",
    "def get_names(name):\n",
    "    match name:\n",
    "        case \"filtration\":\n",
    "            return \"filtration\", [\"beta\"]\n",
    "        case \"generalization\":\n",
    "            return \"generalization\", [\"statistical_complexity\"]\n",
    "        case \"emb_dim\":\n",
    "            return \"convergence_gen\", [\"emb_dim\", \"nb_parents\"]\n",
    "        case \"split\":\n",
    "            return \"split\", [\"data_split\", \"nb_parents\"]\n",
    "        case \"isoflop\":\n",
    "            return \"isoflop\", [\"data_split\", \"nb_parents\"]\n",
    "        case \"isoflop_long\":\n",
    "            return \"isoflop_long\", [\"data_split\", \"nb_parents\"]"
   ]
  },
  {
   "cell_type": "code",
   "execution_count": null,
   "metadata": {},
   "outputs": [],
   "source": [
    "save_fig = False"
   ]
  },
  {
   "cell_type": "markdown",
   "metadata": {},
   "source": [
    "## Filtration"
   ]
  },
  {
   "cell_type": "code",
   "execution_count": null,
   "metadata": {},
   "outputs": [],
   "source": [
    "name = \"filtration\"\n",
    "xaxis = \"epoch\"\n",
    "\n",
    "kwargs = {\n",
    "    \"input_factors\": [2, 2, 2, 2, 2, 2, 2, 2, 2, 2, 2, 2],\n",
    "    # \"input_factors\": [8, 8, 8, 8],\n",
    "    \"output_factors\": [8, 8, 8, 8],\n",
    "    # \"output_factors\": [4096],\n",
    "    \"alphas\": 1e-1,\n",
    "}\n",
    "\n",
    "file_path, study_factors = get_names(name)"
   ]
  },
  {
   "cell_type": "code",
   "execution_count": null,
   "metadata": {},
   "outputs": [],
   "source": [
    "all_configs = load_configs(file_path)\n",
    "res = load_experimental_results(all_configs, **kwargs)"
   ]
  },
  {
   "cell_type": "code",
   "execution_count": null,
   "metadata": {},
   "outputs": [],
   "source": [
    "all_mean, all_std, keys = get_stats(res, study_factors, xaxis=xaxis, **kwargs)"
   ]
  },
  {
   "cell_type": "code",
   "execution_count": null,
   "metadata": {},
   "outputs": [],
   "source": [
    "if save_fig:\n",
    "    fig, ax = plt.subplots(1, 1, figsize=(1.75, 1.5))\n",
    "else:\n",
    "    fig, axes = plt.subplots(1, 2, figsize=(10, 5))\n",
    "    ax = axes[0]\n",
    "\n",
    "y_name = \"test_loss\"\n",
    "legend = []\n",
    "all_plots = []\n",
    "for val, val_std in zip(all_mean, all_std):\n",
    "    a, = ax.plot(val[y_name], linewidth=1.5)\n",
    "    all_plots.append(a)\n",
    "    # leg = ' '.join([rf'{key}={val[key].values[0]}' for key in keys])\n",
    "    leg = rf'$\\beta$={val[keys[0]].values[0]:.2f}'\n",
    "    legend.append(leg)\n",
    "ax.set_yscale('log')\n",
    "ax.set_xscale('log')\n",
    "ax.set_xlabel(\"Epoch\", fontsize=8)\n",
    "ax.set_ylabel(r\"Test loss ${\\cal L}_{\\text{unobs.}}$\", fontsize=8)\n",
    "ax.tick_params(axis='both', labelsize=6)\n",
    "ax.grid()\n",
    "if save_fig:\n",
    "    fig.savefig(IMAGE_DIR / f'{name}.pdf', bbox_inches='tight')\n",
    "\n",
    "if save_fig:\n",
    "    fig, ax = plt.subplots(1, 1, figsize=(.25, 1.5))\n",
    "    leg = ax.legend(all_plots, legend, loc='center', ncol=1, fontsize=6)\n",
    "    ax.axis('off')\n",
    "    fig.savefig(IMAGE_DIR / f'{name}_leg.pdf', bbox_inches='tight')\n",
    "else:\n",
    "    ax = axes[1]\n",
    "    leg = ax.legend(all_plots, legend, loc='center', ncol=1, fontsize=12)\n",
    "    ax.axis('off')"
   ]
  },
  {
   "cell_type": "markdown",
   "metadata": {},
   "source": [
    "## Statistical Complexity"
   ]
  },
  {
   "cell_type": "code",
   "execution_count": null,
   "metadata": {},
   "outputs": [],
   "source": [
    "name = \"generalization\"\n",
    "xaxis = \"epoch\"\n",
    "\n",
    "kwargs = {\n",
    "    # \"input_factors\": [8, 8, 8, 8],\n",
    "    \"output_factors\": [8, 8, 8, 8],\n",
    "    # \"output_factors\": [4096],\n",
    "    \"alphas\": 1e-1,\n",
    "}\n",
    "\n",
    "file_path, study_factors = get_names(name)"
   ]
  },
  {
   "cell_type": "code",
   "execution_count": null,
   "metadata": {},
   "outputs": [],
   "source": [
    "all_configs = load_configs(file_path)\n",
    "res = load_experimental_results(all_configs, **kwargs)"
   ]
  },
  {
   "cell_type": "code",
   "execution_count": null,
   "metadata": {},
   "outputs": [],
   "source": [
    "all_mean, all_std, keys = get_stats(res, study_factors, xaxis=xaxis, **kwargs)"
   ]
  },
  {
   "cell_type": "code",
   "execution_count": null,
   "metadata": {},
   "outputs": [],
   "source": [
    "if save_fig:\n",
    "    fig, ax = plt.subplots(1, 1, figsize=(1.75, 1.5))\n",
    "else:\n",
    "    fig, axes = plt.subplots(1, 2, figsize=(10, 5))\n",
    "    ax = axes[0]\n",
    "\n",
    "y_name = \"test_loss\"\n",
    "legend = []\n",
    "all_plots = []\n",
    "for val, val_std in zip(all_mean, all_std):\n",
    "    a, = ax.plot(val[y_name], linewidth=1.5)\n",
    "    all_plots.append(a)\n",
    "    # leg = ' '.join([rf'{key}={val[key].values[0]}' for key in keys])\n",
    "    leg = rf'$\\chi$={val[keys[0]].values[0]}'\n",
    "    legend.append(leg)\n",
    "ax.set_yscale('log')\n",
    "ax.set_xscale('log')\n",
    "ax.set_xlabel(\"Epoch\", fontsize=8)\n",
    "ax.set_ylabel(r\"Test loss ${\\cal L}_{\\text{unobs.}}$\", fontsize=8)\n",
    "ax.tick_params(axis='both', labelsize=6)\n",
    "ax.grid()\n",
    "if save_fig:\n",
    "    fig.savefig(IMAGE_DIR / f'{name}.pdf', bbox_inches='tight')\n",
    "\n",
    "if save_fig:\n",
    "    fig, ax = plt.subplots(1, 1, figsize=(.25, 1.5))\n",
    "    leg = ax.legend(all_plots, legend, loc='center', ncol=1, fontsize=6)\n",
    "    ax.axis('off')\n",
    "    fig.savefig(IMAGE_DIR / f'{name}_leg.pdf', bbox_inches='tight')\n",
    "else:\n",
    "    ax = axes[1]\n",
    "    leg = ax.legend(all_plots, legend, loc='center', ncol=1, fontsize=12)\n",
    "    ax.axis('off')"
   ]
  },
  {
   "cell_type": "markdown",
   "metadata": {},
   "source": [
    "## Effect of embedding dimension"
   ]
  },
  {
   "cell_type": "code",
   "execution_count": null,
   "metadata": {},
   "outputs": [],
   "source": [
    "name = \"emb_dim\"\n",
    "xaxis = \"flops\"\n",
    "\n",
    "kwargs = {\n",
    "    \"scheduler\": \"custom\",\n",
    "    \"nb_parents\": 3,\n",
    "}\n",
    "\n",
    "file_path, study_factors = get_names(name)"
   ]
  },
  {
   "cell_type": "code",
   "execution_count": null,
   "metadata": {},
   "outputs": [],
   "source": [
    "all_configs = load_configs(file_path)\n",
    "res = load_experimental_results(all_configs, **kwargs)"
   ]
  },
  {
   "cell_type": "code",
   "execution_count": null,
   "metadata": {},
   "outputs": [],
   "source": [
    "res['flops'] = Model.get_flops(res['emb_dim'], res['ffn_dim'], res['nb_layers'], res['output_size'])\n",
    "res['flops'] *= res['epoch'] * res['input_size'] * res['data_split']"
   ]
  },
  {
   "cell_type": "code",
   "execution_count": null,
   "metadata": {},
   "outputs": [],
   "source": [
    "all_mean, all_std, keys = get_stats(res, study_factors, xaxis=xaxis, **kwargs)"
   ]
  },
  {
   "cell_type": "code",
   "execution_count": null,
   "metadata": {},
   "outputs": [],
   "source": [
    "if save_fig:\n",
    "    fig, ax = plt.subplots(1, 1, figsize=(1.75, 1.5))\n",
    "else:\n",
    "    fig, axes = plt.subplots(1, 2, figsize=(10, 5))\n",
    "    ax = axes[0]\n",
    "\n",
    "y_name = \"test_loss\"\n",
    "legend = []\n",
    "all_plots = []\n",
    "ind = 0\n",
    "for val, val_std in zip(all_mean, all_std):\n",
    "    ind += 1\n",
    "    if ind > 7 and ind < 11:\n",
    "        continue\n",
    "    a, = ax.plot(val[y_name], linewidth=1.5)\n",
    "    all_plots.append(a)\n",
    "    # leg = ' '.join([rf'{key}={val[key].values[0]}' for key in keys])\n",
    "    leg = rf'$d={val[keys[1]].values[0]}$'\n",
    "    legend.append(leg)\n",
    "ax.set_yscale('log')\n",
    "ax.set_xscale('log')\n",
    "ax.set_xlabel(\"Flop\", fontsize=8)\n",
    "ax.set_ylabel(r\"Test loss ${\\cal L}_{\\text{unobs.}}$\", fontsize=8)\n",
    "ax.tick_params(axis='both', labelsize=6)\n",
    "ax.grid()\n",
    "if save_fig:\n",
    "    fig.savefig(IMAGE_DIR / f'{name}.pdf', bbox_inches='tight')\n",
    "\n",
    "if save_fig:\n",
    "    fig, ax = plt.subplots(1, 1, figsize=(.25, 1.5))\n",
    "    leg = ax.legend(all_plots, legend, loc='center', ncol=1, fontsize=6)\n",
    "    ax.axis('off')\n",
    "    fig.savefig(IMAGE_DIR / f'{name}_leg.pdf', bbox_inches='tight')\n",
    "else:\n",
    "    ax = axes[1]\n",
    "    leg = ax.legend(all_plots, legend, loc='center', ncol=1, fontsize=12)\n",
    "    ax.axis('off')"
   ]
  },
  {
   "cell_type": "markdown",
   "metadata": {},
   "source": [
    "## Data split"
   ]
  },
  {
   "cell_type": "code",
   "execution_count": null,
   "metadata": {},
   "outputs": [],
   "source": [
    "name = \"split\"\n",
    "xaxis = \"data_split\"\n",
    "\n",
    "kwargs = {\n",
    "    \"scheduler\": \"custom\",\n",
    "    \"final\": True,\n",
    "}\n",
    "\n",
    "file_path, study_factors = get_names(name)"
   ]
  },
  {
   "cell_type": "code",
   "execution_count": null,
   "metadata": {},
   "outputs": [],
   "source": [
    "all_configs = load_configs(file_path)\n",
    "res = load_experimental_results(all_configs, **kwargs)"
   ]
  },
  {
   "cell_type": "code",
   "execution_count": null,
   "metadata": {},
   "outputs": [],
   "source": [
    "res['flops'] = Model.get_flops(res['emb_dim'], res['ffn_dim'], res['nb_layers'], res['output_size'])\n",
    "res['flops'] *= res['epoch'] * res['input_size'] * res['data_split']"
   ]
  },
  {
   "cell_type": "code",
   "execution_count": null,
   "metadata": {},
   "outputs": [],
   "source": [
    "all_mean, all_std, keys = get_stats(res, study_factors, xaxis=xaxis, **kwargs)"
   ]
  },
  {
   "cell_type": "code",
   "execution_count": null,
   "metadata": {},
   "outputs": [],
   "source": [
    "if save_fig:\n",
    "    fig, ax = plt.subplots(1, 1, figsize=(1.75, 1.5))\n",
    "else:\n",
    "    fig, axes = plt.subplots(1, 2, figsize=(10, 5))\n",
    "    ax = axes[0]\n",
    "\n",
    "y_name = \"test_loss\"\n",
    "legend = []\n",
    "all_plots = []\n",
    "for val, val_std in zip(all_mean, all_std):\n",
    "    a, = ax.plot(val[y_name], linewidth=1.5)\n",
    "    all_plots.append(a)\n",
    "    # leg = ' '.join([rf'{key}={val[key].values[0]}' for key in keys])\n",
    "    leg = r'$|\\operatorname{pa}_j|=' + f'{val[keys[0]].values[0]}$'\n",
    "    legend.append(leg)\n",
    "ax.set_yscale('log')\n",
    "ax.set_xscale('log')\n",
    "ax.set_xlabel(r\"Data split $\\gamma$\", fontsize=8)\n",
    "ax.set_ylabel(r\"Test loss ${\\cal L}_{\\text{unobs.}}$\", fontsize=8)\n",
    "ax.tick_params(axis='both', labelsize=6)\n",
    "ax.grid()\n",
    "if save_fig:\n",
    "    fig.savefig(IMAGE_DIR / f'{name}_scaling.pdf', bbox_inches='tight')\n",
    "\n",
    "if save_fig:\n",
    "    fig, ax = plt.subplots(1, 1, figsize=(.25, 1.5))\n",
    "    leg = ax.legend(all_plots, legend, loc='center', ncol=1, fontsize=6)\n",
    "    ax.axis('off')\n",
    "    fig.savefig(IMAGE_DIR / f'{name}_scaling_leg.pdf', bbox_inches='tight')\n",
    "else:\n",
    "    ax = axes[1]\n",
    "    leg = ax.legend(all_plots, legend, loc='center', ncol=1, fontsize=12)\n",
    "    ax.axis('off')"
   ]
  },
  {
   "cell_type": "markdown",
   "metadata": {},
   "source": [
    "## Data split and flops"
   ]
  },
  {
   "cell_type": "code",
   "execution_count": null,
   "metadata": {},
   "outputs": [],
   "source": [
    "name = \"split\"\n",
    "xaxis = \"flops\"\n",
    "\n",
    "kwargs = {\n",
    "    \"nb_parents\": 1,\n",
    "}\n",
    "\n",
    "file_path, study_factors = get_names(name)"
   ]
  },
  {
   "cell_type": "code",
   "execution_count": null,
   "metadata": {},
   "outputs": [],
   "source": [
    "all_configs = load_configs(file_path)\n",
    "res = load_experimental_results(all_configs, **kwargs)"
   ]
  },
  {
   "cell_type": "code",
   "execution_count": null,
   "metadata": {},
   "outputs": [],
   "source": [
    "res['flops'] = Model.get_flops(res['emb_dim'], res['ffn_dim'], res['nb_layers'], res['output_size'])\n",
    "res['flops'] *= res['epoch'] * res['input_size'] * res['data_split']"
   ]
  },
  {
   "cell_type": "code",
   "execution_count": null,
   "metadata": {},
   "outputs": [],
   "source": [
    "all_mean, all_std, keys = get_stats(res, study_factors, xaxis=xaxis, **kwargs)"
   ]
  },
  {
   "cell_type": "code",
   "execution_count": null,
   "metadata": {},
   "outputs": [],
   "source": [
    "if save_fig:\n",
    "    fig, ax = plt.subplots(1, 1, figsize=(1.75, 1.5))\n",
    "else:\n",
    "    fig, axes = plt.subplots(1, 2, figsize=(10, 5))\n",
    "    ax = axes[0]\n",
    "\n",
    "y_name = \"test_loss\"\n",
    "legend = []\n",
    "all_plots = []\n",
    "ind = 0\n",
    "for val, val_std in zip(all_mean, all_std):\n",
    "    ind += 1\n",
    "    if ind not in [1, 2, 3, 4, 6, 10, 19]:\n",
    "        continue\n",
    "    # if ind not in [1, 2, 6, 19]:\n",
    "    #     continue\n",
    "    a, = ax.plot(val[y_name], linewidth=1.5)\n",
    "    all_plots.append(a)\n",
    "    # leg = ' '.join([rf'{key}={val[key].values[0]}' for key in keys])\n",
    "    leg = rf'$\\gamma={val[keys[0]].values[0]:.2f}$'\n",
    "    legend.append(leg)\n",
    "ax.set_yscale('log')\n",
    "ax.set_xscale('log')\n",
    "ax.set_xlabel(\"Flop\", fontsize=8)\n",
    "ax.set_ylabel(r\"Test loss ${\\cal L}_{\\text{unobs.}}$\", fontsize=8)\n",
    "ax.tick_params(axis='both', labelsize=6)\n",
    "ax.grid()\n",
    "if save_fig:\n",
    "    fig.savefig(IMAGE_DIR / f'{name}_{kwargs[\"nb_parents\"]}.pdf', bbox_inches='tight')\n",
    "\n",
    "if save_fig:\n",
    "    fig, ax = plt.subplots(1, 1, figsize=(.25, 1.5))\n",
    "    leg = ax.legend(all_plots, legend, loc='center', ncol=1, fontsize=6)\n",
    "    ax.axis('off')\n",
    "    fig.savefig(IMAGE_DIR / f'{name}_leg.pdf', bbox_inches='tight')\n",
    "else:\n",
    "    ax = axes[1]\n",
    "    leg = ax.legend(all_plots, legend, loc='center', ncol=1, fontsize=12)\n",
    "    ax.axis('off')"
   ]
  },
  {
   "cell_type": "markdown",
   "metadata": {},
   "source": [
    "## Isoflop curves"
   ]
  },
  {
   "cell_type": "code",
   "execution_count": null,
   "metadata": {},
   "outputs": [],
   "source": [
    "all_flops = [3e10, 1e11, 3e11, 1e12, 3e12, 1e13, 3e13, 1e14, 3e14]\n",
    "# all_flops = [2e10, 4e10, 8e10, 16e10, 32e10]\n",
    "all_val = np.empty((len(all_mean), len(all_flops)))\n",
    "all_keys = np.empty(len(all_mean))\n",
    "\n",
    "for i, mean in enumerate(all_mean):\n",
    "    all_keys[i] = mean['data_split'].values[0]\n",
    "    for j, flop in enumerate(all_flops):\n",
    "        ind = sum((mean.index.values < flop))\n",
    "        try:\n",
    "            all_val[i, j] = mean.iloc[ind]['test_loss']\n",
    "        except IndexError:\n",
    "            all_val[i, j] = np.nan"
   ]
  },
  {
   "cell_type": "code",
   "execution_count": null,
   "metadata": {},
   "outputs": [],
   "source": [
    "if save_fig:\n",
    "    fig, ax = plt.subplots(1, 1, figsize=(1.75, 1.5))\n",
    "else:\n",
    "    fig, axes = plt.subplots(1, 2, figsize=(10, 5))\n",
    "    ax = axes[0]\n",
    "\n",
    "legend = []\n",
    "all_plots = []\n",
    "for ind in range(len(all_flops)):\n",
    "    if ind % 2:\n",
    "        continue\n",
    "    a, = ax.plot(all_keys, all_val[:, ind], linewidth=1.5)\n",
    "    all_plots.append(a)\n",
    "    # leg = ' '.join([rf'{key}={val[key].values[0]}' for key in keys])\n",
    "    leg = rf'$F={all_flops[ind]:.0e}X$'.replace('e+', '\\cdot 10^{').replace('X', '}')\n",
    "\n",
    "    legend.append(leg)\n",
    "ax.set_yscale('log')\n",
    "ax.set_xscale('log')\n",
    "ax.set_xlabel(r\"Data split $\\gamma$\", fontsize=8)\n",
    "ax.set_ylabel(r\"Test loss ${\\cal L}_{\\text{unobs.}}$\", fontsize=8)\n",
    "ax.tick_params(axis='both', labelsize=6)\n",
    "ax.grid()\n",
    "if save_fig:\n",
    "    fig.savefig(IMAGE_DIR / f'isoflop_{kwargs[\"nb_parents\"]}.pdf', bbox_inches='tight')\n",
    "\n",
    "if save_fig:\n",
    "    fig, ax = plt.subplots(1, 1, figsize=(.25, 1.5))\n",
    "    leg = ax.legend(all_plots, legend, loc='center', ncol=1, fontsize=6)\n",
    "    ax.axis('off')\n",
    "    fig.savefig(IMAGE_DIR / f'isoflop_leg.pdf', bbox_inches='tight')\n",
    "else:\n",
    "    ax = axes[1]\n",
    "    leg = ax.legend(all_plots, legend, loc='center', ncol=1, fontsize=12)\n",
    "    ax.axis('off')"
   ]
  },
  {
   "cell_type": "code",
   "execution_count": null,
   "metadata": {},
   "outputs": [],
   "source": []
  }
 ],
 "metadata": {
  "kernelspec": {
   "display_name": "llm",
   "language": "python",
   "name": "python3"
  },
  "language_info": {
   "codemirror_mode": {
    "name": "ipython",
    "version": 3
   },
   "file_extension": ".py",
   "mimetype": "text/x-python",
   "name": "python",
   "nbconvert_exporter": "python",
   "pygments_lexer": "ipython3",
   "version": "3.11.5"
  }
 },
 "nbformat": 4,
 "nbformat_minor": 2
}
