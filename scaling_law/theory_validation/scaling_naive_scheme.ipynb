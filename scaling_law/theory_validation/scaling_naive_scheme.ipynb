{
 "cells": [
  {
   "cell_type": "code",
   "execution_count": 1,
   "metadata": {},
   "outputs": [],
   "source": [
    "from math import sqrt\n",
    "\n",
    "import matplotlib.pyplot as plt\n",
    "import numpy as np\n",
    "import torch as th\n",
    "\n",
    "plt.rc('font', family='serif')\n",
    "plt.rc('text', usetex=True)"
   ]
  },
  {
   "cell_type": "code",
   "execution_count": 2,
   "metadata": {},
   "outputs": [],
   "source": [
    "def modular_class(x, m):\n",
    "    return x % m\n",
    "\n",
    "\n",
    "def squared_modular_class(x, m):\n",
    "    return (x**2) % m\n",
    "\n",
    "\n",
    "def get_embeddings(n, d, norm=True):\n",
    "    emb = th.randn(n, d)\n",
    "    if norm:\n",
    "        emb /= emb.norm(dim=1, keepdim=True)\n",
    "    else:\n",
    "        emb /= sqrt(d)\n",
    "    return emb\n",
    "\n",
    "\n",
    "def get_q(x, P, rho):\n",
    "    counts = th.bincount(x)\n",
    "    _, order = th.sort(counts, descending=True)\n",
    "    if P is None:\n",
    "        P = len(counts)\n",
    "    P = min(P, th.sum(counts!=0).item())\n",
    "    idx = order[:P]\n",
    "    q = (counts[idx] / counts[idx].sum())**rho\n",
    "    return q, idx"
   ]
  },
  {
   "attachments": {},
   "cell_type": "markdown",
   "metadata": {},
   "source": [
    "Scaling with respect to d and T jointly"
   ]
  },
  {
   "cell_type": "code",
   "execution_count": 3,
   "metadata": {},
   "outputs": [],
   "source": [
    "# number of input tokens\n",
    "n = 100\n",
    "# number of output classes\n",
    "m = 5\n",
    "# memory dimension\n",
    "ds = np.logspace(1, 3, num=30, dtype=int)\n",
    "dmax = np.max(ds)\n",
    "\n",
    "# number of data\n",
    "ts = np.logspace(1, 4, num=30, dtype=int)\n",
    "tmax = np.max(ts)\n",
    "\n",
    "# Zipf parameter\n",
    "alpha = .5"
   ]
  },
  {
   "cell_type": "code",
   "execution_count": 4,
   "metadata": {},
   "outputs": [],
   "source": [
    "# Population data\n",
    "all_x = th.arange(n)\n",
    "proba = (all_x + 1.) ** (-alpha)\n",
    "proba /= proba.sum()\n",
    "all_y = modular_class(all_x, m)"
   ]
  },
  {
   "cell_type": "code",
   "execution_count": 5,
   "metadata": {},
   "outputs": [
    {
     "name": "stdout",
     "output_type": "stream",
     "text": [
      "0,1,2,3,4,5,6,7,8,9,10,11,12,13,14,15,16,17,18,19,20,21,22,23,24,25,26,27,28,29,30,31,32,33,34,35,36,37,38,39,40,41,42,43,44,45,46,47,48,49,50,51,52,53,54,55,56,57,58,59,60,61,62,63,64,65,66,67,68,69,70,71,72,73,74,75,76,77,78,79,80,81,82,83,84,85,86,87,88,89,90,91,92,93,94,95,96,97,98,99,"
     ]
    }
   ],
   "source": [
    "P = None\n",
    "rho = 0\n",
    "\n",
    "nb_trials = 100\n",
    "\n",
    "errors = th.zeros(nb_trials, len(ts), len(ds))\n",
    "errors[:] = -1\n",
    "\n",
    "for i_n in range(nb_trials):\n",
    "    # Embeddings\n",
    "    E = get_embeddings(n, dmax, norm=False)\n",
    "    U = get_embeddings(m, dmax, norm=True)\n",
    "\n",
    "    # Empirical data\n",
    "    x = th.multinomial(proba, tmax, replacement=True)\n",
    "    y = all_y[x]\n",
    "\n",
    "    for i_t, t in enumerate(ts):\n",
    "        q, idx = get_q(x[:t], P, rho)\n",
    "        W = (E[idx].T * q) @ U[all_y[idx]]\n",
    "        for i_d, d in enumerate(ds):\n",
    "            scores = E[:, :d] @ W[:d,:d] @ U[:,:d].T\n",
    "            preds = scores.argmax(dim=1)\n",
    "            errors[i_n, i_t, i_d] = proba[preds != all_y].sum()\n",
    "\n",
    "        # print(len(idx), end=',')\n",
    "    print(i_n, end=',')"
   ]
  },
  {
   "cell_type": "code",
   "execution_count": 6,
   "metadata": {},
   "outputs": [],
   "source": [
    "errors_mean = errors.mean(dim=0)\n",
    "errors_std = errors.std(dim=0)"
   ]
  },
  {
   "cell_type": "code",
   "execution_count": 7,
   "metadata": {},
   "outputs": [
    {
     "data": {
      "image/png": "[encoded data removed]",
      "text/plain": [
       "<Figure size 100x100 with 2 Axes>"
      ]
     },
     "metadata": {},
     "output_type": "display_data"
    }
   ],
   "source": [
    "import matplotlib.pyplot as plt\n",
    "import numpy as np\n",
    "plt.rc('font', family='serif')\n",
    "plt.rc('text', usetex=True)\n",
    "\n",
    "X, Y = np.meshgrid(ds, ts)\n",
    "fig, ax = plt.subplots(figsize=(1, 1))\n",
    "c = ax.contourf(X, Y, errors_mean.numpy(), levels=20, cmap='RdBu_r')\n",
    "ax.set_xscale('log')\n",
    "ax.set_yscale('log')\n",
    "ax.set_xticks([10, 100, 1000])\n",
    "ax.set_xticklabels([\"10\", r\"$10^2$\", r\"$10^3$\"], fontsize=6)\n",
    "ax.set_yticks([10, 100, 1000, 10000])\n",
    "ax.set_yticklabels([\"10\", r\"$10^2$\", r\"$10^3$\", r\"$10^4$\"], fontsize=6)\n",
    "ax.set_xlabel('d', fontsize=8)\n",
    "ax.set_ylabel('T', fontsize=8)\n",
    "bar = fig.colorbar(c, ax=ax, ticks=[0, .3, .6, .9])\n",
    "bar.set_ticklabels([r\"$0$\", r\"$0.3$\", r\"$0.6$\", r\"$0.9$\"], fontsize=6)\n",
    "# fig.savefig('weight_storage_error.pdf', bbox_inches='tight')\n",
    "fig.savefig('fill_storage_error.pdf', bbox_inches='tight')"
   ]
  }
 ],
 "metadata": {
  "kernelspec": {
   "display_name": "base",
   "language": "python",
   "name": "python3"
  },
  "language_info": {
   "codemirror_mode": {
    "name": "ipython",
    "version": 3
   },
   "file_extension": ".py",
   "mimetype": "text/x-python",
   "name": "python",
   "nbconvert_exporter": "python",
   "pygments_lexer": "ipython3",
   "version": "3.10.4"
  },
  "orig_nbformat": 4
 },
 "nbformat": 4,
 "nbformat_minor": 2
}
