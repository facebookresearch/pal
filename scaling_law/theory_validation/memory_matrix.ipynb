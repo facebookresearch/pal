{
 "cells": [
  {
   "cell_type": "code",
   "execution_count": 1,
   "metadata": {},
   "outputs": [],
   "source": [
    "from functools import partial\n",
    "from math import sqrt\n",
    "\n",
    "import numpy as np\n",
    "import torch as th\n",
    "import torch.nn as nn\n",
    "import torch.nn.functional as F"
   ]
  },
  {
   "cell_type": "code",
   "execution_count": 2,
   "metadata": {},
   "outputs": [],
   "source": [
    "def modular_class(x, m):\n",
    "    return x % m\n",
    "\n",
    "\n",
    "def squared_modular_class(x, m):\n",
    "    return (x**2) % m\n",
    "\n",
    "\n",
    "def get_embeddings(n, d, norm=True):\n",
    "    emb = th.randn(n, d)\n",
    "    if norm:\n",
    "        emb /= emb.norm(dim=1, keepdim=True)\n",
    "    else:\n",
    "        emb /= sqrt(d)\n",
    "    return emb\n",
    "\n",
    "\n",
    "def get_q(x, P, rho):\n",
    "    counts = th.bincount(x)\n",
    "    _, order = th.sort(counts, descending=True)\n",
    "    if P is None:\n",
    "        P = len(counts)\n",
    "    P = min(P, th.sum(counts!=0).item())\n",
    "    idx = order[:P]\n",
    "    q = (counts[idx] / counts[idx].sum())**rho\n",
    "    return q, idx"
   ]
  },
  {
   "cell_type": "code",
   "execution_count": 3,
   "metadata": {},
   "outputs": [],
   "source": [
    "# number of input tokens\n",
    "n = 10\n",
    "# number of output classes\n",
    "m = 5\n",
    "# memory dimension\n",
    "# d = 50\n",
    "d = 10\n",
    "\n",
    "# number of data\n",
    "t = 1000\n",
    "\n",
    "# Zipf parameter\n",
    "alpha = 1"
   ]
  },
  {
   "cell_type": "code",
   "execution_count": 4,
   "metadata": {},
   "outputs": [],
   "source": [
    "# Population data\n",
    "all_x = th.arange(n)\n",
    "proba = (all_x + 1.) ** (-alpha)\n",
    "proba /= proba.sum()\n",
    "all_y = modular_class(all_x, m)\n",
    "\n",
    "# Embeddings\n",
    "E = get_embeddings(n, d, norm=False)\n",
    "U = get_embeddings(m, d, norm=True)"
   ]
  },
  {
   "cell_type": "code",
   "execution_count": 5,
   "metadata": {},
   "outputs": [],
   "source": [
    "# Empirical data\n",
    "x = th.multinomial(proba, t, replacement=True)\n",
    "y = all_y[x]"
   ]
  },
  {
   "cell_type": "code",
   "execution_count": 6,
   "metadata": {},
   "outputs": [],
   "source": [
    "P = None\n",
    "rho = 0\n",
    "q, idx = get_q(x[:t], P, rho)\n",
    "W = (E[idx].T * q) @ U[all_y[idx]]\n",
    "mat1 = E @ W @ U.T\n",
    "mat1 = F.softmax(mat1, dim=-1)\n",
    "mat1 = mat1.numpy()\n",
    "\n",
    "rho = 1\n",
    "q, idx = get_q(x[:t], P, rho)\n",
    "W = (E[idx].T * q) @ U[all_y[idx]]\n",
    "mat2 = E @ W @ U.T\n",
    "mat2 = F.softmax(mat2, dim=-1)\n",
    "mat2 = mat2.numpy()"
   ]
  },
  {
   "cell_type": "code",
   "execution_count": 8,
   "metadata": {},
   "outputs": [
    {
     "data": {
      "image/png": "[encoded data removed]",
      "text/plain": [
       "<Figure size 400x400 with 1 Axes>"
      ]
     },
     "metadata": {},
     "output_type": "display_data"
    },
    {
     "data": {
      "image/png": "[encoded data removed]",
      "text/plain": [
       "<Figure size 400x400 with 1 Axes>"
      ]
     },
     "metadata": {},
     "output_type": "display_data"
    }
   ],
   "source": [
    "import matplotlib.pyplot as plt\n",
    "\n",
    "fig, ax = plt.subplots(1, 1, figsize=(4, 4))\n",
    "c = ax.imshow(mat1, aspect='auto')\n",
    "ax.set_axis_off()\n",
    "fig.savefig('fill_mat_d.pdf')\n",
    "\n",
    "fig, ax = plt.subplots(1, 1, figsize=(4, 4))\n",
    "c = ax.imshow(mat2, aspect='auto')\n",
    "ax.set_axis_off()\n",
    "fig.savefig('weight_mat_d.pdf')"
   ]
  },
  {
   "cell_type": "code",
   "execution_count": null,
   "metadata": {},
   "outputs": [],
   "source": []
  }
 ],
 "metadata": {
  "kernelspec": {
   "display_name": "base",
   "language": "python",
   "name": "python3"
  },
  "language_info": {
   "codemirror_mode": {
    "name": "ipython",
    "version": 3
   },
   "file_extension": ".py",
   "mimetype": "text/x-python",
   "name": "python",
   "nbconvert_exporter": "python",
   "pygments_lexer": "ipython3",
   "version": "3.10.4"
  },
  "orig_nbformat": 4
 },
 "nbformat": 4,
 "nbformat_minor": 2
}
