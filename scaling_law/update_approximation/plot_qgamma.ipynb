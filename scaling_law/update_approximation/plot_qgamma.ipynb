{
 "cells": [
  {
   "cell_type": "code",
   "execution_count": 1,
   "metadata": {},
   "outputs": [],
   "source": [
    "import numpy as np\n",
    "import matplotlib.pyplot as plt\n",
    "\n",
    "plt.rc('font', family='serif', size=8)\n",
    "plt.rc('text', usetex=True)"
   ]
  },
  {
   "cell_type": "code",
   "execution_count": 2,
   "metadata": {},
   "outputs": [],
   "source": [
    "def update(x, gamma, m):\n",
    "    return x + gamma / (1 + np.exp(x) / m)\n",
    "\n",
    "def multiple_update(gamma, m, n):\n",
    "    x = 0\n",
    "    for i in range(n):\n",
    "        x = update(x, gamma, m)\n",
    "    return x"
   ]
  },
  {
   "cell_type": "code",
   "execution_count": 65,
   "metadata": {},
   "outputs": [],
   "source": [
    "m = 10\n",
    "\n",
    "Q = 100\n",
    "gammas = [1e-3, 1e-1, 1e0]\n",
    "\n",
    "f = np.zeros((Q, len(gammas)))\n",
    "x = 0\n",
    "for j in range(len(gammas)):\n",
    "    for i in range(Q):\n",
    "        f[i, j] = x\n",
    "        x = update(x, gammas[j], m)\n",
    "\n",
    "f /= np.sqrt(np.sum(f**2, axis=0))"
   ]
  },
  {
   "cell_type": "code",
   "execution_count": 66,
   "metadata": {},
   "outputs": [
    {
     "data": {
      "image/png": "[encoded data removed]",
      "text/plain": [
       "<Figure size 200x150 with 1 Axes>"
      ]
     },
     "metadata": {},
     "output_type": "display_data"
    }
   ],
   "source": [
    "fig, ax = plt.subplots(figsize=(2, 1.5))\n",
    "leg = []\n",
    "for j in range(len(gammas)):\n",
    "    a, = ax.plot(f[:, j])\n",
    "    leg.append(a)\n",
    "\n",
    "ax.set_xlabel('$n$', fontsize=10)\n",
    "ax.set_ylabel('$f^{n}(0) / \\|f\\|_2$', fontsize=10)\n",
    "ax.legend(leg, [r'$10^{-3}$', r'$10^{-1}$', r'$10$'], loc=\"best\", fontsize=6)\n",
    "fig.savefig('f_n.pdf', bbox_inches='tight')"
   ]
  },
  {
   "cell_type": "code",
   "execution_count": 51,
   "metadata": {},
   "outputs": [],
   "source": [
    "alpha = 2\n",
    "n = 100\n",
    "p = (3+np.arange(n, dtype=float)) ** (-alpha)\n",
    "Ns = (p / np.min(p)).astype(int)\n",
    "Ns = np.clip(Ns, 0, Q)"
   ]
  },
  {
   "cell_type": "code",
   "execution_count": 52,
   "metadata": {},
   "outputs": [],
   "source": [
    "q = np.zeros((n, len(gammas)), dtype=float)\n",
    "for i in range(n):\n",
    "    if Ns[i] > 0:\n",
    "        q[i] = f[Ns[i]-1]"
   ]
  },
  {
   "cell_type": "code",
   "execution_count": 64,
   "metadata": {},
   "outputs": [
    {
     "data": {
      "image/png": "[encoded data removed]",
      "text/plain": [
       "<Figure size 200x150 with 1 Axes>"
      ]
     },
     "metadata": {},
     "output_type": "display_data"
    }
   ],
   "source": [
    "fig, ax = plt.subplots(figsize=(2, 1.5))\n",
    "leg = []\n",
    "for j in range(len(gammas)):\n",
    "    a, = ax.plot(q[:, j] / np.sqrt(np.sum(q[:, j]**2)))\n",
    "    leg.append(a)\n",
    "\n",
    "ax.plot(p / np.sqrt(np.sum(p**2)), '--', color='black', alpha=0.3)\n",
    "q2 = p**.35\n",
    "ax.plot(q2 / np.sqrt(np.sum(q2**2)), '--', color='black', alpha=0.3)\n",
    "q2 = p**.05\n",
    "ax.plot(q2 / np.sqrt(np.sum(q2**2)), '--', color='black', alpha=0.3)\n",
    "\n",
    "ax.set_xlabel('$x$', fontsize=10)\n",
    "ax.set_yscale('log')\n",
    "ax.set_ylabel('$q(x) / \\|q\\|$', fontsize=10)\n",
    "ax.legend(leg, [r'$10^{-3}$', r'$10^{-1}$', r'$10$'], loc=\"best\", fontsize=6)\n",
    "fig.savefig('q_gamma.pdf', bbox_inches='tight')"
   ]
  },
  {
   "cell_type": "code",
   "execution_count": null,
   "metadata": {},
   "outputs": [],
   "source": []
  }
 ],
 "metadata": {
  "kernelspec": {
   "display_name": "dev",
   "language": "python",
   "name": "python3"
  },
  "language_info": {
   "codemirror_mode": {
    "name": "ipython",
    "version": 3
   },
   "file_extension": ".py",
   "mimetype": "text/x-python",
   "name": "python",
   "nbconvert_exporter": "python",
   "pygments_lexer": "ipython3",
   "version": "3.10.4"
  },
  "orig_nbformat": 4
 },
 "nbformat": 4,
 "nbformat_minor": 2
}
