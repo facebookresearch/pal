{
 "cells": [
  {
   "cell_type": "code",
   "execution_count": 1,
   "metadata": {},
   "outputs": [],
   "source": [
    "from math import sqrt\n",
    "from random import seed\n",
    "\n",
    "import matplotlib.pyplot as plt\n",
    "import numpy as np\n",
    "import torch as th\n",
    "import torch.nn as nn\n",
    "import torch.nn.functional as F\n",
    "\n",
    "th.manual_seed(0)\n",
    "seed(0)\n",
    "plt.rc('font', family='serif')\n",
    "plt.rc('text', usetex=True)"
   ]
  },
  {
   "cell_type": "code",
   "execution_count": 2,
   "metadata": {},
   "outputs": [],
   "source": [
    "def get_embeddings(n, d, norm=True):\n",
    "    emb = th.randn(n, d)\n",
    "    if norm:\n",
    "        emb /= emb.norm(dim=1, keepdim=True)\n",
    "    else:\n",
    "        emb /= sqrt(d)\n",
    "    return emb\n",
    "\n",
    "\n",
    "class AssMem(nn.Module):\n",
    "    def __init__(self, E, U):\n",
    "        \"\"\"\n",
    "        E: torch.Tensor\n",
    "            Input embedding matrix of size $n \\times d$,\n",
    "            where $n$ is the number of tokens and $d$ is the embedding dimension.\n",
    "        U: torch.Tensor\n",
    "            Output unembedding matrix of size $d \\times m$,\n",
    "            where $m$ is the number of classes and $d$ is the embedding dimension.\n",
    "        \"\"\"\n",
    "        super().__init__()\n",
    "        # self.W = nn.Parameter(th.randn(d, d))\n",
    "        d = E.shape[1]\n",
    "        self.W = nn.Parameter(th.zeros(d, d))\n",
    "        self.E = E\n",
    "        self.U = U\n",
    "\n",
    "    def forward(self, x):\n",
    "        out = self.E[x] @ self.W\n",
    "        out = out @ self.U\n",
    "        return out"
   ]
  },
  {
   "cell_type": "code",
   "execution_count": 3,
   "metadata": {},
   "outputs": [],
   "source": [
    "# number of input tokens\n",
    "n = 30\n",
    "# number of output classes\n",
    "m = 5\n",
    "# memory dimension\n",
    "d = 30\n",
    "\n",
    "alpha = 1.5"
   ]
  },
  {
   "cell_type": "code",
   "execution_count": 4,
   "metadata": {},
   "outputs": [],
   "source": [
    "all_x = th.arange(n)\n",
    "proba = (all_x + 1.) ** (-alpha)\n",
    "proba /= proba.sum()\n",
    "all_y = all_x % m"
   ]
  },
  {
   "cell_type": "code",
   "execution_count": 5,
   "metadata": {},
   "outputs": [],
   "source": [
    "# number of data\n",
    "batch_size = 10000\n",
    "nb_epoch = 1\n",
    "T = nb_epoch * batch_size\n",
    "lr = 1e-1"
   ]
  },
  {
   "cell_type": "code",
   "execution_count": 6,
   "metadata": {},
   "outputs": [
    {
     "name": "stdout",
     "output_type": "stream",
     "text": [
      "0,1,2,3,4,5,6,7,8,9,10,11,12,13,14,15,16,17,18,19,20,21,22,23,24,25,26,27,28,29,30,31,32,33,34,35,36,37,38,39,40,41,42,43,44,45,46,47,48,49,50,51,52,53,54,55,56,57,58,59,60,61,62,63,64,65,66,67,68,69,70,71,72,73,74,75,76,77,78,79,80,81,82,83,84,85,86,87,88,89,90,91,92,93,94,95,96,97,98,99,"
     ]
    }
   ],
   "source": [
    "lr = 1e0\n",
    "num_models = 2\n",
    "\n",
    "nb_trials = 100\n",
    "\n",
    "train_loss = th.zeros(num_models, nb_trials, nb_epoch)\n",
    "test_loss = th.zeros(num_models, nb_trials, nb_epoch)\n",
    "train_loss[:] = -1\n",
    "test_loss[:] = -1\n",
    "\n",
    "for k in range(nb_trials):\n",
    "    # Embeddings\n",
    "    E = get_embeddings(n, d, norm=False)\n",
    "    U = get_embeddings(m, d, norm=False).T \n",
    "\n",
    "    # models\n",
    "    assoc = []\n",
    "    opti = []\n",
    "    for i in range(num_models):\n",
    "        assoc.append(AssMem(E, U))\n",
    "        opti.append(th.optim.Adam(assoc[-1].parameters(), lr=lr))\n",
    "\n",
    "    for i in range(nb_epoch):\n",
    "        x = th.multinomial(proba, batch_size, replacement=True)\n",
    "        y = x % m\n",
    "\n",
    "        for j in range(num_models):\n",
    "            if j == 0:\n",
    "                for t in range(batch_size):\n",
    "                    out = assoc[j](x[t])\n",
    "                    loss = F.cross_entropy(out, y[t])\n",
    "\n",
    "                    opti[j].zero_grad()\n",
    "                    loss.backward()\n",
    "                    opti[j].step()\n",
    "\n",
    "                train_loss[j, k, i] = loss.item()\n",
    "            else:\n",
    "                out = assoc[j](x)\n",
    "                loss = F.cross_entropy(out, y)\n",
    "                train_loss[j, k, i] = loss.item()\n",
    "\n",
    "                with th.no_grad():\n",
    "                    pred = assoc[j](all_x).argmax(dim=-1)\n",
    "                    test_loss[j, k, i] = proba[pred != all_y].sum().item()\n",
    "\n",
    "                opti[j].zero_grad()\n",
    "                loss.backward()\n",
    "                opti[j].step()\n",
    "\n",
    "            with th.no_grad():\n",
    "                pred = assoc[j](all_x).argmax(dim=-1)\n",
    "                test_loss[j, k, i] = proba[pred != all_y].sum().item()\n",
    "\n",
    "    print(k, end=',')"
   ]
  },
  {
   "cell_type": "code",
   "execution_count": 7,
   "metadata": {},
   "outputs": [],
   "source": [
    "error_mean = test_loss.mean(dim=1)\n",
    "error_std = test_loss.std(dim=1)"
   ]
  },
  {
   "cell_type": "code",
   "execution_count": 8,
   "metadata": {},
   "outputs": [
    {
     "name": "stderr",
     "output_type": "stream",
     "text": [
      "/tmp/ipykernel_229100/3851978499.py:8: UserWarning: Data has no positive values, and therefore cannot be log-scaled.\n",
      "  ax.set_xscale('log')\n"
     ]
    },
    {
     "data": {
      "image/png": "[encoded data removed]",
      "text/plain": [
       "<Figure size 200x150 with 1 Axes>"
      ]
     },
     "metadata": {},
     "output_type": "display_data"
    }
   ],
   "source": [
    "\n",
    "fig, ax = plt.subplots(1, 1, figsize=(2, 1.5))\n",
    "# fig, ax = plt.subplots(1, 1, figsize=(5, 5))\n",
    "leg = []\n",
    "for i in range(num_models):\n",
    "    a, = ax.plot(batch_size * np.arange(nb_epoch), error_mean[i], color= 'C' + str(i))\n",
    "    ax.fill_between(batch_size * np.arange(nb_epoch), error_mean[i] - .5 * error_std[i], error_mean[i] + .5 * error_std[i], color= 'C' + str(i), alpha=.3)\n",
    "    leg.append(a)\n",
    "ax.set_xscale('log')\n",
    "ax.set_yscale('log')\n",
    "# ax.set_ylim(1e-2, 1e0)\n",
    "# ax.set_yticks([.2, .3, .4, .5, .6, .7, .8])\n",
    "# ax.set_yticklabels(['.2', '', '.4', '', '.6', '', ''])\n",
    "ax.set_xlabel('T', fontsize=10)\n",
    "ax.set_ylabel('Error', fontsize=10)\n",
    "ax.tick_params(axis='both', which='major', labelsize=8)\n",
    "ax.legend(leg, [r\"B=1\", r\"B=10\", r\"StepLR\"], fontsize=7)\n",
    "fig.savefig('sgd_step_lr_mean.pdf', bbox_inches='tight')"
   ]
  },
  {
   "cell_type": "code",
   "execution_count": null,
   "metadata": {},
   "outputs": [],
   "source": []
  }
 ],
 "metadata": {
  "kernelspec": {
   "display_name": "base",
   "language": "python",
   "name": "python3"
  },
  "language_info": {
   "codemirror_mode": {
    "name": "ipython",
    "version": 3
   },
   "file_extension": ".py",
   "mimetype": "text/x-python",
   "name": "python",
   "nbconvert_exporter": "python",
   "pygments_lexer": "ipython3",
   "version": "3.10.4"
  },
  "orig_nbformat": 4
 },
 "nbformat": 4,
 "nbformat_minor": 2
}
