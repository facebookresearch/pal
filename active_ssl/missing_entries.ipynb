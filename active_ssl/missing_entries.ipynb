{
 "cells": [
  {
   "cell_type": "code",
   "execution_count": 1,
   "metadata": {},
   "outputs": [],
   "source": [
    "# Auto reload of modified modules\n",
    "%load_ext autoreload\n",
    "%autoreload 2"
   ]
  },
  {
   "cell_type": "code",
   "execution_count": 2,
   "metadata": {},
   "outputs": [],
   "source": [
    "# Import\n",
    "import matplotlib.pyplot as plt\n",
    "import numpy as np\n",
    "from scipy.linalg import eigh, pinvh\n",
    "\n",
    "from rates.auxillary import (\n",
    "    connected_component,\n",
    "    drop_entries,\n",
    "    label_graph,\n",
    "    cat2one_hot\n",
    ")\n",
    "from rates.config import SAVE_DIR\n",
    "from rates.datasets import circles, mixture\n",
    "from rates.architectures import exp_kernel\n",
    "\n",
    "# Config\n",
    "np.random.seed(0)\n",
    "plt.rc('text', usetex=True)\n",
    "plt.rc('text.latex', preamble=r'\\usepackage{bm}')\n",
    "plt.rc('font', size=10, family='serif', serif='cm')\n",
    "\n",
    "noise_level = 0\n",
    "# circles = mixture\n",
    "# noise_level = .3\n"
   ]
  },
  {
   "cell_type": "code",
   "execution_count": 3,
   "metadata": {},
   "outputs": [],
   "source": [
    "sigma = .2\n",
    "lambd = 1e-3"
   ]
  },
  {
   "cell_type": "code",
   "execution_count": 4,
   "metadata": {},
   "outputs": [],
   "source": [
    "n_train = 100\n",
    "d = 4\n",
    "n_test = 1000\n",
    "\n",
    "x_test, y_test = circles(n_test, d=d, noise_level=noise_level, labels=True, test=True)\n",
    "one_hot = cat2one_hot(y_test.astype(int) - 1)"
   ]
  },
  {
   "cell_type": "code",
   "execution_count": 5,
   "metadata": {},
   "outputs": [],
   "source": [
    "ps = np.linspace(.5, 1, 20)\n",
    "nb_trials = 100\n",
    "errors = np.empty((nb_trials, len(ps)))\n",
    "con_comps = np.empty(errors.shape)\n",
    "\n",
    "for i in range(nb_trials):\n",
    "    x, y = circles(n_train, d=d, noise_level=noise_level, labels=True, test=False)\n",
    "    K = exp_kernel(x, x, sigma=sigma)\n",
    "    K_test = exp_kernel(x_test, x, sigma=sigma)\n",
    "    T = label_graph(y)\n",
    "\n",
    "    K_inv = pinvh(K, atol=1e-5 / n_train)\n",
    "    K_inv *= lambd\n",
    "\n",
    "    tmp_x = K_test @ K_inv\n",
    "\n",
    "    for j, p in enumerate(ps):\n",
    "        T_l = drop_entries(T, p)\n",
    "        con_comps[i, j] = connected_component(T_l)\n",
    "        T_l -= K_inv\n",
    "        w, v = eigh(T_l, subset_by_index=[len(T_l) - 5, len(T_l) - 1])\n",
    "        \n",
    "        phi = tmp_x @ v\n",
    "        w = np.linalg.solve(phi.T @ phi, phi.T @ one_hot)\n",
    "        pred = np.argmax(phi @ w, axis=1)\n",
    "        errors[i, j] = (pred + 1 != y_test).mean()\n",
    "    "
   ]
  },
  {
   "cell_type": "code",
   "execution_count": 7,
   "metadata": {},
   "outputs": [
    {
     "data": {
      "image/png": "[encoded data removed]",
      "text/plain": [
       "<Figure size 300x150 with 2 Axes>"
      ]
     },
     "metadata": {},
     "output_type": "display_data"
    }
   ],
   "source": [
    "fig, ax = plt.subplots(1, 1, figsize=(3, 1.5))\n",
    "a, = ax.plot(ps, errors.mean(axis=0), label=\"VICReg full graph\")\n",
    "ax.fill_between(ps, errors.mean(axis=0) - errors.std(axis=0), errors.mean(axis=0) + errors.std(axis=0), alpha=.25)\n",
    "\n",
    "ax2 = ax.twinx()\n",
    "tmp = con_comps.mean(axis=0)\n",
    "tmp = tmp\n",
    "cut = 19\n",
    "b, = ax2.plot(ps[:cut], tmp[:cut], label=\"Connected components\", linewidth=2, c='C3', linestyle=\"--\")\n",
    "\n",
    "ax.set_xlabel(\"Percentage missing entries\")\n",
    "ax.set_ylabel(\"Test error\")\n",
    "for tick in ax.xaxis.get_major_ticks():\n",
    "    tick.label.set_fontsize(8)\n",
    "for tick in ax.yaxis.get_major_ticks():\n",
    "    tick.label.set_fontsize(8)\n",
    "for tick in ax2.yaxis.get_major_ticks():\n",
    "    tick.label.set_fontsize(8)\n",
    "ax2.set_ylabel(\"Num. Con. Comp.\")\n",
    "ax.set_ylim(0, .7)\n",
    "ax2.set_ylim(0, 70)\n",
    "ax.legend([a, b], [\"Downstream error\", \"Connected components\"], fontsize=8, loc=\"upper left\", frameon=True)\n",
    "ax.grid(alpha=.5)\n",
    "# fig.savefig(SAVE_DIR / \"missing_entries.pdf\", bbox_inches='tight', pad_inches=0)"
   ]
  }
 ],
 "metadata": {
  "kernelspec": {
   "display_name": "dev",
   "language": "python",
   "name": "python3"
  },
  "language_info": {
   "codemirror_mode": {
    "name": "ipython",
    "version": 3
   },
   "file_extension": ".py",
   "mimetype": "text/x-python",
   "name": "python",
   "nbconvert_exporter": "python",
   "pygments_lexer": "ipython3",
   "version": "3.10.4"
  },
  "orig_nbformat": 4,
  "vscode": {
   "interpreter": {
    "hash": "eeb90ca8861134173ea2edb6120d403a551dc71a17254f2d5d4c5ae7c0686c83"
   }
  }
 },
 "nbformat": 4,
 "nbformat_minor": 2
}
