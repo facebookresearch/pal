{
 "cells": [
  {
   "cell_type": "code",
   "execution_count": null,
   "metadata": {},
   "outputs": [],
   "source": [
    "import sys\n",
    "\n",
    "sys.path.append(\"private/home/vivc/code/memory-theory/visualization\")\n",
    "\n",
    "from visualization import visualization_backend\n",
    "\n",
    "plot_config = {\n",
    "    \"grid_size\": [1, 4],\n",
    "    \"plots\": [\n",
    "        {\"type\": \"show_pos_emb\", \"position\": [0]},\n",
    "        {\"type\": \"show_norm_emb\", \"position\": [1]},\n",
    "        {\"type\": \"show_value\", \"position\": [2]},\n",
    "        {\"type\": \"show_level_line\", \"position\": [3]},\n",
    "    ],\n",
    "}\n",
    "\n",
    "# frame creation\n",
    "for unique_id in [\n",
    "    \"02523ea98ad3459a90cd6e3a74291d67\",\n",
    "    \"34fec7e871b14fdcac5db6dfb944be16\",\n",
    "    \"f8168ef0e49545b3a51363abffc84af5\",\n",
    "]:\n",
    "    visualization_backend(\n",
    "        unique_id=unique_id,\n",
    "        start_frame=1000,\n",
    "        save_ext=\"seed\",\n",
    "        plot_config=plot_config,\n",
    "        file_format=\"pdf\",\n",
    "    )"
   ]
  }
 ],
 "metadata": {
  "language_info": {
   "name": "python"
  }
 },
 "nbformat": 4,
 "nbformat_minor": 2
}
