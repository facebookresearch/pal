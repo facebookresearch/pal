{
 "cells": [
  {
   "attachments": {},
   "cell_type": "markdown",
   "metadata": {},
   "source": [
    "# Troubleshooting\n",
    "\n",
    "When training a model, many things can go wrong.\n",
    "Some relates to engineer problems, such as long training due to unefficient GPU communications.\n",
    "Other relates to research problems, such as stalling optimizer due to bad hyperparameters.\n",
    "\n",
    "In both case, it requires a set of tools to monitor our model."
   ]
  },
  {
   "attachments": {},
   "cell_type": "markdown",
   "metadata": {},
   "source": [
    "## Logging and Sweeping\n",
    "\n",
    "Let us start with the most basic tool to optimize hyperparameter: grid search."
   ]
  },
  {
   "attachments": {},
   "cell_type": "markdown",
   "metadata": {},
   "source": [
    "- logging - tensorboard - wandb."
   ]
  },
  {
   "attachments": {},
   "cell_type": "markdown",
   "metadata": {},
   "source": [
    "Grid search only reports one number, which is the validation accuracy.\n",
    "However, we may want to know more about the training process, so to get a better intuition of what is going on, and iterate faster to find the best hyperparameters."
   ]
  },
  {
   "attachments": {},
   "cell_type": "markdown",
   "metadata": {},
   "source": [
    "## A profiler to check under the hood\n",
    "\n",
    "Before discuss statistical efficiency, let us discuss a more tangible matter: computational efficiency.\n",
    "\n",
    "Although conceptually simple, the optimization of a parallel processing system depends on many parameters, such as the speed of communication, the memory bandwith and workload and memory capacity of each worker.\n",
    "When the system runs slow, it is important to understand why: is due to some memory overhead, automatic caching mechanism, and longer memory i/o operations? are we under utilizing each workers? are we overloading the communication channel?\n",
    "\n",
    "To answer those questions we need a good profiler."
   ]
  },
  {
   "attachments": {},
   "cell_type": "markdown",
   "metadata": {},
   "source": [
    "## Research around statistical efficiency\n",
    "\n",
    "- Weight and gradient scaling\n",
    "- Activation response\n",
    "- Impact of initialization\n",
    "- Optimizer scheme: explain Adam"
   ]
  },
  {
   "attachments": {},
   "cell_type": "markdown",
   "metadata": {},
   "source": []
  }
 ],
 "metadata": {
  "language_info": {
   "name": "python"
  },
  "orig_nbformat": 4
 },
 "nbformat": 4,
 "nbformat_minor": 2
}
