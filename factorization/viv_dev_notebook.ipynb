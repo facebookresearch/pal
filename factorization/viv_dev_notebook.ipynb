{
 "cells": [
  {
   "cell_type": "code",
   "execution_count": 1,
   "metadata": {},
   "outputs": [],
   "source": [
    "%load_ext autoreload\n",
    "%autoreload 2"
   ]
  },
  {
   "cell_type": "markdown",
   "metadata": {},
   "source": [
    "## Imports"
   ]
  },
  {
   "cell_type": "code",
   "execution_count": 2,
   "metadata": {},
   "outputs": [
    {
     "data": {
      "text/plain": [
       "<torch._C.Generator at 0x7fbaa8860b70>"
      ]
     },
     "execution_count": 2,
     "metadata": {},
     "output_type": "execute_result"
    }
   ],
   "source": [
    "import matplotlib.pyplot as plt\n",
    "import torch\n",
    "import torch.nn.functional as F\n",
    "\n",
    "torch.random.manual_seed(0)"
   ]
  },
  {
   "cell_type": "markdown",
   "metadata": {},
   "source": [
    "## Data: randomness\n",
    "\n",
    "Deterministic transform"
   ]
  },
  {
   "cell_type": "code",
   "execution_count": 3,
   "metadata": {},
   "outputs": [],
   "source": [
    "from factorization.data.synthetic import (\n",
    "    FactorizedProbas,\n",
    "    Sampler, \n",
    "    DirichletSampler,\n",
    "    AggregatedSampler,\n",
    ")"
   ]
  },
  {
   "cell_type": "code",
   "execution_count": 4,
   "metadata": {},
   "outputs": [],
   "source": [
    "alpha = 0.6\n",
    "\n",
    "all_ps = [\n",
    "    torch.tensor([3, 2, 2, 5]),\n",
    "    torch.tensor([2, 6, 5]),\n",
    "    torch.tensor([15, 2]),\n",
    "]\n",
    "all_qs = [\n",
    "    (alpha * p).ceil().int() for p in all_ps\n",
    "]\n",
    "\n",
    "weights = torch.tensor([1, 2, 0])\n",
    "\n",
    "input_size = max(p.prod() for p in all_ps)\n",
    "output_size = max(q.prod() for q in all_qs)\n",
    "\n",
    "all_probas = [\n",
    "    FactorizedProbas(p, q, input_size, output_size).probas for p, q in zip(all_ps, all_qs)\n",
    "]\n",
    "\n",
    "sampler = AggregatedSampler(all_probas, epsilon=1e-3)"
   ]
  },
  {
   "cell_type": "code",
   "execution_count": 5,
   "metadata": {},
   "outputs": [
    {
     "data": {
      "text/plain": [
       "[tensor([[0., 0., 0.,  ..., 0., 0., 0.],\n",
       "         [0., 0., 0.,  ..., 0., 0., 0.],\n",
       "         [0., 0., 0.,  ..., 0., 0., 0.],\n",
       "         ...,\n",
       "         [0., 0., 0.,  ..., 0., 1., 0.],\n",
       "         [0., 0., 0.,  ..., 0., 0., 1.],\n",
       "         [0., 0., 0.,  ..., 0., 0., 1.]]),\n",
       " tensor([[0., 0., 0.,  ..., 0., 0., 0.],\n",
       "         [0., 0., 0.,  ..., 1., 0., 0.],\n",
       "         [0., 0., 0.,  ..., 0., 0., 0.],\n",
       "         ...,\n",
       "         [0., 0., 0.,  ..., 1., 0., 0.],\n",
       "         [0., 0., 0.,  ..., 0., 0., 0.],\n",
       "         [0., 0., 0.,  ..., 0., 0., 0.]]),\n",
       " tensor([[0., 0., 0.,  ..., 0., 0., 0.],\n",
       "         [0., 0., 0.,  ..., 0., 0., 0.],\n",
       "         [0., 0., 0.,  ..., 0., 0., 0.],\n",
       "         ...,\n",
       "         [0., 0., 0.,  ..., 0., 0., 0.],\n",
       "         [0., 0., 0.,  ..., 0., 0., 0.],\n",
       "         [0., 0., 0.,  ..., 0., 0., 0.]])]"
      ]
     },
     "execution_count": 5,
     "metadata": {},
     "output_type": "execute_result"
    }
   ],
   "source": []
  },
  {
   "cell_type": "code",
   "execution_count": 6,
   "metadata": {},
   "outputs": [
    {
     "name": "stdout",
     "output_type": "stream",
     "text": [
      "tensor([[0., 0., 0., 0., 1.],\n",
      "        [0., 0., 0., 0., 1.],\n",
      "        [0., 0., 0., 1., 0.],\n",
      "        [1., 0., 0., 0., 0.],\n",
      "        [0., 0., 0., 1., 0.],\n",
      "        [0., 0., 0., 0., 1.],\n",
      "        [0., 0., 1., 0., 0.],\n",
      "        [0., 0., 0., 1., 0.],\n",
      "        [0., 0., 1., 0., 0.],\n",
      "        [0., 0., 0., 1., 0.]])\n"
     ]
    }
   ],
   "source": [
    "input_size = 10\n",
    "output_size = 5\n",
    "sampler = Sampler(input_size, output_size)\n",
    "print(sampler.probas)"
   ]
  },
  {
   "cell_type": "code",
   "execution_count": 7,
   "metadata": {},
   "outputs": [
    {
     "name": "stdout",
     "output_type": "stream",
     "text": [
      "tensor([4, 4, 3, 0, 3, 4, 2, 3, 2, 3, 4, 4, 3, 4, 4, 0])\n"
     ]
    }
   ],
   "source": [
    "# ilustrating the generating function\n",
    "inputs = torch.tensor([0, 1, 2, 3, 4, 5, 6, 7, 8, 9, 1, 1, 2, 1, 1, 3,])\n",
    "targets = sampler.generate_targets(inputs)\n",
    "print(targets)"
   ]
  },
  {
   "cell_type": "markdown",
   "metadata": {},
   "source": [
    "Sparse transform"
   ]
  },
  {
   "cell_type": "code",
   "execution_count": 6,
   "metadata": {},
   "outputs": [
    {
     "name": "stdout",
     "output_type": "stream",
     "text": [
      "tensor([[4.9970e-01, 2.0000e-04, 1.0010e-01, 2.0000e-01, 2.0000e-01],\n",
      "        [2.0000e-04, 2.0000e-01, 2.9990e-01, 3.9980e-01, 1.0010e-01],\n",
      "        [2.9990e-01, 1.0010e-01, 2.9990e-01, 1.0010e-01, 2.0000e-01],\n",
      "        [2.0000e-01, 2.9990e-01, 2.0000e-01, 2.9990e-01, 2.0000e-04],\n",
      "        [2.0000e-04, 2.0000e-01, 2.0000e-01, 1.0010e-01, 4.9970e-01],\n",
      "        [2.0000e-01, 2.0000e-01, 2.0000e-04, 2.0000e-01, 3.9980e-01],\n",
      "        [1.0010e-01, 2.9990e-01, 1.0010e-01, 2.0000e-01, 2.9990e-01],\n",
      "        [1.0010e-01, 1.0010e-01, 2.0000e-01, 1.0010e-01, 4.9970e-01],\n",
      "        [3.9980e-01, 2.0000e-01, 2.0000e-01, 2.0000e-01, 2.0000e-04],\n",
      "        [2.0000e-01, 1.0010e-01, 1.0010e-01, 2.0000e-01, 3.9980e-01]])\n"
     ]
    }
   ],
   "source": [
    "sparsity_index = 10\n",
    "all_probas = [\n",
    "    Sampler(input_size, output_size).probas for _ in range(sparsity_index)\n",
    "]\n",
    "sampler = AggregatedSampler(all_probas, epsilon=1e-3)\n",
    "print(sampler.probas)"
   ]
  },
  {
   "cell_type": "code",
   "execution_count": 7,
   "metadata": {},
   "outputs": [],
   "source": [
    "tmp = sum(all_probas)\n",
    "tmp /= input_size\n",
    "tmp *= (1 - 1e-3)\n",
    "tmp += 1e-3 / output_size\n",
    "assert torch.allclose(tmp, sampler.probas)"
   ]
  },
  {
   "cell_type": "markdown",
   "metadata": {},
   "source": [
    "Random transform"
   ]
  },
  {
   "cell_type": "code",
   "execution_count": 8,
   "metadata": {},
   "outputs": [
    {
     "name": "stdout",
     "output_type": "stream",
     "text": [
      "tensor([[0.2649, 0.0625, 0.1046, 0.3650, 0.2031],\n",
      "        [0.4859, 0.0046, 0.2810, 0.1338, 0.0947],\n",
      "        [0.1982, 0.0459, 0.3593, 0.2103, 0.1864],\n",
      "        [0.1445, 0.3282, 0.0426, 0.3749, 0.1098],\n",
      "        [0.2558, 0.2781, 0.2610, 0.1473, 0.0579],\n",
      "        [0.1019, 0.4135, 0.0127, 0.0185, 0.4534],\n",
      "        [0.1891, 0.0014, 0.0172, 0.1071, 0.6852],\n",
      "        [0.0548, 0.5081, 0.0892, 0.2946, 0.0533],\n",
      "        [0.6038, 0.0844, 0.1579, 0.0968, 0.0570],\n",
      "        [0.1845, 0.0112, 0.1306, 0.5585, 0.1152]])\n"
     ]
    }
   ],
   "source": [
    "alpha = 1\n",
    "sampler = DirichletSampler(input_size, output_size, alpha)\n",
    "print(sampler.probas)"
   ]
  },
  {
   "cell_type": "markdown",
   "metadata": {},
   "source": [
    "## Data: Factorized relation"
   ]
  },
  {
   "cell_type": "code",
   "execution_count": 9,
   "metadata": {},
   "outputs": [],
   "source": [
    "from dataclasses import dataclass\n",
    "\n",
    "@dataclass\n",
    "class TransformConfig:\n",
    "    ps: torch.Tensor = None\n",
    "    alpha: float = None\n",
    "\n",
    "    def __post_init__(self):\n",
    "        self.qs = (self.alpha * self.ps).ceil().to(int)\n",
    "        self.input_size = self.ps.prod()\n",
    "\n"
   ]
  },
  {
   "cell_type": "code",
   "execution_count": 17,
   "metadata": {},
   "outputs": [],
   "source": [
    "ps = torch.tensor([4, 6, 2, 5, 100, 3])\n",
    "ps = torch.tensor([1000])\n",
    "alpha = .5\n",
    "transform = DeterministicTransform(TransformConfig(ps, alpha))\n",
    "\n",
    "x = transform.inputs\n",
    "y = transform.outputs"
   ]
  },
  {
   "cell_type": "code",
   "execution_count": 19,
   "metadata": {},
   "outputs": [
    {
     "data": {
      "text/plain": [
       "tensor([402, 202, 427,  30, 159, 306,  38, 396, 277, 412, 471, 460, 234, 385,\n",
       "        399, 380, 475, 210, 151, 341, 255,  20,  19,  77, 370, 253, 449,  74,\n",
       "         19,  60,   6, 298,  52, 402, 189, 245, 255, 242, 215,  44,  91, 287,\n",
       "        470,  13, 231, 203, 301, 230, 288, 313, 431, 225, 239, 223, 394, 332,\n",
       "        452, 464, 421, 288, 160, 244, 289,  19,  97, 227, 157, 110, 359,  97,\n",
       "        157, 202, 104, 250, 422, 161,  24, 457, 131, 157, 191, 397, 492, 266,\n",
       "        488, 468, 479, 360,  29, 427, 170, 422, 248, 166, 374, 106, 174, 488,\n",
       "        315, 103,  34, 117, 460,  42, 111, 481, 351, 487,  31, 377,  74, 435,\n",
       "        120, 329, 152,  37, 378, 287, 323,  56, 228, 237, 382, 369, 404, 121,\n",
       "        471,  26, 209, 429, 469, 187, 498, 362, 413, 153, 438, 281, 174, 287,\n",
       "        110, 180, 127, 160,  38, 375,  47, 415,  40, 469,  73, 369, 465, 196,\n",
       "         84, 105, 175, 426, 318,  16,  31, 372, 222,  58,  83, 287,   4, 208,\n",
       "        451, 323, 233,  79, 237, 160, 206, 188, 349,  61, 405, 271, 481, 378,\n",
       "         45, 132, 491,  84, 359, 399, 222,  98, 189, 247, 377, 426, 435, 436,\n",
       "        167, 361, 214, 497, 405, 494, 102, 202, 189, 206,  98,  66, 177, 250,\n",
       "        157, 285, 207, 154, 312,  14, 248, 395, 452, 324, 472, 456, 390, 412,\n",
       "         88, 172, 268, 370, 319, 179, 474, 165, 469, 143, 306, 264, 241, 164,\n",
       "        281, 308, 142, 497, 102, 394, 229, 165, 206, 444, 123, 198, 243, 122,\n",
       "        490, 455, 444,  41, 304, 416, 462, 227,  80, 170,  19, 439, 255, 277,\n",
       "        291, 213, 271,  38, 436, 316, 310, 432, 116,  25, 365, 462, 115, 290,\n",
       "        432, 415, 196, 356, 328, 464, 196, 467, 127, 480, 181,   3, 428, 252,\n",
       "         53, 293, 107, 438, 332, 378, 478, 184, 185, 483, 223, 494, 352, 353,\n",
       "        205, 165, 206, 496, 116, 448, 316,  55, 423, 200, 343, 233, 347, 248,\n",
       "        274, 147, 123, 109, 455, 114, 432, 451, 345, 288, 239,  85,  30, 396,\n",
       "        492, 327, 409, 473, 378,  80, 280, 257, 270, 238,  10, 170, 238, 479,\n",
       "        229, 394, 114, 134, 243, 196, 283, 427, 265, 309, 143, 424, 394, 374,\n",
       "        392,  55, 458,  77, 165, 100, 120,  59, 113, 355, 333, 380, 485, 391,\n",
       "        272, 233,  91, 306, 475, 244, 196, 385, 125,  83, 187,  94,  56, 247,\n",
       "        437,  64, 412,   0, 155, 346, 343, 103, 484, 248, 118, 370, 364, 376,\n",
       "         25, 400, 471, 134,  15, 189, 178, 379, 135,  87, 301, 331,  41,   2,\n",
       "        247, 132, 138, 169,  36, 444,  99, 421, 271, 462, 433, 114,  15, 130,\n",
       "        264,  53,  87, 211, 117, 484, 379, 229, 339, 373, 339, 312, 209, 434,\n",
       "         22, 195, 418, 250,  77, 493,  71, 319, 392, 133, 461, 205, 218, 243,\n",
       "        367,  41,  49, 408,   3, 147, 323, 132,  69, 450, 339,  38, 373,  18,\n",
       "         87,  95, 496, 299, 489,  12, 333, 272, 261, 282,  11,  47, 444, 411,\n",
       "          1,  12, 316,  54,  54, 150, 416, 259,   3, 257,  42, 340, 364, 183,\n",
       "        305,  53,  33, 180,  85,  47, 353, 107, 316, 318, 463,   5, 335, 103,\n",
       "        162, 287, 445, 367, 156, 395, 384, 275,  90, 133, 163,  60, 405,  68,\n",
       "        315, 160,  14, 182,  77, 475, 422, 137, 230,  79, 432, 361, 339, 400,\n",
       "         17, 240, 499, 271, 368, 282, 465, 498,  59, 182, 341,  44, 255, 433,\n",
       "         30, 110, 199, 141, 325, 332, 493, 248, 194, 261, 231, 212, 161,  39,\n",
       "         42,  47, 120, 492, 284, 446, 471, 208, 156,  83, 210, 149, 451, 460,\n",
       "        247, 492, 429, 199, 366,   0,   4, 422, 354, 366, 250, 204, 117, 208,\n",
       "        420, 480, 333,  48, 350, 136, 387, 498, 233, 272,  51, 355,  33,  99,\n",
       "        189, 424, 135, 320,   2, 240, 182,  69,  12, 155, 368, 353,  49, 482,\n",
       "        136, 341, 340, 421, 488, 260, 497, 105,  56,  59, 151, 246, 171, 266,\n",
       "        452, 417,  94, 247, 493, 231, 353, 228, 231, 332, 306, 341, 458,  38,\n",
       "         88,  26, 141,  22, 428, 311,  10, 403, 148, 426, 290, 173, 420, 350,\n",
       "         38, 299, 311, 135, 451, 109,  11, 430, 142, 156, 326,  57, 208, 312,\n",
       "        385, 313, 212, 281, 175, 213,  65, 407, 108, 402, 484,  52, 235, 273,\n",
       "        391, 479, 427,  42, 372, 172,  42, 410, 145, 153, 317, 435, 350, 248,\n",
       "         64, 282, 414, 423, 175, 180, 189, 251, 179, 301, 206, 289, 498,  76,\n",
       "        406, 391,  36, 197, 440, 143, 154, 137, 422, 161,  26, 335, 106, 162,\n",
       "        455, 238,  40, 196,  69, 308, 140, 430,  52,  47, 489, 230, 481, 217,\n",
       "         81,  72,  10, 489, 241, 384, 399, 141,  91, 281, 485, 146, 374, 412,\n",
       "        297, 470, 142, 298, 251, 221, 437, 234, 360, 233, 313, 169, 120,   7,\n",
       "        356,  74, 381, 421,  96,  82,  91, 230, 266, 426, 458,  36, 313, 486,\n",
       "        215, 113, 129,   0, 159, 129,   2, 497, 174, 418, 156,  82, 435, 312,\n",
       "        236, 176, 461, 210, 153, 484, 475, 349,  90,  51,  20, 235,  90, 301,\n",
       "        283, 268,  95, 225, 280, 459,  42,  98, 484, 237, 451, 460,   3, 304,\n",
       "          4, 472,  87, 343, 179, 280, 455, 164, 184, 452, 420, 476, 448,  50,\n",
       "         82, 287, 266, 400, 338, 266, 292, 145, 437, 171, 142, 350, 321, 356,\n",
       "        316, 344,  68, 114, 463, 432, 323, 287, 472, 328, 167, 192, 388,  78,\n",
       "        131, 362, 268, 216,  65, 246, 493, 102, 320, 201, 257, 325, 249, 111,\n",
       "        255, 468, 137, 435,   3, 473,  13, 390, 112, 345, 242, 495, 195,  41,\n",
       "        446, 160,  35,  76, 155,  77, 449, 419, 182, 141, 210,  17, 240, 488,\n",
       "        260,  59, 470, 394, 232, 282, 227, 492, 308, 363, 476, 110,   6, 392,\n",
       "        124, 112, 389,  69, 148, 236, 382, 421,  55, 192, 356, 107,   1, 487,\n",
       "        416, 477, 348, 359, 414, 368, 353, 138, 310, 320,  49, 152, 233, 442,\n",
       "        379, 322, 316, 270, 424, 336, 492, 192, 370, 484,  96, 118, 135,   7,\n",
       "        108, 475, 420, 253, 374, 271, 490, 164, 133, 465,  97,  70,  86,  60,\n",
       "         83, 404, 362, 107,  68, 205])"
      ]
     },
     "execution_count": 19,
     "metadata": {},
     "output_type": "execute_result"
    }
   ],
   "source": [
    "y"
   ]
  },
  {
   "cell_type": "code",
   "execution_count": 20,
   "metadata": {},
   "outputs": [
    {
     "name": "stdout",
     "output_type": "stream",
     "text": [
      "tensor([0.0010], dtype=torch.float64)\n",
      "tensor([0.0010])\n"
     ]
    }
   ],
   "source": [
    "factors = transform.x_factorizer(x)\n",
    "print(1 - (factors != 0).to(float).mean(axis=0))\n",
    "print(1 / ps)"
   ]
  },
  {
   "cell_type": "code",
   "execution_count": 12,
   "metadata": {},
   "outputs": [
    {
     "name": "stdout",
     "output_type": "stream",
     "text": [
      "tensor(True) tensor(True)\n"
     ]
    },
    {
     "data": {
      "text/plain": [
       "[<matplotlib.lines.Line2D at 0x7f8cdb22c4d0>]"
      ]
     },
     "execution_count": 12,
     "metadata": {},
     "output_type": "execute_result"
    },
    {
     "data": {
      "image/png": "[encoded data removed]",
      "text/plain": [
       "<Figure size 640x480 with 1 Axes>"
      ]
     },
     "metadata": {},
     "output_type": "display_data"
    }
   ],
   "source": [
    "x_tmp = transform.x_factorizer.recomposition(factors)\n",
    "y_transform = transform.y_factorizer(y)\n",
    "y_tmp = transform.y_factorizer.recomposition(y_transform)\n",
    "print((x_tmp == x).all(), (y_tmp == y).all())\n",
    "plt.plot(x, y)"
   ]
  },
  {
   "cell_type": "markdown",
   "metadata": {},
   "source": [
    "## Model\n",
    "\n",
    "To keep it simple, I take a MLP architecture that resembles a transformer without attention."
   ]
  },
  {
   "cell_type": "code",
   "execution_count": 13,
   "metadata": {},
   "outputs": [],
   "source": [
    "from factorization.models.mlp import ModelConfig, Model"
   ]
  },
  {
   "cell_type": "code",
   "execution_count": 14,
   "metadata": {},
   "outputs": [],
   "source": [
    "config = ModelConfig(\n",
    "    input_size=ps.prod(),\n",
    "    output_size=torch.max(y) + 1,\n",
    "    emb_dim=32,\n",
    "    ffn_dim=64,\n",
    "    nb_layers=2,\n",
    ")\n",
    "\n",
    "model = Model(config)"
   ]
  },
  {
   "cell_type": "markdown",
   "metadata": {},
   "source": [
    "## training"
   ]
  },
  {
   "cell_type": "code",
   "execution_count": 15,
   "metadata": {},
   "outputs": [],
   "source": [
    "n_epochs = 1000\n",
    "model.train()\n",
    "optimizer = torch.optim.Adam(model.parameters(), lr=.01)\n",
    "\n",
    "device = torch.device(\"cuda\" if torch.cuda.is_available() else \"cpu\")\n",
    "\n",
    "losses = torch.empty(n_epochs)\n",
    "\n",
    "inputs = x\n",
    "outputs = y\n",
    "\n",
    "# min_loss = F.cross_entropy(torch.log(targets), targets).item()\n",
    "min_loss = 0\n",
    "\n",
    "model.to(device)\n",
    "inputs = inputs.to(device)\n",
    "targets = outputs.to(device)\n",
    "\n",
    "for epoch in range(n_epochs):\n",
    "    # training\n",
    "\n",
    "    logits = model(inputs)\n",
    "    loss = F.cross_entropy(logits, targets)\n",
    "\n",
    "    optimizer.zero_grad()\n",
    "    loss.backward()\n",
    "    optimizer.step()\n",
    "\n",
    "    losses[epoch] = loss.item() - min_loss"
   ]
  },
  {
   "cell_type": "code",
   "execution_count": 16,
   "metadata": {},
   "outputs": [
    {
     "data": {
      "text/plain": [
       "[]"
      ]
     },
     "execution_count": 16,
     "metadata": {},
     "output_type": "execute_result"
    },
    {
     "data": {
      "image/png": "[encoded data removed]",
      "text/plain": [
       "<Figure size 640x480 with 1 Axes>"
      ]
     },
     "metadata": {},
     "output_type": "display_data"
    }
   ],
   "source": [
    "plt.plot(losses)\n",
    "plt.loglog()"
   ]
  },
  {
   "cell_type": "code",
   "execution_count": null,
   "metadata": {},
   "outputs": [],
   "source": []
  }
 ],
 "metadata": {
  "kernelspec": {
   "display_name": "llm",
   "language": "python",
   "name": "python3"
  },
  "language_info": {
   "codemirror_mode": {
    "name": "ipython",
    "version": 3
   },
   "file_extension": ".py",
   "mimetype": "text/x-python",
   "name": "python",
   "nbconvert_exporter": "python",
   "pygments_lexer": "ipython3",
   "version": "3.12.3"
  }
 },
 "nbformat": 4,
 "nbformat_minor": 2
}
