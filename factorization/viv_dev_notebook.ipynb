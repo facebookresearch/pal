{
 "cells": [
  {
   "cell_type": "code",
   "execution_count": 1,
   "metadata": {},
   "outputs": [],
   "source": [
    "%load_ext autoreload\n",
    "%autoreload 2"
   ]
  },
  {
   "cell_type": "markdown",
   "metadata": {},
   "source": [
    "## Imports"
   ]
  },
  {
   "cell_type": "code",
   "execution_count": 2,
   "metadata": {},
   "outputs": [],
   "source": [
    "import matplotlib.pyplot as plt\n",
    "import torch\n",
    "import torch.nn.functional as F\n",
    "\n",
    "from factorization.data.synthetic import Sampler, SamplerConfig\n",
    "from factorization.models.mlp import ModelConfig, Model\n",
    "\n",
    "torch.random.manual_seed(0)\n",
    "DEVICE = torch.device('cuda' if torch.cuda.is_available() else 'cpu')"
   ]
  },
  {
   "cell_type": "markdown",
   "metadata": {},
   "source": [
    "## Data\n",
    "\n",
    "Simple interface to generate all the data setup described in the overleaf"
   ]
  },
  {
   "cell_type": "code",
   "execution_count": 3,
   "metadata": {},
   "outputs": [
    {
     "name": "stderr",
     "output_type": "stream",
     "text": [
      "/home/vivc/Code/memory-theory/src/factorization/data/synthetic.py:198: UserWarning: To copy construct from a tensor, it is recommended to use sourceTensor.clone().detach() or sourceTensor.clone().detach().requires_grad_(True), rather than torch.tensor(sourceTensor).\n",
      "  self.input_divisors = [torch.tensor(p, device=DEVICE) for p in self.input_divisors]\n"
     ]
    }
   ],
   "source": [
    "# %% Instantiation\n",
    "\n",
    "alpha = 0.6\n",
    "input_size = 60\n",
    "output_size = 24\n",
    "\n",
    "all_ps = [\n",
    "    torch.tensor([3, 2, 2, 5], device=DEVICE),\n",
    "    torch.tensor([2, 6, 5], device=DEVICE),\n",
    "    torch.tensor([15, 2], device=DEVICE),\n",
    "]\n",
    "all_qs = [(alpha * p).ceil().int() for p in all_ps]\n",
    "\n",
    "weights = None\n",
    "\n",
    "sparse_config = SamplerConfig(\n",
    "    input_divisors=all_ps,\n",
    "    alpha=alpha,\n",
    "    weights=weights,\n",
    "    epsilon=1e-7,\n",
    ")\n",
    "sampler = Sampler(sparse_config)\n",
    "\n",
    "deterministic_config = SamplerConfig(\n",
    "    input_divisors=[[input_size]],\n",
    "    output_divisors=[[output_size]],\n",
    "    epsilon=1e-7,\n",
    ")\n",
    "deterministic_sampler = Sampler(deterministic_config)\n",
    "\n",
    "random_config = SamplerConfig(\n",
    "    input_size=input_size,\n",
    "    output_size=output_size,\n",
    "    random=True,\n",
    ")\n",
    "random_sampler = Sampler(random_config)"
   ]
  },
  {
   "cell_type": "code",
   "execution_count": 5,
   "metadata": {},
   "outputs": [
    {
     "ename": "TypeError",
     "evalue": "multinomial() got an unexpected keyword argument 'device'",
     "output_type": "error",
     "traceback": [
      "\u001b[0;31m---------------------------------------------------------------------------\u001b[0m",
      "\u001b[0;31mTypeError\u001b[0m                                 Traceback (most recent call last)",
      "Cell \u001b[0;32mIn[5], line 1\u001b[0m\n\u001b[0;32m----> 1\u001b[0m \u001b[43mrandom_sampler\u001b[49m\u001b[38;5;241;43m.\u001b[39;49m\u001b[43msample_in_parallel\u001b[49m\u001b[43m(\u001b[49m\u001b[38;5;241;43m20\u001b[39;49m\u001b[43m)\u001b[49m\u001b[38;5;241m.\u001b[39mshape\n",
      "File \u001b[0;32m~/Code/memory-theory/src/factorization/data/synthetic.py:295\u001b[0m, in \u001b[0;36mSampler.sample_in_parallel\u001b[0;34m(self, n_samples, device)\u001b[0m\n\u001b[1;32m    281\u001b[0m \u001b[38;5;28;01mdef\u001b[39;00m \u001b[38;5;21msample_in_parallel\u001b[39m(\u001b[38;5;28mself\u001b[39m, n_samples: \u001b[38;5;28mint\u001b[39m \u001b[38;5;241m=\u001b[39m \u001b[38;5;241m1\u001b[39m, device: \u001b[38;5;28mstr\u001b[39m \u001b[38;5;241m=\u001b[39m DEVICE) \u001b[38;5;241m-\u001b[39m\u001b[38;5;241m>\u001b[39m torch\u001b[38;5;241m.\u001b[39mTensor:\n\u001b[1;32m    282\u001b[0m \u001b[38;5;250m    \u001b[39m\u001b[38;5;124;03m\"\"\"\u001b[39;00m\n\u001b[1;32m    283\u001b[0m \u001b[38;5;124;03m    Sample outputs from each inputs in parallel.\u001b[39;00m\n\u001b[1;32m    284\u001b[0m \n\u001b[0;32m   (...)\u001b[0m\n\u001b[1;32m    293\u001b[0m \u001b[38;5;124;03m        Matrix of `input_size` generated samples.\u001b[39;00m\n\u001b[1;32m    294\u001b[0m \u001b[38;5;124;03m    \"\"\"\u001b[39;00m\n\u001b[0;32m--> 295\u001b[0m     \u001b[38;5;28;01mreturn\u001b[39;00m \u001b[43mtorch\u001b[49m\u001b[38;5;241;43m.\u001b[39;49m\u001b[43mmultinomial\u001b[49m\u001b[43m(\u001b[49m\u001b[38;5;28;43mself\u001b[39;49m\u001b[38;5;241;43m.\u001b[39;49m\u001b[43mprobas\u001b[49m\u001b[43m,\u001b[49m\u001b[43m \u001b[49m\u001b[43mn_samples\u001b[49m\u001b[43m,\u001b[49m\u001b[43m \u001b[49m\u001b[43mreplacement\u001b[49m\u001b[38;5;241;43m=\u001b[39;49m\u001b[38;5;28;43;01mTrue\u001b[39;49;00m\u001b[43m,\u001b[49m\u001b[43m \u001b[49m\u001b[43mdevice\u001b[49m\u001b[38;5;241;43m=\u001b[39;49m\u001b[43mdevice\u001b[49m\u001b[43m)\u001b[49m\n",
      "\u001b[0;31mTypeError\u001b[0m: multinomial() got an unexpected keyword argument 'device'"
     ]
    }
   ],
   "source": [
    "random_sampler.sample_in_parallel(20).shape"
   ]
  },
  {
   "cell_type": "markdown",
   "metadata": {},
   "source": [
    "## Model\n",
    "\n",
    "To keep it simple, I take a MLP architecture that resembles a transformer without attention."
   ]
  },
  {
   "cell_type": "code",
   "execution_count": 4,
   "metadata": {},
   "outputs": [
    {
     "ename": "AttributeError",
     "evalue": "'ModelConfig' object has no attribute '__post_init__'",
     "output_type": "error",
     "traceback": [
      "\u001b[0;31m---------------------------------------------------------------------------\u001b[0m",
      "\u001b[0;31mAttributeError\u001b[0m                            Traceback (most recent call last)",
      "Cell \u001b[0;32mIn[4], line 1\u001b[0m\n\u001b[0;32m----> 1\u001b[0m config \u001b[38;5;241m=\u001b[39m \u001b[43mModelConfig\u001b[49m\u001b[43m(\u001b[49m\n\u001b[1;32m      2\u001b[0m \u001b[43m    \u001b[49m\u001b[43minput_size\u001b[49m\u001b[38;5;241;43m=\u001b[39;49m\u001b[43minput_size\u001b[49m\u001b[43m,\u001b[49m\n\u001b[1;32m      3\u001b[0m \u001b[43m    \u001b[49m\u001b[43moutput_size\u001b[49m\u001b[38;5;241;43m=\u001b[39;49m\u001b[43moutput_size\u001b[49m\u001b[43m,\u001b[49m\n\u001b[1;32m      4\u001b[0m \u001b[43m    \u001b[49m\u001b[43memb_dim\u001b[49m\u001b[38;5;241;43m=\u001b[39;49m\u001b[38;5;241;43m32\u001b[39;49m\u001b[43m,\u001b[49m\n\u001b[1;32m      5\u001b[0m \u001b[43m    \u001b[49m\u001b[43mffn_dim\u001b[49m\u001b[38;5;241;43m=\u001b[39;49m\u001b[38;5;241;43m64\u001b[39;49m\u001b[43m,\u001b[49m\n\u001b[1;32m      6\u001b[0m \u001b[43m    \u001b[49m\u001b[43mnb_layers\u001b[49m\u001b[38;5;241;43m=\u001b[39;49m\u001b[38;5;241;43m2\u001b[39;49m\u001b[43m,\u001b[49m\n\u001b[1;32m      7\u001b[0m \u001b[43m)\u001b[49m\n\u001b[1;32m      9\u001b[0m model \u001b[38;5;241m=\u001b[39m Model(config)\n",
      "File \u001b[0;32m~/Code/memory-theory/src/factorization/models/mlp.py:30\u001b[0m, in \u001b[0;36mModelConfig.__init__\u001b[0;34m(self, **kwargs)\u001b[0m\n\u001b[1;32m     28\u001b[0m \u001b[38;5;28;01mdef\u001b[39;00m \u001b[38;5;21m__init__\u001b[39m(\u001b[38;5;28mself\u001b[39m, \u001b[38;5;241m*\u001b[39m\u001b[38;5;241m*\u001b[39mkwargs):\n\u001b[1;32m     29\u001b[0m     \u001b[38;5;28mself\u001b[39m\u001b[38;5;241m.\u001b[39m\u001b[38;5;18m__dict__\u001b[39m\u001b[38;5;241m.\u001b[39mupdate((k, v) \u001b[38;5;28;01mfor\u001b[39;00m k, v \u001b[38;5;129;01min\u001b[39;00m kwargs\u001b[38;5;241m.\u001b[39mitems() \u001b[38;5;28;01mif\u001b[39;00m k \u001b[38;5;129;01min\u001b[39;00m \u001b[38;5;28mself\u001b[39m\u001b[38;5;241m.\u001b[39m\u001b[38;5;18m__annotations__\u001b[39m)\n\u001b[0;32m---> 30\u001b[0m     \u001b[38;5;28;43mself\u001b[39;49m\u001b[38;5;241;43m.\u001b[39;49m\u001b[43m__post_init__\u001b[49m()\n",
      "\u001b[0;31mAttributeError\u001b[0m: 'ModelConfig' object has no attribute '__post_init__'"
     ]
    }
   ],
   "source": [
    "config = ModelConfig(\n",
    "    input_size=input_size,\n",
    "    output_size=output_size,\n",
    "    emb_dim=32,\n",
    "    ffn_dim=64,\n",
    "    nb_layers=2,\n",
    ")\n",
    "\n",
    "model = Model(config)"
   ]
  },
  {
   "cell_type": "markdown",
   "metadata": {},
   "source": [
    "## training"
   ]
  },
  {
   "cell_type": "code",
   "execution_count": null,
   "metadata": {},
   "outputs": [
    {
     "ename": "AttributeError",
     "evalue": "module 'torch.random' has no attribute 'choice'",
     "output_type": "error",
     "traceback": [
      "\u001b[0;31m---------------------------------------------------------------------------\u001b[0m",
      "\u001b[0;31mAttributeError\u001b[0m                            Traceback (most recent call last)",
      "Cell \u001b[0;32mIn[32], line 12\u001b[0m\n\u001b[1;32m      9\u001b[0m losses \u001b[38;5;241m=\u001b[39m torch\u001b[38;5;241m.\u001b[39mempty(n_epochs)\n\u001b[1;32m     11\u001b[0m inputs \u001b[38;5;241m=\u001b[39m torch\u001b[38;5;241m.\u001b[39marange(input_size)\u001b[38;5;241m.\u001b[39mto(\u001b[38;5;28mint\u001b[39m)\n\u001b[0;32m---> 12\u001b[0m train_inputs \u001b[38;5;241m=\u001b[39m \u001b[43mtorch\u001b[49m\u001b[38;5;241;43m.\u001b[39;49m\u001b[43mrandom\u001b[49m\u001b[38;5;241;43m.\u001b[39;49m\u001b[43mchoice\u001b[49m(inputs, (\u001b[38;5;241m1000\u001b[39m, input_size))\n\u001b[1;32m     14\u001b[0m outputs \u001b[38;5;241m=\u001b[39m backbone_sampler(inputs)\n\u001b[1;32m     15\u001b[0m probas \u001b[38;5;241m=\u001b[39m backbone_sampler\u001b[38;5;241m.\u001b[39mprobas\n",
      "\u001b[0;31mAttributeError\u001b[0m: module 'torch.random' has no attribute 'choice'"
     ]
    }
   ],
   "source": [
    "n_epochs = 0\n",
    "model.train()\n",
    "optimizer = torch.optim.Adam(model.parameters(), lr=.01)\n",
    "\n",
    "n_train = (input_size * 2) // 3\n",
    "\n",
    "backbone_sampler = random_sampler\n",
    "\n",
    "device = torch.device(\"cuda\" if torch.cuda.is_available() else \"cpu\")\n",
    "\n",
    "losses = torch.empty(n_epochs)\n",
    "\n",
    "inputs = torch.arange(input_size).to(int)\n",
    "indices = torch.randperm(len(inputs))\n",
    "train_inputs = inputs[indices[:n_train]]\n",
    "test_inputs = inputs[indices[n_train:]]\n",
    "\n",
    "outputs = backbone_sampler(inputs)\n",
    "probas = backbone_sampler.probas\n",
    "\n",
    "min_loss = F.cross_entropy(torch.log(probas), probas).item()\n",
    "\n",
    "model.to(device)\n",
    "inputs = inputs.to(device)\n",
    "targets = outputs.to(device)\n",
    "\n",
    "for epoch in range(n_epochs):\n",
    "    # training\n",
    "    with torch.no_grad():\n",
    "        targets = backbone_sampler(train_inputs).to(device)\n",
    "\n",
    "    logits = model(inputs)\n",
    "    loss = F.cross_entropy(logits, targets)\n",
    "\n",
    "    optimizer.zero_grad()\n",
    "    loss.backward()\n",
    "    optimizer.step()\n",
    "\n",
    "    with torch.no_grad():\n",
    "        loss = F.cross_entropy(logits, probas)\n",
    "        losses[epoch] = loss.item() - min_loss"
   ]
  },
  {
   "cell_type": "code",
   "execution_count": null,
   "metadata": {},
   "outputs": [
    {
     "data": {
      "text/plain": [
       "2.777881383895874"
      ]
     },
     "execution_count": 30,
     "metadata": {},
     "output_type": "execute_result"
    }
   ],
   "source": [
    "min_loss"
   ]
  },
  {
   "cell_type": "code",
   "execution_count": null,
   "metadata": {},
   "outputs": [
    {
     "data": {
      "text/plain": [
       "[]"
      ]
     },
     "execution_count": 31,
     "metadata": {},
     "output_type": "execute_result"
    },
    {
     "data": {
      "image/png": "[encoded data removed]",
      "text/plain": [
       "<Figure size 640x480 with 1 Axes>"
      ]
     },
     "metadata": {},
     "output_type": "display_data"
    }
   ],
   "source": [
    "plt.plot(losses)\n",
    "plt.loglog()"
   ]
  }
 ],
 "metadata": {
  "kernelspec": {
   "display_name": "llm",
   "language": "python",
   "name": "python3"
  },
  "language_info": {
   "codemirror_mode": {
    "name": "ipython",
    "version": 3
   },
   "file_extension": ".py",
   "mimetype": "text/x-python",
   "name": "python",
   "nbconvert_exporter": "python",
   "pygments_lexer": "ipython3",
   "version": "3.12.3"
  }
 },
 "nbformat": 4,
 "nbformat_minor": 2
}
