{
 "cells": [
  {
   "cell_type": "code",
   "execution_count": 1,
   "metadata": {},
   "outputs": [],
   "source": [
    "%load_ext autoreload\n",
    "%autoreload 2"
   ]
  },
  {
   "cell_type": "markdown",
   "metadata": {},
   "source": [
    "## Imports"
   ]
  },
  {
   "cell_type": "code",
   "execution_count": 2,
   "metadata": {},
   "outputs": [
    {
     "data": {
      "text/plain": [
       "<torch._C.Generator at 0x7f2fa94e1690>"
      ]
     },
     "execution_count": 2,
     "metadata": {},
     "output_type": "execute_result"
    }
   ],
   "source": [
    "import matplotlib.pyplot as plt\n",
    "import torch\n",
    "import torch.nn.functional as F\n",
    "\n",
    "from factorization.data.synthetic import Sampler, SamplerConfig\n",
    "from factorization.config import DEVICE\n",
    "from factorization.models.mlp import ModelConfig, Model\n",
    "\n",
    "from torch.utils.data import TensorDataset, DataLoader\n",
    "\n",
    "\n",
    "torch.random.manual_seed(0)"
   ]
  },
  {
   "cell_type": "markdown",
   "metadata": {},
   "source": [
    "## Data\n",
    "\n",
    "Simple interface to generate all the data setup described in the overleaf"
   ]
  },
  {
   "cell_type": "code",
   "execution_count": 3,
   "metadata": {},
   "outputs": [],
   "source": [
    "# %% Instantiation\n",
    "\n",
    "alpha = 0.6\n",
    "input_size = 60\n",
    "output_size = 24\n",
    "\n",
    "all_ps = [\n",
    "    [3, 2, 2, 5],\n",
    "    # [2, 6, 5],\n",
    "    # [15, 2],\n",
    "]\n",
    "\n",
    "weights = None\n",
    "\n",
    "sparse_config = SamplerConfig(\n",
    "    input_divisors=all_ps,\n",
    "    alpha=alpha,\n",
    "    weights=weights,\n",
    "    epsilon=1e-7,\n",
    ")\n",
    "sampler = Sampler(sparse_config).to(DEVICE)\n",
    "\n",
    "deterministic_config = SamplerConfig(\n",
    "    input_divisors=[[input_size]],\n",
    "    output_divisors=[[output_size]],\n",
    "    epsilon=1e-7,\n",
    ")\n",
    "deterministic_sampler = Sampler(deterministic_config).to(DEVICE)\n",
    "\n",
    "random_config = SamplerConfig(\n",
    "    input_size=input_size,\n",
    "    output_size=output_size,\n",
    "    random=True,\n",
    ")\n",
    "random_sampler = Sampler(random_config).to(DEVICE)"
   ]
  },
  {
   "cell_type": "markdown",
   "metadata": {},
   "source": [
    "## Model\n",
    "\n",
    "To keep it simple, I take a MLP architecture that resembles a transformer without attention."
   ]
  },
  {
   "cell_type": "code",
   "execution_count": 4,
   "metadata": {},
   "outputs": [],
   "source": [
    "config = ModelConfig(\n",
    "    input_size=input_size,\n",
    "    output_size=output_size,\n",
    "    emb_dim=32,\n",
    "    ffn_dim=64,\n",
    "    nb_layers=2,\n",
    ")\n"
   ]
  },
  {
   "cell_type": "markdown",
   "metadata": {},
   "source": [
    "## training"
   ]
  },
  {
   "cell_type": "code",
   "execution_count": 43,
   "metadata": {},
   "outputs": [],
   "source": [
    "n_epochs = 10000\n",
    "learning_rate = 1e-3\n",
    "zipf_coef = 2\n",
    "train_proportion = .9\n",
    "device=DEVICE\n",
    "\n",
    "model = Model(config).to(DEVICE)\n",
    "optimizer = torch.optim.Adam(model.parameters(), lr=learning_rate)\n",
    "\n",
    "# define inputs, outputs, and a distribution over inputs\n",
    "inputs = torch.arange(input_size).to(dtype=int, device=DEVICE)\n",
    "targets = sampler.probas\n",
    "input_probas = (inputs.float() + 1) ** (-zipf_coef)\n",
    "input_probas /= input_probas.sum()\n",
    "\n",
    "# define train and test samples\n",
    "n_train = int(input_size * train_proportion)\n",
    "indices = torch.randperm(len(inputs), device=DEVICE)\n",
    "train_indices = indices[:n_train]\n",
    "test_indices = indices[n_train:]\n",
    "\n",
    "# placeholder\n",
    "train_losses = torch.empty(n_epochs, device=DEVICE)\n",
    "test_losses = torch.empty(n_epochs, device=DEVICE)\n",
    "losses = torch.empty(n_epochs, device=DEVICE)\n",
    "\n",
    "# compute minimum loss\n",
    "all_loss = F.cross_entropy(torch.log(targets), targets, reduction='none')\n",
    "min_loss = all_loss.mean().item()\n",
    "all_loss *= input_probas\n",
    "min_train_loss = all_loss[train_indices].sum().item()\n",
    "min_test_loss = all_loss.sum().item() - min_train_loss\n",
    "\n",
    "# training loop\n",
    "model.train()\n",
    "for epoch in range(n_epochs):\n",
    "    logits = model(inputs)\n",
    "    all_loss = F.cross_entropy(logits, targets, reduction='none')\n",
    "    all_weighted_loss = all_loss * input_probas\n",
    "\n",
    "    loss = all_weighted_loss[train_indices].sum()\n",
    "\n",
    "    optimizer.zero_grad()\n",
    "    loss.backward()\n",
    "    optimizer.step()\n",
    "\n",
    "    with torch.no_grad():\n",
    "        losses[epoch] = all_loss.sum() - min_loss\n",
    "        train_losses[epoch] = loss - min_train_loss\n",
    "        test_losses[epoch] = all_weighted_loss.sum() - loss - min_test_loss"
   ]
  },
  {
   "cell_type": "code",
   "execution_count": 42,
   "metadata": {},
   "outputs": [
    {
     "ename": "RuntimeError",
     "evalue": "Expected all tensors to be on the same device, but found at least two devices, cuda:0 and cpu!",
     "output_type": "error",
     "traceback": [
      "\u001b[0;31m---------------------------------------------------------------------------\u001b[0m",
      "\u001b[0;31mRuntimeError\u001b[0m                              Traceback (most recent call last)",
      "Cell \u001b[0;32mIn[42], line 1\u001b[0m\n\u001b[0;32m----> 1\u001b[0m train_losses_norm \u001b[38;5;241m=\u001b[39m \u001b[43mtrain_losses\u001b[49m\u001b[43m \u001b[49m\u001b[38;5;241;43m/\u001b[39;49m\u001b[43m \u001b[49m\u001b[43minput_probas\u001b[49m\u001b[43m[\u001b[49m\u001b[43mtrain_indices\u001b[49m\u001b[43m]\u001b[49m\u001b[38;5;241;43m.\u001b[39;49m\u001b[43msum\u001b[49m\u001b[43m(\u001b[49m\u001b[43m)\u001b[49m\n\u001b[1;32m      2\u001b[0m test_losses_norm \u001b[38;5;241m=\u001b[39m test_losses \u001b[38;5;241m/\u001b[39m input_probas[test_indices]\u001b[38;5;241m.\u001b[39msum()\n",
      "\u001b[0;31mRuntimeError\u001b[0m: Expected all tensors to be on the same device, but found at least two devices, cuda:0 and cpu!"
     ]
    }
   ],
   "source": [
    "train_losses_norm = train_losses / input_probas[train_indices].sum()\n",
    "test_losses_norm = test_losses / input_probas[test_indices].sum()"
   ]
  },
  {
   "cell_type": "code",
   "execution_count": 39,
   "metadata": {},
   "outputs": [
    {
     "data": {
      "text/plain": [
       "[]"
      ]
     },
     "execution_count": 39,
     "metadata": {},
     "output_type": "execute_result"
    },
    {
     "data": {
      "image/png": "[encoded data removed]",
      "text/plain": [
       "<Figure size 1200x600 with 2 Axes>"
      ]
     },
     "metadata": {},
     "output_type": "display_data"
    }
   ],
   "source": [
    "fig, axes = plt.subplots(1, 2, figsize=(12, 6))\n",
    "\n",
    "axes[0].plot(train_losses[1:])\n",
    "axes[0].plot(weighted_losses)\n",
    "axes[1].plot(losses)\n",
    "axes[0].loglog()\n",
    "axes[1].loglog()"
   ]
  },
  {
   "cell_type": "code",
   "execution_count": null,
   "metadata": {},
   "outputs": [
    {
     "data": {
      "text/plain": [
       "1"
      ]
     },
     "execution_count": 30,
     "metadata": {},
     "output_type": "execute_result"
    }
   ],
   "source": [
    "len(test_loader)"
   ]
  },
  {
   "cell_type": "code",
   "execution_count": null,
   "metadata": {},
   "outputs": [
    {
     "data": {
      "text/plain": [
       "tensor([23, 21, 20, 13, 15], device='cuda:0')"
      ]
     },
     "execution_count": 8,
     "metadata": {},
     "output_type": "execute_result"
    }
   ],
   "source": [
    "test_probas.argmax(dim=1)"
   ]
  },
  {
   "cell_type": "code",
   "execution_count": null,
   "metadata": {},
   "outputs": [
    {
     "data": {
      "text/plain": [
       "5"
      ]
     },
     "execution_count": 9,
     "metadata": {},
     "output_type": "execute_result"
    }
   ],
   "source": [
    "len(test_probas)"
   ]
  },
  {
   "cell_type": "code",
   "execution_count": null,
   "metadata": {},
   "outputs": [],
   "source": []
  }
 ],
 "metadata": {
  "kernelspec": {
   "display_name": "llm",
   "language": "python",
   "name": "python3"
  },
  "language_info": {
   "codemirror_mode": {
    "name": "ipython",
    "version": 3
   },
   "file_extension": ".py",
   "mimetype": "text/x-python",
   "name": "python",
   "nbconvert_exporter": "python",
   "pygments_lexer": "ipython3",
   "version": "3.11.5"
  }
 },
 "nbformat": 4,
 "nbformat_minor": 2
}
