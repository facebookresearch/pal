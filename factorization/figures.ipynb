{
 "cells": [
  {
   "cell_type": "code",
   "execution_count": null,
   "metadata": {},
   "outputs": [],
   "source": [
    "%load_ext autoreload\n",
    "%autoreload 2"
   ]
  },
  {
   "cell_type": "code",
   "execution_count": null,
   "metadata": {},
   "outputs": [],
   "source": [
    "import logging\n",
    "\n",
    "import matplotlib.pyplot as plt\n",
    "import numpy as np\n",
    "from matplotlib import rc\n",
    "\n",
    "from analysis import load_configs, load_experimental_results, get_stats\n",
    "from factorization.config import IMAGE_DIR, USETEX\n",
    "from factorization.models.mlp import Model\n",
    "\n",
    "logging.basicConfig(level=logging.INFO)\n",
    "\n",
    "\n",
    "rc(\"font\", family=\"serif\", size=8)\n",
    "rc(\"text\", usetex=USETEX)\n",
    "if USETEX:\n",
    "    rc(\"text.latex\", preamble=r\"\\usepackage{times}\")\n",
    "\n",
    "\n",
    "def get_names(name):\n",
    "    match name:\n",
    "        case \"iid\":\n",
    "            return \"iid\", [\"input_factors\", \"output_factors\", \"alphas\", \"batch_size\"]\n",
    "        case \"iid2\":\n",
    "            return \"iid2\", [\"output_factors\", \"alphas\", \"batch_size\"]\n",
    "        case \"compression\":\n",
    "            return \"compression\", [\"input_factors\", \"output_factors\", \"emb_dim\", \"nb_layers\"]\n",
    "        case \"compression2\":\n",
    "            return \"compression2\", [\"output_factors\", \"emb_dim\"]\n",
    "        case \"compression3\":\n",
    "            return \"compression3\", [\"output_factors\", \"emb_dim\"]\n",
    "        case \"factor\":\n",
    "            return \"exp1_factor\", [\"input_factors\", \"output_factors\"]\n",
    "        case \"input\":\n",
    "            return \"exp1_input\", [\"input_factors\", \"emb_dim\"]\n",
    "        case \"input2\":\n",
    "            return \"exp1_input2\", [\"input_factors\"]\n",
    "        case \"dim\":\n",
    "            return \"exp1_dim\", [\"emb_dim\"]\n",
    "        case \"layer\":\n",
    "            return \"exp1_layer\", [\"nb_layers\"]\n",
    "        case \"lr\":\n",
    "            return \"exp1_lr\", [\"learning_rate\"]\n",
    "        case \"split\":\n",
    "            return \"exp1_split\", [\"data_split\"]\n",
    "        case \"ffn\":\n",
    "            return \"exp1_ffn\", [\"ffn_dim\"]\n",
    "        case \"filtration\":\n",
    "            return \"filtration\", [\"bernouilli\"]"
   ]
  },
  {
   "cell_type": "markdown",
   "metadata": {},
   "source": [
    "## IID runs"
   ]
  },
  {
   "cell_type": "code",
   "execution_count": null,
   "metadata": {},
   "outputs": [],
   "source": [
    "name = \"iid2\"\n",
    "xaxis = \"epoch\"\n",
    "\n",
    "kwargs = {\n",
    "    \"alphas\": 1e-1,\n",
    "    \"batch_size\": 2048,\n",
    "}\n",
    "\n",
    "file_path, study_factors = get_names(name)"
   ]
  },
  {
   "cell_type": "code",
   "execution_count": null,
   "metadata": {},
   "outputs": [],
   "source": [
    "all_configs = load_configs(file_path)\n",
    "res = load_experimental_results(all_configs, **kwargs)"
   ]
  },
  {
   "cell_type": "code",
   "execution_count": null,
   "metadata": {},
   "outputs": [],
   "source": [
    "all_mean, all_std, keys = get_stats(res, study_factors, xaxis=xaxis, **kwargs)"
   ]
  },
  {
   "cell_type": "code",
   "execution_count": null,
   "metadata": {},
   "outputs": [],
   "source": [
    "import ast\n",
    "from itertools import product\n",
    "import pandas as pd\n",
    "\n",
    "mean = pd.concat(all_mean)\n",
    "mean['output_complexity'] = mean['output_factors'].apply(lambda x: sum(ast.literal_eval(x)))\n",
    "\n",
    "all_mean = []\n",
    "keys = ['output_complexity', 'output_factors']\n",
    "all_vals = [np.sort(mean[key].unique()) for key in keys]\n",
    "\n",
    "for vals in product(*all_vals):\n",
    "    ind = np.ones(len(mean), dtype=bool)\n",
    "    for key, val in zip(keys, vals):\n",
    "        ind &= mean[key] == val\n",
    "    if ind.sum() > 0:\n",
    "        all_mean.append(mean[ind])"
   ]
  },
  {
   "cell_type": "code",
   "execution_count": null,
   "metadata": {},
   "outputs": [],
   "source": [
    "fig, ax = plt.subplots(1, 1, figsize=(1.75, 1.5))\n",
    "# fig, ax = plt.subplots(1, 1, figsize=(7, 5))\n",
    "\n",
    "y_name = \"test_loss\"\n",
    "color = 'C0'\n",
    "legend = []\n",
    "all_plots = []\n",
    "ind = 1\n",
    "for val, val_std in zip(all_mean, all_std):\n",
    "    ind += 1\n",
    "    if ind % 2 != 1:\n",
    "        continue\n",
    "    a, = ax.plot(val[y_name], linewidth=1)\n",
    "    all_plots.append(a)\n",
    "    # leg = ' '.join([f'{key}={val[key].values[0]}' for key in keys])\n",
    "    leg = rf'$(q_i)=${val[keys[1]].values[0]}'\n",
    "    legend.append(leg)\n",
    "ax.set_yscale('log')\n",
    "ax.set_xscale('log')\n",
    "ax.set_xlim(2e2, 1e4)\n",
    "ax.set_ylim(5e-3, 1e0)\n",
    "ax.set_xlabel(\"Epoch\", fontsize=8)\n",
    "ax.set_ylabel(r\"Loss ${\\cal L}$\", fontsize=8)\n",
    "ax.tick_params(axis='both', labelsize=6)\n",
    "ax.grid()\n",
    "fig.savefig(IMAGE_DIR / f'{name}.pdf', bbox_inches='tight')\n",
    "\n",
    "fig, ax = plt.subplots(1, 1, figsize=(.25, 1.5))\n",
    "ax.axis('off')\n",
    "leg = ax.legend(all_plots, legend, loc='center', ncol=1, fontsize=6)\n",
    "fig.savefig(IMAGE_DIR / f'{name}_leg.pdf', bbox_inches='tight')"
   ]
  },
  {
   "cell_type": "markdown",
   "metadata": {},
   "source": [
    "## Compression runs"
   ]
  },
  {
   "cell_type": "markdown",
   "metadata": {},
   "source": [
    "Effect of embedding dimension on losses w.r.t. epochs"
   ]
  },
  {
   "cell_type": "code",
   "execution_count": null,
   "metadata": {},
   "outputs": [],
   "source": [
    "name = \"compression3\"\n",
    "xaxis = \"emb_dim\"\n",
    "\n",
    "kwargs = {\n",
    "    \"emb_dim\": 8,\n",
    "}\n",
    "\n",
    "file_path, study_factors = get_names(name)"
   ]
  },
  {
   "cell_type": "code",
   "execution_count": null,
   "metadata": {},
   "outputs": [],
   "source": [
    "all_configs = load_configs(file_path)\n",
    "res = load_experimental_results(all_configs, **kwargs)"
   ]
  },
  {
   "cell_type": "code",
   "execution_count": null,
   "metadata": {},
   "outputs": [],
   "source": [
    "xaxis = \"epoch\"\n",
    "all_mean, all_std, keys = get_stats(res, study_factors, xaxis=xaxis, **kwargs)"
   ]
  },
  {
   "cell_type": "code",
   "execution_count": null,
   "metadata": {},
   "outputs": [],
   "source": [
    "import ast\n",
    "from itertools import product\n",
    "import pandas as pd\n",
    "\n",
    "mean = pd.concat(all_mean)\n",
    "mean['output_complexity'] = mean['output_factors'].apply(lambda x: sum(ast.literal_eval(x)))\n",
    "\n",
    "all_mean = []\n",
    "keys = ['output_complexity', 'output_factors']\n",
    "all_vals = [np.sort(mean[key].unique()) for key in keys]\n",
    "\n",
    "for vals in product(*all_vals):\n",
    "    ind = np.ones(len(mean), dtype=bool)\n",
    "    for key, val in zip(keys, vals):\n",
    "        ind &= mean[key] == val\n",
    "    if ind.sum() > 0:\n",
    "        all_mean.append(mean[ind])"
   ]
  },
  {
   "cell_type": "code",
   "execution_count": null,
   "metadata": {},
   "outputs": [],
   "source": [
    "fig, ax = plt.subplots(1, 1, figsize=(1.75, 1.5))\n",
    "\n",
    "y_name = \"loss\"\n",
    "color = 'C0'\n",
    "legend = []\n",
    "all_plots = []\n",
    "for val, val_std in zip(all_mean, all_std):\n",
    "    a, = ax.plot(val[y_name], linewidth=2)\n",
    "    all_plots.append(a)\n",
    "    leg = rf'$\\sum q_i=${val[\"output_complexity\"].values[0]}'\n",
    "    legend.append(leg)\n",
    "ax.set_yscale('log')\n",
    "ax.set_xscale('log')\n",
    "ax.set_xlim(1e3, 1e5)\n",
    "ax.set_xlabel(\"Epoch\", fontsize=8)\n",
    "ax.set_ylabel(r\"Loss ${\\cal L}$\", fontsize=8)\n",
    "ax.tick_params(axis='both', labelsize=6)\n",
    "ax.grid()\n",
    "fig.savefig(IMAGE_DIR / f'{name}.pdf', bbox_inches='tight')\n",
    "\n",
    "fig, ax = plt.subplots(1, 1, figsize=(.25, 1.5))\n",
    "ax.axis('off')\n",
    "leg = ax.legend(all_plots, legend, loc='center', ncol=1, fontsize=6)\n",
    "fig.savefig(IMAGE_DIR / f'{name}_leg.pdf', bbox_inches='tight')"
   ]
  },
  {
   "cell_type": "markdown",
   "metadata": {},
   "source": [
    "Effect of embedding dimension on the loss after 10 000 epoch"
   ]
  },
  {
   "cell_type": "code",
   "execution_count": null,
   "metadata": {},
   "outputs": [],
   "source": [
    "name = \"compression3\"\n",
    "xaxis = \"emb_dim\"\n",
    "\n",
    "kwargs = {\n",
    "    \"final\": True,\n",
    "}\n",
    "\n",
    "file_path, study_factors = get_names(name)"
   ]
  },
  {
   "cell_type": "code",
   "execution_count": null,
   "metadata": {},
   "outputs": [],
   "source": [
    "all_configs = load_configs(file_path)\n",
    "res = load_experimental_results(all_configs, **kwargs)"
   ]
  },
  {
   "cell_type": "code",
   "execution_count": null,
   "metadata": {},
   "outputs": [],
   "source": [
    "all_mean, all_std, keys = get_stats(res, study_factors, xaxis=xaxis, **kwargs)"
   ]
  },
  {
   "cell_type": "code",
   "execution_count": null,
   "metadata": {},
   "outputs": [],
   "source": [
    "import ast\n",
    "from itertools import product\n",
    "import pandas as pd\n",
    "\n",
    "mean = pd.concat(all_mean)\n",
    "mean['output_complexity'] = mean['output_factors'].apply(lambda x: sum(ast.literal_eval(x)))\n",
    "\n",
    "all_mean = []\n",
    "keys = ['output_complexity', 'output_factors']\n",
    "all_vals = [np.sort(mean[key].unique()) for key in keys]\n",
    "\n",
    "for vals in product(*all_vals):\n",
    "    ind = np.ones(len(mean), dtype=bool)\n",
    "    for key, val in zip(keys, vals):\n",
    "        ind &= mean[key] == val\n",
    "    if ind.sum() > 0:\n",
    "        all_mean.append(mean[ind])"
   ]
  },
  {
   "cell_type": "code",
   "execution_count": null,
   "metadata": {},
   "outputs": [],
   "source": [
    "fig, ax = plt.subplots(1, 1, figsize=(1.75, 1.5))\n",
    "# fig, ax = plt.subplots(1, 1, figsize=(10, 7))\n",
    "\n",
    "y_name = \"loss\"\n",
    "color = 'C0'\n",
    "legend = []\n",
    "all_plots = []\n",
    "i = 0\n",
    "for val, val_std in zip(all_mean, all_std):\n",
    "    a, = ax.plot(val[y_name], linewidth=1, color=f'C{i}')\n",
    "    sum_q = val[keys[0]].values[0]\n",
    "    if i in [0, 3]:\n",
    "        ax.plot([sum_q -.2, sum_q -.2], [3e-5, 1e-2], linewidth=1, color=f'C{i}', linestyle='--')\n",
    "    elif i == 7:\n",
    "        pass\n",
    "    else:\n",
    "        ax.plot([sum_q, sum_q], [3e-5, 1e-2], linewidth=1, color=f'C{i}', linestyle='--')\n",
    "    all_plots.append(a)\n",
    "    leg = rf'$\\sum q_i=${sum_q}'\n",
    "    legend.append(leg)\n",
    "    i += 1\n",
    "ax.set_yscale('log')\n",
    "ax.set_xlabel(r\"Emb. dim. $d$\", fontsize=8)\n",
    "ax.set_ylabel(r\"Loss ${\\cal L}$\", fontsize=8)\n",
    "ax.tick_params(axis='both', labelsize=6)\n",
    "ax.grid()\n",
    "\n",
    "fig.savefig(IMAGE_DIR / f'{name}_emb.pdf', bbox_inches='tight')\n",
    "\n",
    "fig, ax = plt.subplots(1, 1, figsize=(.25, 1.5))\n",
    "# fig, ax = plt.subplots(1, 1, figsize=(5, 5))\n",
    "ax.axis('off')\n",
    "leg = ax.legend(all_plots, legend, loc='center', ncol=1, fontsize=6)\n",
    "# leg = ax.legend(all_plots, legend, loc='center', ncol=1, fontsize=12)\n",
    "fig.savefig(IMAGE_DIR / f'{name}_emb_leg.pdf', bbox_inches='tight')"
   ]
  },
  {
   "cell_type": "markdown",
   "metadata": {},
   "source": [
    "Effect of the number of layers and embedding dimension."
   ]
  },
  {
   "cell_type": "code",
   "execution_count": null,
   "metadata": {},
   "outputs": [],
   "source": [
    "name = \"compression\"\n",
    "# xaxis = \"epoch\"\n",
    "xaxis = \"flops\"\n",
    "\n",
    "kwargs = {\n",
    "    \"input_factors\": [2, 2, 2, 3, 3, 5],\n",
    "    \"output_factors\": [2, 3, 5],\n",
    "    \"nb_layers\": 1,\n",
    "    # \"emb_dim\": 10,\n",
    "}\n",
    "\n",
    "file_path, study_factors = get_names(name)"
   ]
  },
  {
   "cell_type": "code",
   "execution_count": null,
   "metadata": {},
   "outputs": [],
   "source": [
    "all_configs = load_configs(file_path)\n",
    "res = load_experimental_results(all_configs, **kwargs)"
   ]
  },
  {
   "cell_type": "code",
   "execution_count": null,
   "metadata": {},
   "outputs": [],
   "source": [
    "res['flops'] = Model.get_flops(res['emb_dim'], res['ffn_dim'], res['nb_layers'], res['output_size'])\n",
    "res['flops'] *= res['epoch']"
   ]
  },
  {
   "cell_type": "code",
   "execution_count": null,
   "metadata": {},
   "outputs": [],
   "source": [
    "all_mean, all_std, keys = get_stats(res, study_factors, xaxis=xaxis, **kwargs)"
   ]
  },
  {
   "cell_type": "code",
   "execution_count": null,
   "metadata": {},
   "outputs": [],
   "source": [
    "fig, ax = plt.subplots(1, 1, figsize=(1.75, 1.5))\n",
    "# fig, ax = plt.subplots(1, 1, figsize=(10, 7))\n",
    "\n",
    "y_name = \"loss\"\n",
    "color = 'C0'\n",
    "legend = []\n",
    "all_plots = []\n",
    "i = 0\n",
    "for val, val_std in zip(all_mean, all_std):\n",
    "    i += 1\n",
    "    if i % 3 != 0:\n",
    "        continue\n",
    "    a, = ax.plot(val[y_name], linewidth=1)\n",
    "    all_plots.append(a)\n",
    "    leg = ' '.join([fr'$d=${val[key].values[0]}' for key in keys])\n",
    "    legend.append(leg)\n",
    "ax.set_yscale('log')\n",
    "ax.set_xscale('log')\n",
    "# ax.set_xlabel(\"Epoch\", fontsize=8)\n",
    "ax.set_xlabel(\"Flop\", fontsize=8)\n",
    "ax.set_ylabel(r\"Loss ${\\cal L}$\", fontsize=8)\n",
    "ax.tick_params(axis='both', labelsize=6)\n",
    "ax.grid()\n",
    "\n",
    "fig.savefig(IMAGE_DIR / f'{name}_{xaxis}.pdf', bbox_inches='tight')\n",
    "\n",
    "fig, ax = plt.subplots(1, 1, figsize=(.25, 1.5))\n",
    "# fig, ax = plt.subplots(1, 1, figsize=(5, 5))\n",
    "ax.axis('off')\n",
    "leg = ax.legend(all_plots, legend, loc='center', ncol=1, fontsize=6)\n",
    "fig.savefig(IMAGE_DIR / f'{name}_{xaxis}_leg.pdf', bbox_inches='tight')"
   ]
  },
  {
   "cell_type": "markdown",
   "metadata": {},
   "source": [
    "## Connectivity runs"
   ]
  },
  {
   "cell_type": "code",
   "execution_count": null,
   "metadata": {},
   "outputs": [],
   "source": [
    "name = \"filtration\"\n",
    "xaxis = \"epoch\"\n",
    "\n",
    "kwargs = {\n",
    "    \"alphas\": 1e-2,\n",
    "}\n",
    "\n",
    "file_path, study_factors = get_names(name)"
   ]
  },
  {
   "cell_type": "code",
   "execution_count": null,
   "metadata": {},
   "outputs": [],
   "source": [
    "all_configs = load_configs(file_path)\n",
    "res = load_experimental_results(all_configs, **kwargs)"
   ]
  },
  {
   "cell_type": "code",
   "execution_count": null,
   "metadata": {},
   "outputs": [],
   "source": [
    "all_mean, all_std, keys = get_stats(res, study_factors, xaxis=xaxis, **kwargs)"
   ]
  },
  {
   "cell_type": "code",
   "execution_count": null,
   "metadata": {},
   "outputs": [],
   "source": [
    "fig, ax = plt.subplots(1, 1, figsize=(1.75, 1.5))\n",
    "\n",
    "y_name = \"test_loss\"\n",
    "color = 'C0'\n",
    "legend = []\n",
    "all_plots = []\n",
    "ind = 0\n",
    "for val, val_std in zip(all_mean, all_std):\n",
    "    ind += 1\n",
    "    if ind not in [1, 2, 3, 4, 5, 6, 9, 14]:\n",
    "        continue\n",
    "    a, = ax.plot(val[y_name], linewidth=1.5)\n",
    "    all_plots.append(a)\n",
    "    leg = ' '.join([rf'$\\beta$={val[key].values[0]:.2f}' for key in keys])\n",
    "    # leg = rf'$\\sum q_i=${val[keys[0]].values[0]}'\n",
    "    legend.append(leg)\n",
    "ax.set_yscale('log')\n",
    "ax.set_xscale('log')\n",
    "ax.set_xlabel(\"Epoch\", fontsize=8)\n",
    "ax.set_ylabel(r\"Test loss ${\\cal L}$\", fontsize=8)\n",
    "ax.tick_params(axis='both', labelsize=6)\n",
    "ax.grid()\n",
    "fig.savefig(IMAGE_DIR / f'{name}.pdf', bbox_inches='tight')\n",
    "\n",
    "fig, ax = plt.subplots(1, 1, figsize=(.25, 1.5))\n",
    "ax.axis('off')\n",
    "leg = ax.legend(all_plots, legend, loc='center', ncol=1, fontsize=6)\n",
    "fig.savefig(IMAGE_DIR / f'{name}_leg.pdf', bbox_inches='tight')"
   ]
  },
  {
   "cell_type": "markdown",
   "metadata": {},
   "source": [
    "## Other Genralization Study\n",
    "\n",
    "Input factors"
   ]
  },
  {
   "cell_type": "code",
   "execution_count": null,
   "metadata": {},
   "outputs": [],
   "source": [
    "name = \"input2\"\n",
    "xaxis = \"epoch\"\n",
    "\n",
    "kwargs = {\n",
    "    \"bernouilli\": 0.2,\n",
    "}\n",
    "\n",
    "file_path, study_factors = get_names(name)"
   ]
  },
  {
   "cell_type": "code",
   "execution_count": null,
   "metadata": {},
   "outputs": [],
   "source": [
    "all_configs = load_configs(file_path)\n",
    "res = load_experimental_results(all_configs, **kwargs)"
   ]
  },
  {
   "cell_type": "code",
   "execution_count": null,
   "metadata": {},
   "outputs": [],
   "source": [
    "all_mean, all_std, keys = get_stats(res, study_factors, xaxis=xaxis, **kwargs)"
   ]
  },
  {
   "cell_type": "code",
   "execution_count": null,
   "metadata": {},
   "outputs": [],
   "source": [
    "import ast\n",
    "from itertools import product\n",
    "import pandas as pd\n",
    "\n",
    "mean = pd.concat(all_mean)\n",
    "mean['input_complexity'] = mean['input_factors'].apply(lambda x: sum(ast.literal_eval(x)))\n",
    "\n",
    "all_mean = []\n",
    "keys = ['input_complexity', 'input_factors']\n",
    "all_vals = [np.sort(mean[key].unique()) for key in keys]\n",
    "\n",
    "for vals in product(*all_vals):\n",
    "    ind = np.ones(len(mean), dtype=bool)\n",
    "    for key, val in zip(keys, vals):\n",
    "        ind &= mean[key] == val\n",
    "    if ind.sum() > 0:\n",
    "        all_mean.append(mean[ind])"
   ]
  },
  {
   "cell_type": "code",
   "execution_count": null,
   "metadata": {},
   "outputs": [],
   "source": [
    "fig, ax = plt.subplots(1, 1, figsize=(1.75, 1.5))\n",
    "# fig, ax = plt.subplots(1, 1, figsize=(7, 5))\n",
    "\n",
    "y_name = \"test_loss\"\n",
    "color = 'C0'\n",
    "legend = []\n",
    "all_plots = []\n",
    "ind = 0\n",
    "for val, val_std in zip(all_mean, all_std):\n",
    "    ind += 1\n",
    "    if (ind % 8 != 0 and ind < 36) or ind in [39, 40]:\n",
    "        continue\n",
    "    a, = ax.plot(val[y_name], linewidth=1.5)\n",
    "    all_plots.append(a)\n",
    "    # leg = ' '.join([rf'{key}={val[key].values[0]}' for key in keys])\n",
    "    leg = rf'$(p_i)=${val[keys[1]].values[0]}'\n",
    "    legend.append(leg)\n",
    "ax.set_yscale('log')\n",
    "ax.set_xscale('log')\n",
    "# ax.set_yticks([1e-0, 2e0, 3e0])\n",
    "ax.set_xlabel(\"Epoch\", fontsize=8)\n",
    "ax.set_ylabel(r\"Test loss ${\\cal L}$\", fontsize=8)\n",
    "ax.tick_params(axis='both', labelsize=6)\n",
    "ax.grid()\n",
    "fig.savefig(IMAGE_DIR / f'{name}.pdf', bbox_inches='tight')\n",
    "\n",
    "fig, ax = plt.subplots(1, 1, figsize=(.25, 1.5))\n",
    "# fig, ax = plt.subplots(1, 1, figsize=(5, 5))\n",
    "ax.axis('off')\n",
    "leg = ax.legend(all_plots, legend, loc='center', ncol=1, fontsize=6)\n",
    "# leg = ax.legend(all_plots, legend, loc='center', ncol=1, fontsize=12)\n",
    "fig.savefig(IMAGE_DIR / f'{name}_leg.pdf', bbox_inches='tight')"
   ]
  },
  {
   "cell_type": "markdown",
   "metadata": {},
   "source": [
    "Train/test split"
   ]
  },
  {
   "cell_type": "code",
   "execution_count": null,
   "metadata": {},
   "outputs": [],
   "source": [
    "name = \"split\"\n",
    "xaxis = \"flops\"\n",
    "\n",
    "kwargs = {\n",
    "}\n",
    "\n",
    "file_path, study_factors = get_names(name)"
   ]
  },
  {
   "cell_type": "code",
   "execution_count": null,
   "metadata": {},
   "outputs": [],
   "source": [
    "all_configs = load_configs(file_path)\n",
    "res = load_experimental_results(all_configs, **kwargs)"
   ]
  },
  {
   "cell_type": "code",
   "execution_count": null,
   "metadata": {},
   "outputs": [],
   "source": [
    "res['flops'] = res['epoch'] * res['data_split']"
   ]
  },
  {
   "cell_type": "code",
   "execution_count": null,
   "metadata": {},
   "outputs": [],
   "source": [
    "all_mean, all_std, keys = get_stats(res, study_factors, xaxis=xaxis, **kwargs)"
   ]
  },
  {
   "cell_type": "code",
   "execution_count": null,
   "metadata": {},
   "outputs": [],
   "source": [
    "fig, ax = plt.subplots(1, 1, figsize=(1.75, 1.5))\n",
    "\n",
    "y_name = \"test_loss\"\n",
    "color = 'C0'\n",
    "legend = []\n",
    "all_plots = []\n",
    "ind = 0\n",
    "for val, val_std in zip(all_mean, all_std):\n",
    "    ind += 1\n",
    "    if ind % 2 == 0:\n",
    "        continue\n",
    "    a, = ax.plot(val[y_name], linewidth=1.5)\n",
    "    all_plots.append(a)\n",
    "    leg = ' '.join([rf'{key}={val[key].values[0]}' for key in keys])\n",
    "    leg = rf'{100 * val[keys[0]].values[0]:.0f} %'\n",
    "    legend.append(leg)\n",
    "ax.set_yscale('log')\n",
    "ax.set_xscale('log')\n",
    "ax.set_xlabel(\"Flop\", fontsize=8)\n",
    "ax.set_ylabel(r\"Test loss ${\\cal L}$\", fontsize=8)\n",
    "ax.tick_params(axis='both', labelsize=6)\n",
    "ax.grid()\n",
    "fig.savefig(IMAGE_DIR / f'{name}.pdf', bbox_inches='tight')\n",
    "\n",
    "fig, ax = plt.subplots(1, 1, figsize=(.25, 1.5))\n",
    "ax.axis('off')\n",
    "leg = ax.legend(all_plots, legend, loc='center', ncol=1, fontsize=6)\n",
    "fig.savefig(IMAGE_DIR / f'{name}_leg.pdf', bbox_inches='tight')"
   ]
  },
  {
   "cell_type": "markdown",
   "metadata": {},
   "source": [
    "Embedding dimension"
   ]
  },
  {
   "cell_type": "code",
   "execution_count": null,
   "metadata": {},
   "outputs": [],
   "source": [
    "name = \"dim\"\n",
    "xaxis = \"flops\"\n",
    "\n",
    "kwargs = {\n",
    "}\n",
    "\n",
    "file_path, study_factors = get_names(name)"
   ]
  },
  {
   "cell_type": "code",
   "execution_count": null,
   "metadata": {},
   "outputs": [],
   "source": [
    "all_configs = load_configs(file_path)\n",
    "res = load_experimental_results(all_configs, **kwargs)"
   ]
  },
  {
   "cell_type": "code",
   "execution_count": null,
   "metadata": {},
   "outputs": [],
   "source": [
    "res['flops'] = Model.get_flops(res['emb_dim'], res['ffn_dim'], res['nb_layers'], res['output_size'])\n",
    "res['flops'] *= res['epoch']"
   ]
  },
  {
   "cell_type": "code",
   "execution_count": null,
   "metadata": {},
   "outputs": [],
   "source": [
    "all_mean, all_std, keys = get_stats(res, study_factors, xaxis=xaxis, **kwargs)"
   ]
  },
  {
   "cell_type": "code",
   "execution_count": null,
   "metadata": {},
   "outputs": [],
   "source": [
    "fig, ax = plt.subplots(1, 1, figsize=(1.75, 1.5))\n",
    "\n",
    "y_name = \"test_loss\"\n",
    "color = 'C0'\n",
    "legend = []\n",
    "all_plots = []\n",
    "ind = 0\n",
    "for val, val_std in zip(all_mean, all_std):\n",
    "    ind += 1\n",
    "    if ind % 2 != 0:\n",
    "        continue\n",
    "    a, = ax.plot(val[y_name], linewidth=1.5)\n",
    "    all_plots.append(a)\n",
    "    leg = ' '.join([rf'{key}={val[key].values[0]}' for key in keys])\n",
    "    leg = rf'$d=${val[keys[0]].values[0]}'\n",
    "    legend.append(leg)\n",
    "ax.set_yscale('log')\n",
    "ax.set_xscale('log')\n",
    "ax.set_yticks([6e-1, 1e-0, 2e0, 3e0])\n",
    "ax.set_xlabel(\"Flop\", fontsize=8)\n",
    "ax.set_ylabel(r\"Test loss ${\\cal L}$\", fontsize=8)\n",
    "ax.tick_params(axis='both', labelsize=6)\n",
    "ax.grid()\n",
    "fig.savefig(IMAGE_DIR / f'{name}.pdf', bbox_inches='tight')\n",
    "\n",
    "fig, ax = plt.subplots(1, 1, figsize=(.25, 1.5))\n",
    "ax.axis('off')\n",
    "leg = ax.legend(all_plots, legend, loc='center', ncol=1, fontsize=6)\n",
    "fig.savefig(IMAGE_DIR / f'{name}_leg.pdf', bbox_inches='tight')"
   ]
  },
  {
   "cell_type": "markdown",
   "metadata": {},
   "source": [
    "FFN dimension"
   ]
  },
  {
   "cell_type": "code",
   "execution_count": null,
   "metadata": {},
   "outputs": [],
   "source": [
    "name = \"ffn\"\n",
    "xaxis = \"flops\"\n",
    "\n",
    "kwargs = {\n",
    "}\n",
    "\n",
    "file_path, study_factors = get_names(name)"
   ]
  },
  {
   "cell_type": "code",
   "execution_count": null,
   "metadata": {},
   "outputs": [],
   "source": [
    "all_configs = load_configs(file_path)\n",
    "res = load_experimental_results(all_configs, **kwargs)"
   ]
  },
  {
   "cell_type": "code",
   "execution_count": null,
   "metadata": {},
   "outputs": [],
   "source": [
    "res['flops'] = Model.get_flops(res['emb_dim'], res['ffn_dim'], res['nb_layers'], res['output_size'])\n",
    "res['flops'] *= res['epoch']"
   ]
  },
  {
   "cell_type": "code",
   "execution_count": null,
   "metadata": {},
   "outputs": [],
   "source": [
    "all_mean, all_std, keys = get_stats(res, study_factors, xaxis=xaxis, **kwargs)"
   ]
  },
  {
   "cell_type": "code",
   "execution_count": null,
   "metadata": {},
   "outputs": [],
   "source": [
    "fig, ax = plt.subplots(1, 1, figsize=(1.75, 1.5))\n",
    "\n",
    "y_name = \"test_loss\"\n",
    "color = 'C0'\n",
    "legend = []\n",
    "all_plots = []\n",
    "ind = 0\n",
    "for val, val_std in zip(all_mean, all_std):\n",
    "    ind += 1\n",
    "    if ind % 1 != 0:\n",
    "        continue\n",
    "    a, = ax.plot(val[y_name], linewidth=1.5)\n",
    "    all_plots.append(a)\n",
    "    leg = ' '.join([rf'{key}={val[key].values[0]}' for key in keys])\n",
    "    leg = rf'$h=${val[keys[0]].values[0]}'\n",
    "    legend.append(leg)\n",
    "ax.set_yscale('log')\n",
    "ax.set_xscale('log')\n",
    "ax.set_yticks([6e-1, 1e-0, 2e0, 3e0])\n",
    "ax.set_xlabel(\"Flop\", fontsize=8)\n",
    "ax.set_ylabel(r\"Test loss ${\\cal L}$\", fontsize=8)\n",
    "ax.tick_params(axis='both', labelsize=6)\n",
    "ax.grid()\n",
    "fig.savefig(IMAGE_DIR / f'{name}.pdf', bbox_inches='tight')\n",
    "\n",
    "fig, ax = plt.subplots(1, 1, figsize=(.25, 1.5))\n",
    "ax.axis('off')\n",
    "leg = ax.legend(all_plots, legend, loc='center', ncol=1, fontsize=6)\n",
    "fig.savefig(IMAGE_DIR / f'{name}_leg.pdf', bbox_inches='tight')"
   ]
  },
  {
   "cell_type": "markdown",
   "metadata": {},
   "source": [
    "Number of layers"
   ]
  },
  {
   "cell_type": "code",
   "execution_count": null,
   "metadata": {},
   "outputs": [],
   "source": [
    "name = \"layer\"\n",
    "xaxis = \"flops\"\n",
    "\n",
    "kwargs = {\n",
    "}\n",
    "\n",
    "file_path, study_factors = get_names(name)"
   ]
  },
  {
   "cell_type": "code",
   "execution_count": null,
   "metadata": {},
   "outputs": [],
   "source": [
    "all_configs = load_configs(file_path)\n",
    "res = load_experimental_results(all_configs, **kwargs)"
   ]
  },
  {
   "cell_type": "code",
   "execution_count": null,
   "metadata": {},
   "outputs": [],
   "source": [
    "res['flops'] = Model.get_flops(res['emb_dim'], res['ffn_dim'], res['nb_layers'], res['output_size'])\n",
    "res['flops'] *= res['epoch']"
   ]
  },
  {
   "cell_type": "code",
   "execution_count": null,
   "metadata": {},
   "outputs": [],
   "source": [
    "all_mean, all_std, keys = get_stats(res, study_factors, xaxis=xaxis, **kwargs)"
   ]
  },
  {
   "cell_type": "code",
   "execution_count": null,
   "metadata": {},
   "outputs": [],
   "source": [
    "fig, ax = plt.subplots(1, 1, figsize=(1.75, 1.5))\n",
    "\n",
    "y_name = \"test_loss\"\n",
    "color = 'C0'\n",
    "legend = []\n",
    "all_plots = []\n",
    "ind = 0\n",
    "for val, val_std in zip(all_mean, all_std):\n",
    "    ind += 1\n",
    "    if ind % 1 != 0:\n",
    "        continue\n",
    "    a, = ax.plot(val[y_name], linewidth=1.5)\n",
    "    all_plots.append(a)\n",
    "    leg = ' '.join([rf'{key}={val[key].values[0]}' for key in keys])\n",
    "    leg = rf'nb layers={val[keys[0]].values[0]}'\n",
    "    legend.append(leg)\n",
    "ax.set_yscale('log')\n",
    "ax.set_xscale('log')\n",
    "ax.set_yticks([6e-1, 1e-0, 2e0, 3e0])\n",
    "ax.set_xlabel(\"Flop\", fontsize=8)\n",
    "ax.set_ylabel(r\"Test loss ${\\cal L}$\", fontsize=8)\n",
    "ax.tick_params(axis='both', labelsize=6)\n",
    "ax.grid()\n",
    "fig.savefig(IMAGE_DIR / f'{name}.pdf', bbox_inches='tight')\n",
    "\n",
    "fig, ax = plt.subplots(1, 1, figsize=(.25, 1.5))\n",
    "ax.axis('off')\n",
    "leg = ax.legend(all_plots, legend, loc='center', ncol=1, fontsize=6)\n",
    "fig.savefig(IMAGE_DIR / f'{name}_leg.pdf', bbox_inches='tight')"
   ]
  },
  {
   "cell_type": "markdown",
   "metadata": {},
   "source": [
    "Learning rate"
   ]
  },
  {
   "cell_type": "code",
   "execution_count": null,
   "metadata": {},
   "outputs": [],
   "source": [
    "name = \"lr\"\n",
    "xaxis = \"epoch\"\n",
    "\n",
    "kwargs = {\n",
    "}\n",
    "\n",
    "file_path, study_factors = get_names(name)"
   ]
  },
  {
   "cell_type": "code",
   "execution_count": null,
   "metadata": {},
   "outputs": [],
   "source": [
    "all_configs = load_configs(file_path)\n",
    "res = load_experimental_results(all_configs, **kwargs)"
   ]
  },
  {
   "cell_type": "code",
   "execution_count": null,
   "metadata": {},
   "outputs": [],
   "source": [
    "all_mean, all_std, keys = get_stats(res, study_factors, xaxis=xaxis, **kwargs)"
   ]
  },
  {
   "cell_type": "code",
   "execution_count": null,
   "metadata": {},
   "outputs": [],
   "source": [
    "fig, ax = plt.subplots(1, 1, figsize=(1.75, 1.5))\n",
    "\n",
    "y_name = \"test_loss\"\n",
    "color = 'C0'\n",
    "legend = []\n",
    "all_plots = []\n",
    "ind = 0\n",
    "for val, val_std in zip(all_mean, all_std):\n",
    "    ind += 1\n",
    "    if ind % 2 == 0:\n",
    "        continue\n",
    "    a, = ax.plot(val[y_name], linewidth=1.5)\n",
    "    all_plots.append(a)\n",
    "    leg = ' '.join([rf'{key}={val[key].values[0]}' for key in keys])\n",
    "    leg = rf'lr={val[keys[0]].values[0]}'\n",
    "    legend.append(leg)\n",
    "ax.set_yscale('log')\n",
    "ax.set_xscale('log')\n",
    "ax.set_yticks([6e-1, 1e-0, 2e0, 3e0])\n",
    "ax.set_xlabel(\"Flops\", fontsize=8)\n",
    "ax.set_ylabel(r\"Test loss ${\\cal L}$\", fontsize=8)\n",
    "ax.tick_params(axis='both', labelsize=6)\n",
    "ax.grid()\n",
    "fig.savefig(IMAGE_DIR / f'{name}.pdf', bbox_inches='tight')\n",
    "\n",
    "fig, ax = plt.subplots(1, 1, figsize=(.25, 1.5))\n",
    "ax.axis('off')\n",
    "leg = ax.legend(all_plots, legend, loc='center', ncol=1, fontsize=6)\n",
    "fig.savefig(IMAGE_DIR / f'{name}_leg.pdf', bbox_inches='tight')"
   ]
  }
 ],
 "metadata": {
  "kernelspec": {
   "display_name": "llm",
   "language": "python",
   "name": "python3"
  },
  "language_info": {
   "codemirror_mode": {
    "name": "ipython",
    "version": 3
   },
   "file_extension": ".py",
   "mimetype": "text/x-python",
   "name": "python",
   "nbconvert_exporter": "python",
   "pygments_lexer": "ipython3",
   "version": "3.11.5"
  }
 },
 "nbformat": 4,
 "nbformat_minor": 2
}
