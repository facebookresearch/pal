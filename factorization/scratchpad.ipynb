{
 "cells": [
  {
   "cell_type": "code",
   "execution_count": 1,
   "metadata": {},
   "outputs": [],
   "source": [
    "%load_ext autoreload\n",
    "%autoreload 2"
   ]
  },
  {
   "cell_type": "markdown",
   "metadata": {},
   "source": [
    "## Imports"
   ]
  },
  {
   "cell_type": "code",
   "execution_count": 2,
   "metadata": {},
   "outputs": [],
   "source": [
    "import matplotlib.pyplot as plt\n",
    "import torch\n",
    "import torch.nn.functional as F\n",
    "\n",
    "torch.random.manual_seed(0)"
   ]
  },
  {
   "cell_type": "markdown",
   "metadata": {},
   "source": [
    "## Data: randomness\n",
    "\n",
    "Deterministic transform"
   ]
  },
  {
   "cell_type": "code",
   "execution_count": null,
   "metadata": {},
   "outputs": [],
   "source": [
    "from factorization.data.synthetic import (\n",
    "    generate_transform,\n",
    "    Factorizer,\n",
    "    Sampler, \n",
    "    DirichletSampler,\n",
    "    AggregatedSampler,\n",
    ")\n"
   ]
  },
  {
   "cell_type": "code",
   "execution_count": null,
   "metadata": {},
   "outputs": [
    {
     "name": "stdout",
     "output_type": "stream",
     "text": [
      "tensor([[0., 0., 0., 0., 1.],\n",
      "        [0., 0., 0., 0., 1.],\n",
      "        [0., 0., 0., 1., 0.],\n",
      "        [1., 0., 0., 0., 0.],\n",
      "        [0., 0., 0., 1., 0.],\n",
      "        [0., 0., 0., 0., 1.],\n",
      "        [0., 0., 1., 0., 0.],\n",
      "        [0., 0., 0., 1., 0.],\n",
      "        [0., 0., 1., 0., 0.],\n",
      "        [0., 0., 0., 1., 0.]])\n"
     ]
    }
   ],
   "source": [
    "input_size = 10\n",
    "output_size = 5\n",
    "sampler = Sampler(input_size, output_size)\n",
    "print(sampler.probas)"
   ]
  },
  {
   "cell_type": "code",
   "execution_count": null,
   "metadata": {},
   "outputs": [
    {
     "name": "stdout",
     "output_type": "stream",
     "text": [
      "tensor([4, 4, 3, 0, 3, 4, 2, 3, 2, 3, 4, 4, 3, 4, 4, 0])\n"
     ]
    }
   ],
   "source": [
    "# ilustrating the generating function\n",
    "inputs = torch.tensor([0, 1, 2, 3, 4, 5, 6, 7, 8, 9, 1, 1, 2, 1, 1, 3,])\n",
    "targets = sampler.generate_targets(inputs)\n",
    "print(targets)"
   ]
  },
  {
   "cell_type": "markdown",
   "metadata": {},
   "source": [
    "Sparse transform"
   ]
  },
  {
   "cell_type": "code",
   "execution_count": null,
   "metadata": {},
   "outputs": [
    {
     "name": "stdout",
     "output_type": "stream",
     "text": [
      "tensor([[4.9970e-01, 2.0000e-04, 1.0010e-01, 2.0000e-01, 2.0000e-01],\n",
      "        [2.0000e-04, 2.0000e-01, 2.9990e-01, 3.9980e-01, 1.0010e-01],\n",
      "        [2.9990e-01, 1.0010e-01, 2.9990e-01, 1.0010e-01, 2.0000e-01],\n",
      "        [2.0000e-01, 2.9990e-01, 2.0000e-01, 2.9990e-01, 2.0000e-04],\n",
      "        [2.0000e-04, 2.0000e-01, 2.0000e-01, 1.0010e-01, 4.9970e-01],\n",
      "        [2.0000e-01, 2.0000e-01, 2.0000e-04, 2.0000e-01, 3.9980e-01],\n",
      "        [1.0010e-01, 2.9990e-01, 1.0010e-01, 2.0000e-01, 2.9990e-01],\n",
      "        [1.0010e-01, 1.0010e-01, 2.0000e-01, 1.0010e-01, 4.9970e-01],\n",
      "        [3.9980e-01, 2.0000e-01, 2.0000e-01, 2.0000e-01, 2.0000e-04],\n",
      "        [2.0000e-01, 1.0010e-01, 1.0010e-01, 2.0000e-01, 3.9980e-01]])\n"
     ]
    }
   ],
   "source": [
    "sparsity_index = 10\n",
    "all_probas = [\n",
    "    Sampler(input_size, output_size).probas for _ in range(sparsity_index)\n",
    "]\n",
    "sampler = AggregatedSampler(all_probas, epsilon=1e-3)\n",
    "print(sampler.probas)"
   ]
  },
  {
   "cell_type": "code",
   "execution_count": null,
   "metadata": {},
   "outputs": [],
   "source": [
    "tmp = sum(all_probas)\n",
    "tmp /= input_size\n",
    "tmp *= (1 - 1e-3)\n",
    "tmp += 1e-3 / output_size\n",
    "assert torch.allclose(tmp, sampler.probas)"
   ]
  },
  {
   "cell_type": "markdown",
   "metadata": {},
   "source": [
    "Random transform"
   ]
  },
  {
   "cell_type": "code",
   "execution_count": null,
   "metadata": {},
   "outputs": [
    {
     "name": "stdout",
     "output_type": "stream",
     "text": [
      "tensor([[0.2649, 0.0625, 0.1046, 0.3650, 0.2031],\n",
      "        [0.4859, 0.0046, 0.2810, 0.1338, 0.0947],\n",
      "        [0.1982, 0.0459, 0.3593, 0.2103, 0.1864],\n",
      "        [0.1445, 0.3282, 0.0426, 0.3749, 0.1098],\n",
      "        [0.2558, 0.2781, 0.2610, 0.1473, 0.0579],\n",
      "        [0.1019, 0.4135, 0.0127, 0.0185, 0.4534],\n",
      "        [0.1891, 0.0014, 0.0172, 0.1071, 0.6852],\n",
      "        [0.0548, 0.5081, 0.0892, 0.2946, 0.0533],\n",
      "        [0.6038, 0.0844, 0.1579, 0.0968, 0.0570],\n",
      "        [0.1845, 0.0112, 0.1306, 0.5585, 0.1152]])\n"
     ]
    }
   ],
   "source": [
    "alpha = 1\n",
    "sampler = DirichletSampler(input_size, output_size, alpha)\n",
    "print(sampler.probas)"
   ]
  },
  {
   "cell_type": "markdown",
   "metadata": {},
   "source": [
    "## Data: Factorized relation"
   ]
  },
  {
   "cell_type": "code",
   "execution_count": null,
   "metadata": {},
   "outputs": [
    {
     "name": "stdout",
     "output_type": "stream",
     "text": [
      "tensor([2, 3, 1, 3])\n"
     ]
    }
   ],
   "source": [
    "# ps = torch.tensor([4, 6, 2, 5, 100, 3])\n",
    "ps = torch.tensor([4, 6, 2, 5])\n",
    "alpha = .5\n",
    "qs = (alpha * ps).ceil().to(int)\n",
    "print(qs)\n",
    "\n",
    "max_x = ps.prod()\n",
    "x = torch.linspace(0, max_x - 1, max_x - 1).to(int)"
   ]
  },
  {
   "cell_type": "code",
   "execution_count": null,
   "metadata": {},
   "outputs": [
    {
     "name": "stdout",
     "output_type": "stream",
     "text": [
      "tensor([0.2510, 0.1674, 0.5021, 0.2008], dtype=torch.float64)\n",
      "tensor([0.2500, 0.1667, 0.5000, 0.2000])\n"
     ]
    }
   ],
   "source": [
    "x_factorizer = Factorizer(ps)\n",
    "y_factorizer = Factorizer(qs)\n",
    "\n",
    "factors = x_factorizer(x)\n",
    "print(1 - (factors != 0).to(float).mean(axis=0))\n",
    "print(1 / ps)"
   ]
  },
  {
   "cell_type": "code",
   "execution_count": null,
   "metadata": {},
   "outputs": [],
   "source": [
    "transforms = [generate_transform(ps[i], qs[i]) for i in range(len(ps))]\n",
    "transformed_factors = torch.zeros_like(factors)\n",
    "for i in range(len(ps)):\n",
    "    transformed_factors[:, i] = transforms[i][factors[:, i]]\n",
    "y = y_factorizer.recomposition(transformed_factors)"
   ]
  },
  {
   "cell_type": "code",
   "execution_count": null,
   "metadata": {},
   "outputs": [
    {
     "name": "stdout",
     "output_type": "stream",
     "text": [
      "tensor(True) tensor(True)\n"
     ]
    },
    {
     "data": {
      "text/plain": [
       "[<matplotlib.lines.Line2D at 0x7f59df71da60>]"
      ]
     },
     "execution_count": 11,
     "metadata": {},
     "output_type": "execute_result"
    },
    {
     "data": {
      "image/png": "[encoded data removed]",
      "text/plain": [
       "<Figure size 640x480 with 1 Axes>"
      ]
     },
     "metadata": {},
     "output_type": "display_data"
    }
   ],
   "source": [
    "x_tmp = x_factorizer.recomposition(factors)\n",
    "y_transform = y_factorizer(y)\n",
    "print((x_tmp == x).all(), (y_transform == transformed_factors).all())\n",
    "plt.plot(x, y)"
   ]
  },
  {
   "cell_type": "markdown",
   "metadata": {},
   "source": [
    "## Model\n",
    "\n",
    "To keep it simple, I take a MLP architecture that resembles a transformer without attention."
   ]
  },
  {
   "cell_type": "code",
   "execution_count": null,
   "metadata": {},
   "outputs": [],
   "source": [
    "from factorization.models.mlp import ModelConfig, Model"
   ]
  },
  {
   "cell_type": "code",
   "execution_count": null,
   "metadata": {},
   "outputs": [],
   "source": [
    "config = ModelConfig(\n",
    "    input_size=max_x,\n",
    "    output_size=torch.max(y) + 1,\n",
    "    emb_dim=32,\n",
    "    ffn_dim=64,\n",
    "    nb_layers=2,\n",
    ")\n",
    "\n",
    "model = Model(config)"
   ]
  },
  {
   "cell_type": "markdown",
   "metadata": {},
   "source": [
    "## training"
   ]
  },
  {
   "cell_type": "code",
   "execution_count": null,
   "metadata": {},
   "outputs": [],
   "source": [
    "n_epochs = 1000\n",
    "model.train()\n",
    "optimizer = torch.optim.Adam(model.parameters(), lr=.01)\n",
    "\n",
    "device = torch.device(\"cuda\" if torch.cuda.is_available() else \"cpu\")\n",
    "\n",
    "losses = torch.empty(n_epochs)\n",
    "\n",
    "inputs = x\n",
    "outputs = y\n",
    "\n",
    "# min_loss = F.cross_entropy(torch.log(targets), targets).item()\n",
    "min_loss = 0\n",
    "\n",
    "model.to(device)\n",
    "inputs = inputs.to(device)\n",
    "targets = outputs.to(device)\n",
    "\n",
    "for epoch in range(n_epochs):\n",
    "    # training\n",
    "\n",
    "    logits = model(inputs)\n",
    "    loss = F.cross_entropy(logits, targets)\n",
    "\n",
    "    optimizer.zero_grad()\n",
    "    loss.backward()\n",
    "    optimizer.step()\n",
    "\n",
    "    losses[epoch] = loss.item() - min_loss"
   ]
  },
  {
   "cell_type": "code",
   "execution_count": null,
   "metadata": {},
   "outputs": [
    {
     "data": {
      "text/plain": [
       "[]"
      ]
     },
     "execution_count": 15,
     "metadata": {},
     "output_type": "execute_result"
    },
    {
     "data": {
      "image/png": "[encoded data removed]",
      "text/plain": [
       "<Figure size 640x480 with 1 Axes>"
      ]
     },
     "metadata": {},
     "output_type": "display_data"
    }
   ],
   "source": [
    "plt.plot(losses)\n",
    "plt.loglog()"
   ]
  },
  {
   "cell_type": "code",
   "execution_count": null,
   "metadata": {},
   "outputs": [],
   "source": []
  }
 ],
 "metadata": {
  "kernelspec": {
   "display_name": "llm",
   "language": "python",
   "name": "python3"
  },
  "language_info": {
   "codemirror_mode": {
    "name": "ipython",
    "version": 3
   },
   "file_extension": ".py",
   "mimetype": "text/x-python",
   "name": "python",
   "nbconvert_exporter": "python",
   "pygments_lexer": "ipython3",
   "version": "3.12.3"
  }
 },
 "nbformat": 4,
 "nbformat_minor": 2
}
