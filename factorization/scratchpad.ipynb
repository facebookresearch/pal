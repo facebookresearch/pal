{
 "cells": [
  {
   "cell_type": "code",
   "execution_count": 1,
   "metadata": {},
   "outputs": [],
   "source": [
    "%load_ext autoreload\n",
    "%autoreload 2"
   ]
  },
  {
   "cell_type": "markdown",
   "metadata": {},
   "source": [
    "## data"
   ]
  },
  {
   "cell_type": "code",
   "execution_count": 2,
   "metadata": {},
   "outputs": [],
   "source": [
    "import torch\n",
    "\n",
    "from factorization.data.synthetic import (\n",
    "    Sampler, \n",
    "    DirichletSampler,\n",
    "    AggregatedSampler,\n",
    ")"
   ]
  },
  {
   "cell_type": "markdown",
   "metadata": {},
   "source": [
    "Deterministic transform"
   ]
  },
  {
   "cell_type": "code",
   "execution_count": 3,
   "metadata": {},
   "outputs": [
    {
     "name": "stdout",
     "output_type": "stream",
     "text": [
      "tensor([[0., 0., 0., 0., 1.],\n",
      "        [1., 0., 0., 0., 0.],\n",
      "        [0., 1., 0., 0., 0.],\n",
      "        [0., 0., 1., 0., 0.],\n",
      "        [0., 0., 0., 1., 0.],\n",
      "        [0., 0., 0., 1., 0.],\n",
      "        [0., 1., 0., 0., 0.],\n",
      "        [0., 1., 0., 0., 0.],\n",
      "        [0., 0., 0., 0., 1.],\n",
      "        [0., 0., 0., 0., 1.]])\n"
     ]
    }
   ],
   "source": [
    "input_size = 10\n",
    "output_size = 5\n",
    "sampler = Sampler(input_size, output_size)\n",
    "print(sampler.probas)"
   ]
  },
  {
   "cell_type": "code",
   "execution_count": 4,
   "metadata": {},
   "outputs": [
    {
     "name": "stdout",
     "output_type": "stream",
     "text": [
      "tensor([4, 0, 1, 2, 3, 3, 1, 1, 4, 4, 0, 0, 1, 0, 0, 2])\n"
     ]
    }
   ],
   "source": [
    "# ilustrating the generating function\n",
    "inputs = torch.tensor([0, 1, 2, 3, 4, 5, 6, 7, 8, 9, 1, 1, 2, 1, 1, 3,])\n",
    "targets = sampler.generate_targets(inputs)\n",
    "print(targets)"
   ]
  },
  {
   "cell_type": "markdown",
   "metadata": {},
   "source": [
    "Sparse transform"
   ]
  },
  {
   "cell_type": "code",
   "execution_count": 5,
   "metadata": {},
   "outputs": [
    {
     "name": "stdout",
     "output_type": "stream",
     "text": [
      "tensor([[2.0000e-01, 2.9990e-01, 1.0010e-01, 2.0000e-04, 3.9980e-01],\n",
      "        [3.9980e-01, 1.0010e-01, 2.0000e-01, 2.0000e-01, 1.0010e-01],\n",
      "        [2.0000e-01, 1.0010e-01, 2.0000e-01, 2.0000e-01, 2.9990e-01],\n",
      "        [2.0000e-01, 1.0010e-01, 2.9990e-01, 2.0000e-01, 2.0000e-01],\n",
      "        [2.9990e-01, 1.0010e-01, 1.0010e-01, 2.0000e-01, 2.9990e-01],\n",
      "        [1.0010e-01, 2.9990e-01, 3.9980e-01, 2.0000e-01, 2.0000e-04],\n",
      "        [2.0000e-01, 1.0010e-01, 2.9990e-01, 3.9980e-01, 2.0000e-04],\n",
      "        [2.9990e-01, 1.0010e-01, 2.0000e-01, 1.0010e-01, 2.9990e-01],\n",
      "        [2.9990e-01, 1.0010e-01, 2.9990e-01, 2.0000e-01, 1.0010e-01],\n",
      "        [1.0010e-01, 4.9970e-01, 2.0000e-01, 2.0000e-04, 2.0000e-01]])\n"
     ]
    }
   ],
   "source": [
    "sparsity_index = 10\n",
    "all_probas = [\n",
    "    Sampler(input_size, output_size).probas for _ in range(sparsity_index)\n",
    "]\n",
    "sampler = AggregatedSampler(all_probas, epsilon=1e-3)\n",
    "print(sampler.probas)"
   ]
  },
  {
   "cell_type": "code",
   "execution_count": 6,
   "metadata": {},
   "outputs": [],
   "source": [
    "tmp = sum(all_probas)\n",
    "tmp /= input_size\n",
    "tmp *= (1 - 1e-3)\n",
    "tmp += 1e-3 / output_size\n",
    "assert torch.allclose(tmp, sampler.probas)"
   ]
  },
  {
   "cell_type": "markdown",
   "metadata": {},
   "source": [
    "Random transform"
   ]
  },
  {
   "cell_type": "code",
   "execution_count": 7,
   "metadata": {},
   "outputs": [
    {
     "name": "stdout",
     "output_type": "stream",
     "text": [
      "tensor([[0.1079, 0.0667, 0.1985, 0.5767, 0.0502],\n",
      "        [0.2422, 0.1382, 0.4235, 0.1365, 0.0595],\n",
      "        [0.0298, 0.6130, 0.0230, 0.1420, 0.1922],\n",
      "        [0.0720, 0.2419, 0.0408, 0.4879, 0.1574],\n",
      "        [0.5084, 0.1211, 0.0853, 0.1319, 0.1533],\n",
      "        [0.4738, 0.0721, 0.2343, 0.0765, 0.1433],\n",
      "        [0.5164, 0.2557, 0.0222, 0.1399, 0.0659],\n",
      "        [0.1417, 0.2393, 0.4005, 0.1292, 0.0892],\n",
      "        [0.0134, 0.1737, 0.3839, 0.0190, 0.4100],\n",
      "        [0.1356, 0.3566, 0.3023, 0.1822, 0.0232]])\n"
     ]
    }
   ],
   "source": [
    "alpha = 1\n",
    "sampler = DirichletSampler(input_size, output_size, alpha)\n",
    "print(sampler.probas)"
   ]
  },
  {
   "cell_type": "markdown",
   "metadata": {},
   "source": [
    "## Factorization into factors (TODO I am here)"
   ]
  },
  {
   "cell_type": "code",
   "execution_count": 6,
   "metadata": {},
   "outputs": [],
   "source": [
    "ps = torch.tensor([4, 6, 2, 5, 100, 3, 7, 11, 13, 17])\n",
    "x = torch.linspace(0, 100_000, 100_000).to(int)\n",
    "\n",
    "gen = x\n",
    "\n",
    "factors = torch.empty((len(x), len(ps) + 1))\n",
    "\n",
    "for i, p in enumerate(ps):\n",
    "    factors[:, i] = gen % p\n",
    "    gen = gen // p\n",
    "factors[:, i + 1] = gen"
   ]
  },
  {
   "cell_type": "code",
   "execution_count": 7,
   "metadata": {},
   "outputs": [
    {
     "data": {
      "text/plain": [
       "tensor([[0., 0., 0.,  ..., 0., 0., 0.],\n",
       "        [1., 0., 0.,  ..., 0., 0., 0.],\n",
       "        [2., 0., 0.,  ..., 0., 0., 0.],\n",
       "        ...,\n",
       "        [2., 3., 0.,  ..., 0., 0., 0.],\n",
       "        [3., 3., 0.,  ..., 0., 0., 0.],\n",
       "        [0., 4., 0.,  ..., 0., 0., 0.]])"
      ]
     },
     "execution_count": 7,
     "metadata": {},
     "output_type": "execute_result"
    }
   ],
   "source": [
    "factors"
   ]
  },
  {
   "cell_type": "markdown",
   "metadata": {},
   "source": [
    "Recomposition into a number"
   ]
  },
  {
   "cell_type": "code",
   "execution_count": 8,
   "metadata": {},
   "outputs": [],
   "source": [
    "p_y = torch.tensor([3, 4, 2, 3, 4, 5, 6, 7, 8, 9])\n",
    "y_deterministic = (torch.cumprod(p_y, dim=0) * factors[:, 1:]).sum(dim=1) + factors[:, 0]"
   ]
  },
  {
   "cell_type": "code",
   "execution_count": 9,
   "metadata": {},
   "outputs": [
    {
     "data": {
      "text/plain": [
       "(torch.Size([8695]), tensor(2964.))"
      ]
     },
     "execution_count": 9,
     "metadata": {},
     "output_type": "execute_result"
    }
   ],
   "source": [
    "torch.unique(y_deterministic).shape, y_deterministic[-1]"
   ]
  },
  {
   "cell_type": "markdown",
   "metadata": {},
   "source": [
    "TODO: check if we have a better structure than just a modulo 5 operation"
   ]
  },
  {
   "cell_type": "code",
   "execution_count": 10,
   "metadata": {},
   "outputs": [
    {
     "data": {
      "text/plain": [
       "[<matplotlib.lines.Line2D at 0x7f10a4074bd0>]"
      ]
     },
     "execution_count": 10,
     "metadata": {},
     "output_type": "execute_result"
    },
    {
     "data": {
      "image/png": "[encoded data removed]",
      "text/plain": [
       "<Figure size 640x480 with 1 Axes>"
      ]
     },
     "metadata": {},
     "output_type": "display_data"
    }
   ],
   "source": [
    "import matplotlib.pyplot as plt\n",
    "plt.plot(x, y_deterministic)"
   ]
  },
  {
   "cell_type": "markdown",
   "metadata": {},
   "source": [
    "## model\n",
    "\n",
    "We will have different architectures.\n",
    "It would be nice to compute some form of cost for the different architecture in order to be able to do apple to apple comparison.\n",
    "\n",
    "In some sense, we want to answer two questions:\n",
    "- what kind of structure can be leveraged by neural networks?\n",
    "- what kind of MLP architecture minimizes the cost?"
   ]
  },
  {
   "cell_type": "code",
   "execution_count": 11,
   "metadata": {},
   "outputs": [],
   "source": [
    "from dataclasses import dataclass\n",
    "\n",
    "import torch.nn as nn\n",
    "import torch.nn.functional as F\n",
    "\n",
    "\n",
    "class MLP(nn.Module):\n",
    "    \"\"\"\n",
    "    Multi-layer Perceptron.\n",
    "\n",
    "    Parameters\n",
    "    ----------\n",
    "    config: configuration class with\n",
    "        fan_in: int\n",
    "            input dimension\n",
    "        fan_out: int\n",
    "            output dimension\n",
    "        hidden_dim: int, or list of int\n",
    "            hidden dimension(s) of the MLP\n",
    "        activation: str\n",
    "            activation function. Options are \"relu\", \"gelu\", or any name for F.name.\n",
    "        residual: bool\n",
    "            whether to use residual connection\n",
    "        dropout: float\n",
    "            dropout rate\n",
    "    \"\"\"\n",
    "\n",
    "    def __init__(self, config):\n",
    "        super().__init__()\n",
    "\n",
    "        if isinstance(config.hidden_dim, int):\n",
    "            hidden_dim = [config.hidden_dim]\n",
    "        else:\n",
    "            hidden_dim = config.hidden_dim\n",
    "\n",
    "        # residual connection\n",
    "        self.residual = config.residual\n",
    "\n",
    "        # linear and normalization layers\n",
    "        fan_in = config.fan_in\n",
    "        norms = []\n",
    "        layers = []\n",
    "        for fan_out in hidden_dim:\n",
    "            if self.residual:\n",
    "                assert fan_in == fan_out, \"fan_in and fan_out must be the same for residual connection\"\n",
    "            norms.append(nn.RMSNorm(fan_in, elementwise_affine=False))\n",
    "            layers.append(nn.Linear(fan_in, fan_out, bias=True))\n",
    "            fan_in = fan_out\n",
    "        self.norms = nn.Sequential(*norms)\n",
    "        self.layers = nn.Sequential(*layers)\n",
    "\n",
    "        self.norm = nn.RMSNorm(fan_in, elementwise_affine=False)\n",
    "        self.output = nn.Linear(fan_in, config.fan_out, bias=True)\n",
    "\n",
    "        # activation function\n",
    "        activation = config.activation.lower()\n",
    "        self.activation = getattr(F, activation)\n",
    "\n",
    "\n",
    "        # dropout regularization\n",
    "        self.dropout = config.dropout\n",
    "\n",
    "    def forward(self, x):\n",
    "        for layer, norm in zip(self.layers, self.norms):\n",
    "            out = norm(x)\n",
    "            out = layer(out)\n",
    "            out = self.activation(out)\n",
    "            if self.residual:\n",
    "                out = out + x\n",
    "            x = F.dropout(out, p=self.dropout, training=self.training)\n",
    "        x = self.norm(x)\n",
    "        out = self.output(x)\n",
    "        return out\n",
    "\n",
    "\n",
    "@dataclass\n",
    "class Config:\n",
    "    vocab_size: int = None\n",
    "    emb_dim: int = None\n",
    "    nb_layers: int = None\n",
    "    activation: str = \"relu\"\n",
    "    dropout: float = 0.0\n",
    "\n",
    "    def __post_init__(self):\n",
    "        self.fan_in = self.emb_dim\n",
    "        self.fan_out = self.vocab_size\n",
    "        self.hidden_dim: list = [self.emb_dim, ] * self.nb_layers\n",
    "        self.residual: bool = True\n",
    "\n",
    "\n",
    "\n",
    "class Model(nn.Module):\n",
    "    def __init__(self, config):\n",
    "        super().__init__()\n",
    "        self.emb = nn.Embedding(config.vocab_size, config.emb_dim)\n",
    "        self.model = MLP(config)\n",
    "\n",
    "    def forward(self, inputs):\n",
    "        emb = self.emb(inputs)\n",
    "        out = self.model(emb)\n",
    "        return out"
   ]
  },
  {
   "cell_type": "code",
   "execution_count": 13,
   "metadata": {},
   "outputs": [
    {
     "ename": "AttributeError",
     "evalue": "module 'torch.nn' has no attribute 'RMSNorm'",
     "output_type": "error",
     "traceback": [
      "\u001b[0;31m---------------------------------------------------------------------------\u001b[0m",
      "\u001b[0;31mAttributeError\u001b[0m                            Traceback (most recent call last)",
      "Cell \u001b[0;32mIn[13], line 10\u001b[0m\n\u001b[1;32m      1\u001b[0m vocab_size \u001b[38;5;241m=\u001b[39m \u001b[38;5;241m10\u001b[39m\n\u001b[1;32m      2\u001b[0m config \u001b[38;5;241m=\u001b[39m Config(\n\u001b[1;32m      3\u001b[0m     vocab_size\u001b[38;5;241m=\u001b[39mvocab_size,\n\u001b[1;32m      4\u001b[0m     emb_dim\u001b[38;5;241m=\u001b[39m\u001b[38;5;241m32\u001b[39m,\n\u001b[0;32m   (...)\u001b[0m\n\u001b[1;32m      7\u001b[0m     dropout\u001b[38;5;241m=\u001b[39m\u001b[38;5;241m0.0\u001b[39m,\n\u001b[1;32m      8\u001b[0m )\n\u001b[0;32m---> 10\u001b[0m model \u001b[38;5;241m=\u001b[39m \u001b[43mModel\u001b[49m\u001b[43m(\u001b[49m\u001b[43mconfig\u001b[49m\u001b[43m)\u001b[49m\n",
      "Cell \u001b[0;32mIn[11], line 96\u001b[0m, in \u001b[0;36mModel.__init__\u001b[0;34m(self, config)\u001b[0m\n\u001b[1;32m     94\u001b[0m \u001b[38;5;28msuper\u001b[39m()\u001b[38;5;241m.\u001b[39m\u001b[38;5;21m__init__\u001b[39m()\n\u001b[1;32m     95\u001b[0m \u001b[38;5;28mself\u001b[39m\u001b[38;5;241m.\u001b[39memb \u001b[38;5;241m=\u001b[39m nn\u001b[38;5;241m.\u001b[39mEmbedding(config\u001b[38;5;241m.\u001b[39mvocab_size, config\u001b[38;5;241m.\u001b[39memb_dim)\n\u001b[0;32m---> 96\u001b[0m \u001b[38;5;28mself\u001b[39m\u001b[38;5;241m.\u001b[39mmodel \u001b[38;5;241m=\u001b[39m \u001b[43mMLP\u001b[49m\u001b[43m(\u001b[49m\u001b[43mconfig\u001b[49m\u001b[43m)\u001b[49m\n",
      "Cell \u001b[0;32mIn[11], line 46\u001b[0m, in \u001b[0;36mMLP.__init__\u001b[0;34m(self, config)\u001b[0m\n\u001b[1;32m     44\u001b[0m \u001b[38;5;28;01mif\u001b[39;00m \u001b[38;5;28mself\u001b[39m\u001b[38;5;241m.\u001b[39mresidual:\n\u001b[1;32m     45\u001b[0m     \u001b[38;5;28;01massert\u001b[39;00m fan_in \u001b[38;5;241m==\u001b[39m fan_out, \u001b[38;5;124m\"\u001b[39m\u001b[38;5;124mfan_in and fan_out must be the same for residual connection\u001b[39m\u001b[38;5;124m\"\u001b[39m\n\u001b[0;32m---> 46\u001b[0m norms\u001b[38;5;241m.\u001b[39mappend(\u001b[43mnn\u001b[49m\u001b[38;5;241;43m.\u001b[39;49m\u001b[43mRMSNorm\u001b[49m(fan_in, elementwise_affine\u001b[38;5;241m=\u001b[39m\u001b[38;5;28;01mFalse\u001b[39;00m))\n\u001b[1;32m     47\u001b[0m layers\u001b[38;5;241m.\u001b[39mappend(nn\u001b[38;5;241m.\u001b[39mLinear(fan_in, fan_out, bias\u001b[38;5;241m=\u001b[39m\u001b[38;5;28;01mTrue\u001b[39;00m))\n\u001b[1;32m     48\u001b[0m fan_in \u001b[38;5;241m=\u001b[39m fan_out\n",
      "\u001b[0;31mAttributeError\u001b[0m: module 'torch.nn' has no attribute 'RMSNorm'"
     ]
    }
   ],
   "source": [
    "vocab_size = 10\n",
    "config = Config(\n",
    "    vocab_size=vocab_size,\n",
    "    emb_dim=32,\n",
    "    nb_layers=2,\n",
    "    activation=\"relu\",\n",
    "    dropout=0.0,\n",
    ")\n",
    "\n",
    "model = Model(config)"
   ]
  },
  {
   "cell_type": "code",
   "execution_count": null,
   "metadata": {},
   "outputs": [
    {
     "data": {
      "text/plain": [
       "tensor(9)"
      ]
     },
     "execution_count": 9,
     "metadata": {},
     "output_type": "execute_result"
    }
   ],
   "source": [
    "torch.randint(0, 10, (1000, )).max()"
   ]
  },
  {
   "cell_type": "markdown",
   "metadata": {},
   "source": [
    "## training"
   ]
  },
  {
   "cell_type": "code",
   "execution_count": null,
   "metadata": {},
   "outputs": [],
   "source": [
    "n_epochs = 100\n",
    "model.train()\n",
    "optimizer = torch.optim.Adam(model.parameters(), lr=.01)\n",
    "\n",
    "device = torch.device(\"cuda\" if torch.cuda.is_available() else \"cpu\")\n",
    "\n",
    "losses = torch.empty(n_epochs)\n",
    "\n",
    "inputs = torch.tensor([0, 1, 2, 3, 4, 5, 6, 7, 8, 9])\n",
    "outputs = torch.stack([generator_given_x[inp].sample() for inp in inputs])\n",
    "targets = torch.stack([probas[inp] for inp in inputs])\n",
    "\n",
    "min_loss = F.cross_entropy(torch.log(targets), targets).item()\n",
    "\n",
    "model.to(device)\n",
    "inputs = inputs.to(device)\n",
    "targets = targets.to(device)\n",
    "\n",
    "for epoch in range(n_epochs):\n",
    "    # training\n",
    "\n",
    "    logits = model(inputs)\n",
    "    loss = F.cross_entropy(logits, targets)\n",
    "\n",
    "    optimizer.zero_grad()\n",
    "    loss.backward()\n",
    "    optimizer.step()\n",
    "\n",
    "    losses[epoch] = loss.item() - min_loss"
   ]
  },
  {
   "cell_type": "code",
   "execution_count": null,
   "metadata": {},
   "outputs": [
    {
     "data": {
      "text/plain": [
       "[]"
      ]
     },
     "execution_count": 7,
     "metadata": {},
     "output_type": "execute_result"
    },
    {
     "data": {
      "image/png": "[encoded data removed]",
      "text/plain": [
       "<Figure size 640x480 with 1 Axes>"
      ]
     },
     "metadata": {},
     "output_type": "display_data"
    }
   ],
   "source": [
    "import matplotlib.pyplot as plt\n",
    "plt.plot(losses)\n",
    "plt.loglog()"
   ]
  }
 ],
 "metadata": {
  "kernelspec": {
   "display_name": "llm",
   "language": "python",
   "name": "python3"
  },
  "language_info": {
   "codemirror_mode": {
    "name": "ipython",
    "version": 3
   },
   "file_extension": ".py",
   "mimetype": "text/x-python",
   "name": "python",
   "nbconvert_exporter": "python",
   "pygments_lexer": "ipython3",
   "version": "3.11.5"
  }
 },
 "nbformat": 4,
 "nbformat_minor": 2
}
