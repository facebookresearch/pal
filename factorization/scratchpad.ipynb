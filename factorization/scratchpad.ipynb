{
 "cells": [
  {
   "cell_type": "code",
   "execution_count": 1,
   "metadata": {},
   "outputs": [],
   "source": [
    "%load_ext autoreload\n",
    "%autoreload 2"
   ]
  },
  {
   "cell_type": "markdown",
   "metadata": {},
   "source": [
    "## data"
   ]
  },
  {
   "cell_type": "code",
   "execution_count": 2,
   "metadata": {},
   "outputs": [],
   "source": [
    "import torch\n",
    "from torch.distributions import Dirichlet, Multinomial\n",
    "\n",
    "torch.manual_seed(42)\n",
    "\n",
    "vocab_size = 12\n",
    "alpha = 1.0\n",
    "alphas = torch.tensor([alpha for _ in range(vocab_size)])\n",
    "generator = Dirichlet(alphas)\n",
    "probas = generator.sample((vocab_size,))\n",
    "generator_given_x = [Multinomial(1, probas[inp]) for inp in range(vocab_size)]"
   ]
  },
  {
   "cell_type": "code",
   "execution_count": 3,
   "metadata": {},
   "outputs": [],
   "source": [
    "inputs = torch.tensor([0, 1, 2, 3, 4, 5, 6, 7, 8, 9])\n",
    "outputs = torch.stack([generator_given_x[inp].sample() for inp in inputs])\n",
    "targets = torch.stack([probas[inp] for inp in inputs])"
   ]
  },
  {
   "cell_type": "markdown",
   "metadata": {},
   "source": [
    "## model\n",
    "\n",
    "We will have different architectures.\n",
    "It would be nice to compute some form of cost for the different architecture in order to be able to do apple to apple comparison.\n",
    "\n",
    "In some sense, we want to answer two questions:\n",
    "- what kind of structure can be leveraged by neural networks?\n",
    "- what kind of MLP architecture minimizes the cost?"
   ]
  },
  {
   "cell_type": "code",
   "execution_count": 4,
   "metadata": {},
   "outputs": [],
   "source": [
    "from dataclasses import dataclass\n",
    "\n",
    "import torch.nn as nn\n",
    "import torch.nn.functional as F\n",
    "\n",
    "\n",
    "class MLP(nn.Module):\n",
    "    \"\"\"\n",
    "    Multi-layer Perceptron.\n",
    "\n",
    "    Parameters\n",
    "    ----------\n",
    "    config: configuration class with\n",
    "        fan_in: int\n",
    "            input dimension\n",
    "        fan_out: int\n",
    "            output dimension\n",
    "        hidden_dim: int, or list of int\n",
    "            hidden dimension(s) of the MLP\n",
    "        activation: str\n",
    "            activation function. Options are \"relu\", \"gelu\", or any name for F.name.\n",
    "        residual: bool\n",
    "            whether to use residual connection\n",
    "        dropout: float\n",
    "            dropout rate\n",
    "    \"\"\"\n",
    "\n",
    "    def __init__(self, config):\n",
    "        super().__init__()\n",
    "\n",
    "        if isinstance(config.hidden_dim, int):\n",
    "            hidden_dim = [config.hidden_dim]\n",
    "        else:\n",
    "            hidden_dim = config.hidden_dim\n",
    "\n",
    "        # residual connection\n",
    "        self.residual = config.residual\n",
    "\n",
    "        # linear and normalization layers\n",
    "        fan_in = config.fan_in\n",
    "        norms = []\n",
    "        layers = []\n",
    "        for fan_out in hidden_dim:\n",
    "            if self.residual:\n",
    "                assert fan_in == fan_out, \"fan_in and fan_out must be the same for residual connection\"\n",
    "            norms.append(nn.RMSNorm(fan_in, elementwise_affine=False))\n",
    "            layers.append(nn.Linear(fan_in, fan_out, bias=True))\n",
    "            fan_in = fan_out\n",
    "        self.norms = nn.Sequential(*norms)\n",
    "        self.layers = nn.Sequential(*layers)\n",
    "\n",
    "        self.norm = nn.RMSNorm(fan_in, elementwise_affine=False)\n",
    "        self.output = nn.Linear(fan_in, config.fan_out, bias=True)\n",
    "\n",
    "        # activation function\n",
    "        activation = config.activation.lower()\n",
    "        self.activation = getattr(F, activation)\n",
    "\n",
    "\n",
    "        # dropout regularization\n",
    "        self.dropout = config.dropout\n",
    "\n",
    "    def forward(self, x):\n",
    "        for layer, norm in zip(self.layers, self.norms):\n",
    "            out = norm(x)\n",
    "            out = layer(out)\n",
    "            out = self.activation(out)\n",
    "            if self.residual:\n",
    "                out = out + x\n",
    "            x = F.dropout(out, p=self.dropout, training=self.training)\n",
    "        x = self.norm(x)\n",
    "        out = self.output(x)\n",
    "        return out\n",
    "\n",
    "\n",
    "@dataclass\n",
    "class Config:\n",
    "    vocab_size: int = None\n",
    "    emb_dim: int = None\n",
    "    nb_layers: int = None\n",
    "    activation: str = \"relu\"\n",
    "    dropout: float = 0.0\n",
    "\n",
    "    def __post_init__(self):\n",
    "        self.fan_in = self.emb_dim\n",
    "        self.fan_out = self.vocab_size\n",
    "        self.hidden_dim: list = [self.emb_dim, ] * self.nb_layers\n",
    "        self.residual: bool = True\n",
    "\n",
    "\n",
    "\n",
    "class Model(nn.Module):\n",
    "    def __init__(self, config):\n",
    "        super().__init__()\n",
    "        self.emb = nn.Embedding(config.vocab_size, config.emb_dim)\n",
    "        self.model = MLP(config)\n",
    "\n",
    "    def forward(self, inputs):\n",
    "        emb = self.emb(inputs)\n",
    "        out = self.model(emb)\n",
    "        return out"
   ]
  },
  {
   "cell_type": "code",
   "execution_count": 5,
   "metadata": {},
   "outputs": [],
   "source": [
    "config = Config(\n",
    "    vocab_size=vocab_size,\n",
    "    emb_dim=32,\n",
    "    nb_layers=2,\n",
    "    activation=\"relu\",\n",
    "    dropout=0.0,\n",
    ")\n",
    "\n",
    "model = Model(config)"
   ]
  },
  {
   "cell_type": "markdown",
   "metadata": {},
   "source": [
    "## training"
   ]
  },
  {
   "cell_type": "code",
   "execution_count": 6,
   "metadata": {},
   "outputs": [],
   "source": [
    "n_epochs = 100\n",
    "model.train()\n",
    "optimizer = torch.optim.Adam(model.parameters(), lr=.01)\n",
    "\n",
    "losses = torch.empty(n_epochs)\n",
    "\n",
    "inputs = torch.tensor([0, 1, 2, 3, 4, 5, 6, 7, 8, 9])\n",
    "outputs = torch.stack([generator_given_x[inp].sample() for inp in inputs])\n",
    "targets = torch.stack([probas[inp] for inp in inputs])\n",
    "\n",
    "min_loss = F.cross_entropy(torch.log(targets), targets).item()\n",
    "\n",
    "for epoch in range(n_epochs):\n",
    "    # training\n",
    "\n",
    "    logits = model(inputs)\n",
    "    loss = F.cross_entropy(logits, targets)\n",
    "\n",
    "    optimizer.zero_grad()\n",
    "    loss.backward()\n",
    "    optimizer.step()\n",
    "\n",
    "    losses[epoch] = loss.item() - min_loss"
   ]
  },
  {
   "cell_type": "code",
   "execution_count": 7,
   "metadata": {},
   "outputs": [
    {
     "data": {
      "text/plain": [
       "[]"
      ]
     },
     "execution_count": 7,
     "metadata": {},
     "output_type": "execute_result"
    },
    {
     "data": {
      "image/png": "[encoded data removed]",
      "text/plain": [
       "<Figure size 640x480 with 1 Axes>"
      ]
     },
     "metadata": {},
     "output_type": "display_data"
    }
   ],
   "source": [
    "import matplotlib.pyplot as plt\n",
    "plt.plot(losses)\n",
    "plt.loglog()"
   ]
  },
  {
   "cell_type": "code",
   "execution_count": null,
   "metadata": {},
   "outputs": [],
   "source": []
  }
 ],
 "metadata": {
  "kernelspec": {
   "display_name": "llm",
   "language": "python",
   "name": "python3"
  },
  "language_info": {
   "codemirror_mode": {
    "name": "ipython",
    "version": 3
   },
   "file_extension": ".py",
   "mimetype": "text/x-python",
   "name": "python",
   "nbconvert_exporter": "python",
   "pygments_lexer": "ipython3",
   "version": "3.12.3"
  }
 },
 "nbformat": 4,
 "nbformat_minor": 2
}
