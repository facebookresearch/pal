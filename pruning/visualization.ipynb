{
 "cells": [
  {
   "cell_type": "markdown",
   "metadata": {},
   "source": [
    "# Training Dynamic Visualization"
   ]
  },
  {
   "cell_type": "code",
   "execution_count": 1,
   "metadata": {},
   "outputs": [],
   "source": [
    "%load_ext autoreload\n",
    "%autoreload 2"
   ]
  },
  {
   "cell_type": "code",
   "execution_count": 2,
   "metadata": {},
   "outputs": [
    {
     "name": "stdout",
     "output_type": "stream",
     "text": [
      "/usr/bin/pdflatex\n"
     ]
    }
   ],
   "source": [
    "import math\n",
    "import pickle\n",
    "import subprocess\n",
    "import sys\n",
    "from dataclasses import dataclass\n",
    "from pathlib import Path\n",
    "\n",
    "\n",
    "import matplotlib.animation as animation\n",
    "import matplotlib.pyplot as plt\n",
    "import numpy as np\n",
    "import torch\n",
    "import torch.nn as nn\n",
    "import torch.nn.functional as F\n",
    "from matplotlib import rc\n",
    "from tqdm import tqdm\n",
    "\n",
    "sys.path.append(str(Path(\"..\").resolve()))\n",
    "\n",
    "from models.mlp import TransformerFeedForward\n",
    "from models.normalization import RMSNorm\n",
    "\n",
    "SAVE_DIR = Path(\".\").resolve() / \"results\"\n",
    "DEVICE = torch.device(\"cuda:0\")\n",
    "SEED = None\n",
    "SEED = 200\n",
    "if SEED:\n",
    "    RNG = np.random.default_rng(SEED)\n",
    "    np.random.seed(seed=SEED)\n",
    "    torch.manual_seed(seed=SEED)\n",
    "\n",
    "rc(\"font\", family=\"serif\", size=8)\n",
    "usetex = not subprocess.run([\"which\", \"pdflatex\"]).returncode\n",
    "usetex = False\n",
    "rc(\"text\", usetex=usetex)\n",
    "if usetex:\n",
    "    rc(\"text.latex\", preamble=r\"\\usepackage{times}\")\n"
   ]
  },
  {
   "cell_type": "markdown",
   "metadata": {},
   "source": [
    "## Data Generation"
   ]
  },
  {
   "cell_type": "code",
   "execution_count": 3,
   "metadata": {},
   "outputs": [],
   "source": [
    "vocab_size = 2\n",
    "# vocab_size = 4\n",
    "bsz = 2048\n",
    "length = 12\n",
    "sparsity_index = 5\n",
    "\n",
    "# modular addition problem on some subset of the input only\n",
    "data = np.random.rand(bsz, length) // (1 / vocab_size)\n",
    "targets = data[:, :sparsity_index].sum(axis=1) % vocab_size\n",
    "\n",
    "test_bsz = 128\n",
    "test_data = np.random.rand(test_bsz, length) // (1 / vocab_size)\n",
    "test_targets = test_data[:, :sparsity_index].sum(axis=1) % vocab_size"
   ]
  },
  {
   "cell_type": "code",
   "execution_count": 4,
   "metadata": {},
   "outputs": [
    {
     "name": "stdout",
     "output_type": "stream",
     "text": [
      "Total number of unique sequences 4096\n"
     ]
    }
   ],
   "source": [
    "print(f\"Total number of unique sequences {vocab_size ** length}\")"
   ]
  },
  {
   "cell_type": "markdown",
   "metadata": {},
   "source": [
    "## Model"
   ]
  },
  {
   "cell_type": "code",
   "execution_count": 5,
   "metadata": {},
   "outputs": [],
   "source": [
    "class SoftmaxLayer(nn.Module):\n",
    "    def __init__(self, emb_dim):\n",
    "        super(SoftmaxLayer, self).__init__()\n",
    "        self.emb_dim = emb_dim\n",
    "        self.query = nn.Linear(emb_dim, 1, bias=False)\n",
    "        self.value = nn.Linear(emb_dim, emb_dim, bias=False)\n",
    "\n",
    "    def forward(self, x, verbose=False):\n",
    "        # x: [bsz, seq_len, emb_dim]\n",
    "        query = self.query.weight\n",
    "        key = x\n",
    "        value = self.value(x)\n",
    "\n",
    "        attn = query @ key.transpose(-1, -2) / math.sqrt(self.emb_dim)\n",
    "        attn = F.softmax(attn, dim=-1)\n",
    "        out = (attn @ value).squeeze(1)\n",
    "        if verbose:\n",
    "            return out, attn.squeeze(1)\n",
    "        return out"
   ]
  },
  {
   "cell_type": "code",
   "execution_count": 6,
   "metadata": {},
   "outputs": [],
   "source": [
    "@dataclass\n",
    "class MLPConfig:\n",
    "    activation: float = \"gelu\"\n",
    "    emb_dim: bool = None\n",
    "    ffn_dim: bool = None\n",
    "    ffn_bias: bool = False\n",
    "    ffn_dropout: float = 0\n",
    "\n",
    "    def __post_init__(self):\n",
    "        if self.ffn_dim is None:\n",
    "            self.ffn_dim = 4 * self.emb_dim\n",
    "\n",
    "\n",
    "class Model(nn.Module):\n",
    "    def __init__(self, emb_dim, vocab_size, ffn_dim=None):\n",
    "        if ffn_dim is None:\n",
    "            ffn_dim = 4 * emb_dim\n",
    "        super(Model, self).__init__()\n",
    "        self.token_emb = nn.Embedding(vocab_size, emb_dim)\n",
    "        self.pos_emb = nn.Embedding(length, emb_dim)\n",
    "\n",
    "        self.softmax = SoftmaxLayer(emb_dim)\n",
    "        config = MLPConfig(\n",
    "            emb_dim=emb_dim,\n",
    "            ffn_dim=ffn_dim,\n",
    "            ffn_bias=True,\n",
    "            activation=\"gelu\",\n",
    "        )\n",
    "        self.mlp = TransformerFeedForward(config)\n",
    "\n",
    "        self.output = nn.Linear(emb_dim, vocab_size, bias=False)\n",
    "        self.output.weight = self.token_emb.weight\n",
    "\n",
    "        self.norm1 = RMSNorm()\n",
    "        self.norm2 = RMSNorm()\n",
    "\n",
    "    def forward(self, x, verbose=False):\n",
    "        out = self.token_emb(x) + self.pos_emb.weight\n",
    "        out = self.softmax(self.norm1(out), verbose=verbose)\n",
    "        if verbose:\n",
    "            out, attn = out\n",
    "        out = out + self.mlp(self.norm2(out))\n",
    "        out = self.output(out)\n",
    "        if verbose:\n",
    "            return out, attn\n",
    "        return out"
   ]
  },
  {
   "cell_type": "code",
   "execution_count": 7,
   "metadata": {},
   "outputs": [
    {
     "name": "stdout",
     "output_type": "stream",
     "text": [
      "Number of parameters: 86\n"
     ]
    },
    {
     "data": {
      "text/plain": [
       "Model(\n",
       "  (token_emb): Embedding(2, 2)\n",
       "  (pos_emb): Embedding(12, 2)\n",
       "  (softmax): SoftmaxLayer(\n",
       "    (query): Linear(in_features=2, out_features=1, bias=False)\n",
       "    (value): Linear(in_features=2, out_features=2, bias=False)\n",
       "  )\n",
       "  (mlp): TransformerFeedForward(\n",
       "    (fc1): Linear(in_features=2, out_features=10, bias=True)\n",
       "    (fc2): Linear(in_features=10, out_features=2, bias=True)\n",
       "  )\n",
       "  (output): Linear(in_features=2, out_features=2, bias=False)\n",
       "  (norm1): RMSNorm()\n",
       "  (norm2): RMSNorm()\n",
       ")"
      ]
     },
     "execution_count": 7,
     "metadata": {},
     "output_type": "execute_result"
    }
   ],
   "source": [
    "emb_dim = 2\n",
    "# ffn_dim = 4 * emb_dim\n",
    "ffn_dim = 10\n",
    "vocab_size = 2\n",
    "torch.manual_seed(20)\n",
    "\n",
    "model = Model(emb_dim=emb_dim, vocab_size=vocab_size, ffn_dim=ffn_dim)\n",
    "print(f\"Number of parameters: {sum(p.numel() for p in model.parameters())}\")\n",
    "\n",
    "model.to(device=DEVICE)"
   ]
  },
  {
   "cell_type": "markdown",
   "metadata": {},
   "source": [
    "## Training loop"
   ]
  },
  {
   "cell_type": "code",
   "execution_count": 8,
   "metadata": {},
   "outputs": [
    {
     "name": "stderr",
     "output_type": "stream",
     "text": [
      "100%|██████████| 2000/2000 [00:14<00:00, 133.90it/s, acc=1, loss=0.00355, test_acc=1]      \n"
     ]
    }
   ],
   "source": [
    "niter = 2_000 # 2\n",
    "\n",
    "X = torch.from_numpy(data).to(dtype=torch.long, device=DEVICE)\n",
    "Y = torch.from_numpy(targets).to(dtype=torch.long, device=DEVICE)\n",
    "\n",
    "X_test = torch.from_numpy(test_data).to(dtype=torch.long, device=DEVICE)\n",
    "Y_test = torch.from_numpy(test_targets).to(dtype=torch.long, device=DEVICE)\n",
    "\n",
    "# optimizer\n",
    "lambda_l1 = 1e-4\n",
    "lr = 1e-2 # emb_dim == 2 & ffn_dim == 32 & reg_l1 & model_seed 20\n",
    "optimizer = torch.optim.Adam(model.parameters(), lr=lr) \n",
    "\n",
    "losses = torch.zeros(niter)\n",
    "test_losses = torch.zeros(niter)\n",
    "accs = torch.zeros(niter)\n",
    "test_accs = torch.zeros(niter)\n",
    "\n",
    "weights = [{k: v.cpu().detach() for k, v in model.state_dict().items()}]\n",
    "\n",
    "for i in (bar := tqdm(range(niter))):\n",
    "    optimizer.zero_grad()\n",
    "\n",
    "    # compute loss\n",
    "    score = model(X, verbose=False)\n",
    "    loss = F.cross_entropy(score.view((-1, vocab_size)), Y.view(-1))\n",
    "    reg_loss = lambda_l1 * sum(p.abs().sum() for p in model.parameters())\n",
    "\n",
    "    loss.backward()\n",
    "    reg_loss.backward()\n",
    "    optimizer.step()\n",
    "\n",
    "    # record statistics\n",
    "    with torch.no_grad():\n",
    "        losses[i] = loss.item()\n",
    "        accs[i] = (score.argmax(-1) == Y).float().mean()\n",
    "        score_test = model(X_test)\n",
    "        test_losses[i] = F.cross_entropy(score_test.view((-1, vocab_size)), Y_test.view(-1))\n",
    "        test_accs[i] = (score_test.argmax(-1) == Y_test).float().mean()\n",
    "        weights.append({k: v.cpu().detach() for k, v in model.state_dict().items()})\n",
    "    \n",
    "    bar.set_postfix(loss=losses[i].item(), acc=accs[i].item(), test_acc=test_accs[i].item())"
   ]
  },
  {
   "cell_type": "code",
   "execution_count": 9,
   "metadata": {},
   "outputs": [],
   "source": [
    "pickle.dump(weights, open(SAVE_DIR / \"weights.pkl\", \"wb\"))"
   ]
  },
  {
   "cell_type": "markdown",
   "metadata": {},
   "source": [
    "## Accuracy"
   ]
  },
  {
   "cell_type": "code",
   "execution_count": 10,
   "metadata": {},
   "outputs": [
    {
     "data": {
      "image/png": "[encoded data removed]",
      "text/plain": [
       "<Figure size 1200x400 with 2 Axes>"
      ]
     },
     "metadata": {},
     "output_type": "display_data"
    }
   ],
   "source": [
    "fig, axes = plt.subplots(1, 2, figsize=(12, 4))\n",
    "axes[0].plot(losses, label=\"train\")\n",
    "axes[0].plot(test_losses, label=\"test\")\n",
    "axes[0].set_title(\"Loss\")\n",
    "axes[0].legend()\n",
    "axes[1].plot(accs, label=\"train\")\n",
    "axes[1].plot(test_accs, label=\"test\")\n",
    "axes[1].set_title(\"Accuracy\")\n",
    "axes[1].legend()\n",
    "axes[1].grid()"
   ]
  },
  {
   "cell_type": "markdown",
   "metadata": {},
   "source": [
    "## Visualization of the dynamics"
   ]
  },
  {
   "cell_type": "code",
   "execution_count": 11,
   "metadata": {},
   "outputs": [],
   "source": [
    "DEVICE = 'cpu'\n",
    "weights = pickle.load(open(SAVE_DIR / \"weights.pkl\", \"rb\"))"
   ]
  },
  {
   "cell_type": "code",
   "execution_count": 12,
   "metadata": {},
   "outputs": [
    {
     "name": "stderr",
     "output_type": "stream",
     "text": [
      "/private/home/vivc/miniconda/envs/dev/lib/python3.11/site-packages/torch/functional.py:504: UserWarning: torch.meshgrid: in an upcoming release, it will be required to pass the indexing argument. (Triggered internally at ../aten/src/ATen/native/TensorShape.cpp:3526.)\n",
      "  return _VF.meshgrid(tensors, **kwargs)  # type: ignore[attr-defined]\n"
     ]
    }
   ],
   "source": [
    "# data\n",
    "prefix = [\n",
    "    [0, 0, 0, 0, 0],\n",
    "    [0, 0, 0, 0, 1],\n",
    "    [0, 0, 1, 0, 0],\n",
    "    [0, 0, 0, 1, 1],\n",
    "    [0, 1, 1, 0, 0],\n",
    "    [0, 0, 1, 1, 1],\n",
    "    [0, 1, 1, 0, 1],\n",
    "    [0, 1, 1, 1, 1],\n",
    "    [1, 1, 0, 1, 1],\n",
    "    [1, 1, 1, 1, 1],\n",
    "]\n",
    "suffixes = [\n",
    "    [0, 0, 0, 0, 0, 0, 0],\n",
    "    [1, 1, 1, 1, 1, 1, 1],\n",
    "    [1, 0, 0, 1, 0, 0, 1],\n",
    "    [0, 1, 1, 0, 0, 1, 0],\n",
    "]\n",
    "inputs = torch.tensor([\n",
    "    pre + suf for pre in prefix for suf in suffixes\n",
    "], device=DEVICE)\n",
    "\n",
    "tmpx = torch.linspace(-1, 1, 50)\n",
    "tmpy = torch.linspace(-.5, .5, 50)\n",
    "X, Y = torch.meshgrid(tmpx, tmpy)\n",
    "grid = torch.stack([X, Y], dim=-1).reshape(-1, 2).to(DEVICE)\n",
    "\n",
    "# modules\n",
    "model.to(DEVICE)\n",
    "norm = RMSNorm()"
   ]
  },
  {
   "cell_type": "code",
   "execution_count": 13,
   "metadata": {},
   "outputs": [],
   "source": [
    "WIDTH = 15\n",
    "HEIGHT = 15\n",
    "\n",
    "fig, axes = plt.subplots(3, 3, figsize=(WIDTH, HEIGHT))\n",
    "\n",
    "text_fontsize=8\n",
    "title_fontsize=12\n",
    "\n",
    "def update(frame):\n",
    "    for i in range(3):\n",
    "        for j in range(3):\n",
    "            axes[i, j].clear()\n",
    "\n",
    "    token_emb = weights[frame]['token_emb.weight']\n",
    "    pos_emb = weights[frame]['pos_emb.weight']\n",
    "    emb = (token_emb.unsqueeze(1) + pos_emb).reshape(-1, 2)\n",
    "    norm_emb = norm(emb)\n",
    "\n",
    "    query = weights[frame]['softmax.query.weight']\n",
    "    value = weights[frame]['softmax.value.weight']\n",
    "    emb_val = norm_emb @ value.T\n",
    "\n",
    "    model.load_state_dict(weights[frame])\n",
    "    with torch.no_grad():\n",
    "        seq_emb = model.softmax(model.norm1(model.token_emb(inputs) + model.pos_emb.weight))\n",
    "        seq_mlp = seq_emb + model.mlp(model.norm2(seq_emb))\n",
    "        outputs = F.softmax(model.output(grid + model.mlp(norm(grid))), dim=-1)[:, 1]\n",
    "        seq_prob = F.softmax(model.output(seq_mlp), dim=-1)\n",
    "\n",
    "    axes[0, 0].scatter(token_emb[:, 0], token_emb[:, 1], c=np.arange(token_emb.shape[0]), cmap='tab20', s=100)\n",
    "    for i, (x, y) in enumerate(token_emb):\n",
    "        axes[0, 0].text(x, y, i, fontsize=text_fontsize)\n",
    "    axes[0, 0].set_title(\"Token Embeddings\", fontsize=title_fontsize)\n",
    "\n",
    "    axes[0, 1].scatter(pos_emb[:, 0], pos_emb[:, 1], c=np.arange(pos_emb.shape[0]), cmap='tab20', s=100)\n",
    "    for i, (x, y) in enumerate(pos_emb):\n",
    "        axes[0, 1].text(x, y, i, fontsize=text_fontsize)\n",
    "    axes[0, 1].set_title(\"Position Embeddings\", fontsize=title_fontsize)\n",
    "\n",
    "    axes[0, 2].scatter(emb[:, 0], emb[:, 1], c=np.arange(emb.shape[0]), cmap='tab20', s=100)\n",
    "    for i, (x, y) in enumerate(emb):\n",
    "        axes[0, 2].text(x, y, (i // 12, i % 12), fontsize=text_fontsize)\n",
    "    axes[0, 2].set_title(\"Embeddings\", fontsize=title_fontsize)\n",
    "\n",
    "    axes[1, 0].scatter(norm_emb[:, 0], norm_emb[:, 1], c=np.arange(norm_emb.shape[0]), cmap='tab20', s=100)\n",
    "    for i, (x, y) in enumerate(norm_emb):\n",
    "        axes[1, 0].text(x, y, (i // 12, i % 12), fontsize=text_fontsize)\n",
    "    axes[1, 0].arrow(0, 0, query[0, 0], query[0, 1], head_width=0.1, head_length=0.1, fc='r', ec='r')\n",
    "    axes[1, 0].text(0, 0, \"query\", fontsize=text_fontsize + 2, color='r')\n",
    "    axes[1, 0].set_title(\"Normed Embeddings\", fontsize=title_fontsize)\n",
    "\n",
    "    axes[1, 1].scatter(emb_val[:, 0], emb_val[:, 1], c=np.arange(emb_val.shape[0]), cmap='tab20', s=100)\n",
    "    for i, (x, y) in enumerate(emb_val):\n",
    "        axes[1, 1].text(x, y, (i // 12, i % 12), fontsize=text_fontsize)\n",
    "    axes[1, 1].set_title(\"Value\", fontsize=title_fontsize)\n",
    "\n",
    "    axes[1, 2].scatter(seq_emb[:, 0], seq_emb[:, 1], c=np.arange(seq_emb.shape[0]), cmap='tab20b', s=100)\n",
    "    for i, (x, y) in enumerate(seq_emb):\n",
    "        t = axes[1, 2].text(x, y, inputs[i].numpy().tolist(), fontsize=text_fontsize)\n",
    "        t.set_alpha(0.3)\n",
    "    axes[1, 2].set_title(\"Sequence Embeddings\", fontsize=title_fontsize)\n",
    "\n",
    "    axes[2, 0].scatter(seq_mlp[:, 0], seq_mlp[:, 1], c=np.arange(seq_mlp.shape[0]), cmap='tab20b', s=100)\n",
    "    for i, (x, y) in enumerate(seq_mlp):\n",
    "        t = axes[2, 0].text(x, y, inputs[i].numpy().tolist(), fontsize=text_fontsize)\n",
    "        t.set_alpha(0.3)\n",
    "    axes[2, 0].set_title(\"MLP transform\", fontsize=title_fontsize)\n",
    "\n",
    "    axes[2, 1].contourf(X, Y, outputs.reshape(50, 50), cmap='coolwarm', vmin=0, vmax=1)\n",
    "    axes[2, 1].scatter(seq_mlp[:, 0], seq_mlp[:, 1], c=np.arange(seq_mlp.shape[0]), cmap='tab20b', s=100)\n",
    "    for i, (x, y) in enumerate(seq_mlp):\n",
    "        t = axes[2, 1].text(x, y, inputs[i].numpy().tolist(), fontsize=text_fontsize)\n",
    "        t.set_alpha(0.3)\n",
    "    axes[2, 1].set_title(\"MLP level lines\", fontsize=title_fontsize)\n",
    "\n",
    "    axes[2, 2].scatter(seq_prob[:, 0], seq_prob[:, 1], c=np.arange(seq_prob.shape[0]), cmap='tab20b', s=100)\n",
    "    for i, (x, y) in enumerate(seq_prob):\n",
    "        t = axes[2, 2].text(x, y, inputs[i].numpy().tolist(), fontsize=text_fontsize)\n",
    "        t.set_alpha(0.3)\n",
    "    axes[2, 2].set_title(\"Output\", fontsize=title_fontsize)\n",
    "\n",
    "length = 2000\n",
    "block_length = length // 20\n",
    "for i in range(20):\n",
    "    ani = animation.FuncAnimation(fig, update, frames=range(i * block_length, (i+1) * block_length), repeat=False)\n",
    "    ani.save(SAVE_DIR / f\"full_{i}.mp4\", writer=\"ffmpeg\", fps=20)"
   ]
  },
  {
   "cell_type": "code",
   "execution_count": null,
   "metadata": {},
   "outputs": [],
   "source": []
  }
 ],
 "metadata": {
  "kernelspec": {
   "display_name": "dev",
   "language": "python",
   "name": "python3"
  },
  "language_info": {
   "codemirror_mode": {
    "name": "ipython",
    "version": 3
   },
   "file_extension": ".py",
   "mimetype": "text/x-python",
   "name": "python",
   "nbconvert_exporter": "python",
   "pygments_lexer": "ipython3",
   "version": "3.11.5"
  }
 },
 "nbformat": 4,
 "nbformat_minor": 2
}
