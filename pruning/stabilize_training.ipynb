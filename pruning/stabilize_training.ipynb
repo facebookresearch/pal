{
 "cells": [
  {
   "cell_type": "code",
   "execution_count": 1,
   "metadata": {},
   "outputs": [],
   "source": [
    "%load_ext autoreload\n",
    "%autoreload 2"
   ]
  },
  {
   "cell_type": "code",
   "execution_count": 2,
   "metadata": {},
   "outputs": [],
   "source": [
    "import copy\n",
    "import pickle\n",
    "import subprocess\n",
    "import sys\n",
    "from pathlib import Path\n",
    "\n",
    "import matplotlib.animation as animation\n",
    "import matplotlib.pyplot as plt\n",
    "import moviepy.editor as mpy\n",
    "import numpy as np\n",
    "import torch\n",
    "import torch.nn.functional as F\n",
    "from matplotlib import rc\n",
    "from sklearn.decomposition import PCA\n",
    "from sklearn.manifold import TSNE\n",
    "from tqdm import tqdm\n",
    "\n",
    "from factorization.models.softmax_model import Model, RMSNorm\n",
    "\n",
    "sys.path.append(str(Path(\"..\").resolve()))\n",
    "\n",
    "SAVE_DIR = Path(\"..\").resolve() / \"results\"\n",
    "DEVICE = torch.cuda.current_device() if torch.cuda.is_available() else torch.device(\"cpu\")\n",
    "SEED = 200\n",
    "if SEED:\n",
    "    RNG = np.random.default_rng(SEED)\n",
    "    np.random.seed(seed=SEED)\n",
    "    torch.manual_seed(seed=SEED)\n",
    "\n",
    "rc(\"font\", family=\"serif\", size=8)\n",
    "usetex = not subprocess.run([\"which\", \"pdflatex\"]).returncode\n",
    "usetex = False\n",
    "rc(\"text\", usetex=usetex)\n",
    "if usetex:\n",
    "    rc(\"text.latex\", preamble=r\"\\usepackage{times}\")"
   ]
  },
  {
   "cell_type": "code",
   "execution_count": null,
   "metadata": {},
   "outputs": [],
   "source": []
  }
 ],
 "metadata": {
  "kernelspec": {
   "display_name": "pruning",
   "language": "python",
   "name": "python3"
  },
  "language_info": {
   "codemirror_mode": {
    "name": "ipython",
    "version": 3
   },
   "file_extension": ".py",
   "mimetype": "text/x-python",
   "name": "python",
   "nbconvert_exporter": "python",
   "pygments_lexer": "ipython3",
   "version": "3.12.5"
  }
 },
 "nbformat": 4,
 "nbformat_minor": 2
}
