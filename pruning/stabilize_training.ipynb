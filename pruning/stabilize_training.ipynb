{
 "cells": [
  {
   "cell_type": "code",
   "execution_count": 86,
   "metadata": {},
   "outputs": [
    {
     "name": "stdout",
     "output_type": "stream",
     "text": [
      "The autoreload extension is already loaded. To reload it, use:\n",
      "  %reload_ext autoreload\n"
     ]
    }
   ],
   "source": [
    "%load_ext autoreload\n",
    "%autoreload 2"
   ]
  },
  {
   "cell_type": "code",
   "execution_count": 91,
   "metadata": {},
   "outputs": [
    {
     "name": "stdout",
     "output_type": "stream",
     "text": [
      "/usr/local/texlive/2024/bin/x86_64-linux/pdflatex\n"
     ]
    }
   ],
   "source": [
    "import copy\n",
    "import pickle\n",
    "import subprocess\n",
    "import sys\n",
    "from pathlib import Path\n",
    "\n",
    "import matplotlib.pyplot as plt\n",
    "import numpy as np\n",
    "import torch\n",
    "import torch.nn.functional as F\n",
    "from matplotlib import rc\n",
    "from tqdm import tqdm\n",
    "\n",
    "from factorization.models.softmax_model import Model, ModelConfig\n",
    "\n",
    "sys.path.append(str(Path(\"..\").resolve()))\n",
    "\n",
    "SAVE_DIR = Path(\"..\").resolve() / \"results\"\n",
    "DEVICE = torch.cuda.current_device() if torch.cuda.is_available() else torch.device(\"cpu\")\n",
    "SEED = 200\n",
    "if SEED:\n",
    "    RNG = np.random.default_rng(SEED)\n",
    "    np.random.seed(seed=SEED)\n",
    "    torch.manual_seed(seed=SEED)\n",
    "\n",
    "rc(\"font\", family=\"serif\", size=8)\n",
    "usetex = not subprocess.run([\"which\", \"pdflatex\"]).returncode\n",
    "usetex = False\n",
    "rc(\"text\", usetex=usetex)\n",
    "if usetex:\n",
    "    rc(\"text.latex\", preamble=r\"\\usepackage{times}\")"
   ]
  },
  {
   "cell_type": "markdown",
   "metadata": {},
   "source": [
    "Utils functions"
   ]
  },
  {
   "cell_type": "code",
   "execution_count": 92,
   "metadata": {},
   "outputs": [],
   "source": [
    "import math\n",
    "import mup\n",
    "import os\n",
    "from mup import set_base_shapes\n",
    "\n",
    "\n",
    "def mup_init(layer):\n",
    "    mup.init.kaiming_uniform_(layer.weight, a=math.sqrt(5))\n",
    "    if layer.bias is not None:\n",
    "        fan_in, _ = mup.init._calculate_fan_in_and_fan_out(layer.weight)\n",
    "        bound = 1 / math.sqrt(fan_in) if fan_in > 0 else 0\n",
    "        mup.init.uniform_(layer.bias, -bound, bound)\n",
    "\n",
    "\n",
    "def mup_init_mlp(model):\n",
    "    mup_init(model.mlp.fc1)\n",
    "    mup_init(model.mlp.fc2)\n",
    "\n",
    "\n",
    "def apply_seed(seed: int):\n",
    "    RNG = np.random.default_rng(seed)\n",
    "    np.random.seed(seed=seed)\n",
    "    torch.manual_seed(seed=seed)\n",
    "\n",
    "    return RNG\n",
    "\n",
    "\n",
    "def copy_weights(model):\n",
    "    if model.output.weight.device == torch.device(\"cpu\"):\n",
    "        return {k: copy.deepcopy(v) for k, v in model.state_dict().items()}\n",
    "    else:\n",
    "        return {k: v.cpu().detach() for k, v in model.state_dict().items()}\n",
    "\n",
    "\n",
    "def get_data(vocab_size=2, bsz=2048, test_bsz=128, seq_length=12, sparsity_index=5, verbose=True):\n",
    "    # modular addition problem on some subset of the input only\n",
    "    data = np.random.rand(bsz, seq_length) // (1 / vocab_size)\n",
    "    targets = data[:, :sparsity_index].sum(axis=1) % vocab_size\n",
    "\n",
    "    test_data = np.random.rand(test_bsz, seq_length) // (1 / vocab_size)\n",
    "    test_targets = test_data[:, :sparsity_index].sum(axis=1) % vocab_size\n",
    "\n",
    "    if verbose:\n",
    "        print(f\"Total number of unique sequences {vocab_size ** seq_length}\")\n",
    "    return data, targets, test_data, test_targets\n",
    "\n",
    "\n",
    "def _mup_init(layer):\n",
    "    mup.init.kaiming_uniform_(layer.weight, a=math.sqrt(5))\n",
    "    if layer.bias is not None:\n",
    "        fan_in, _ = mup.init._calculate_fan_in_and_fan_out(layer.weight)\n",
    "        bound = 1 / math.sqrt(fan_in) if fan_in > 0 else 0\n",
    "        mup.init.uniform_(layer.bias, -bound, bound)\n",
    "\n",
    "\n",
    "def mup_init_mlp(model):\n",
    "    _mup_init(model.mlp.fc1)\n",
    "    _mup_init(model.mlp.fc2)\n",
    "\n",
    "\n",
    "def get_model(emb_dim=2, ffn_dim=10, vocab_size=2, seq_length=12, mup_init=False, verbose=True):\n",
    "    config = ModelConfig(\n",
    "        vocab_size=vocab_size,\n",
    "        seq_length=seq_length,\n",
    "        emb_dim=emb_dim,\n",
    "        ffn_dim=ffn_dim,\n",
    "    )\n",
    "    model = Model(config=config)\n",
    "    if verbose:\n",
    "        print(f\"Number of parameters: {sum(p.numel() for p in model.parameters())}\")\n",
    "\n",
    "    if mup_init:\n",
    "        # mup initialization\n",
    "        set_base_shapes(model=model, base=None)\n",
    "        mup_init_mlp(model)\n",
    "\n",
    "    # On device\n",
    "    model.to(device=DEVICE)\n",
    "\n",
    "    return model\n",
    "\n",
    "\n",
    "def train(data, targets, test_data, test_targets, model, niter=4000, vocab_size=2, path=None):\n",
    "\n",
    "    X = torch.from_numpy(data).to(dtype=torch.long, device=DEVICE)\n",
    "    Y = torch.from_numpy(targets).to(dtype=torch.long, device=DEVICE)\n",
    "\n",
    "    X_test = torch.from_numpy(test_data).to(dtype=torch.long, device=DEVICE)\n",
    "    Y_test = torch.from_numpy(test_targets).to(dtype=torch.long, device=DEVICE)\n",
    "\n",
    "    # optimizer\n",
    "    lambda_l1 = 1e-4\n",
    "    lr = 1e-2  # emb_dim == 2 & ffn_dim == 32 & reg_l1 & model_seed 20\n",
    "    optimizer = torch.optim.Adam(model.parameters(), lr=lr)\n",
    "\n",
    "    losses = torch.zeros(niter)\n",
    "    test_losses = torch.zeros(niter)\n",
    "    accs = torch.zeros(niter)\n",
    "    test_accs = torch.zeros(niter)\n",
    "\n",
    "    weights = [copy_weights(model)]\n",
    "\n",
    "    for i in (bar := tqdm(range(niter))):\n",
    "        optimizer.zero_grad()\n",
    "\n",
    "        # compute loss\n",
    "        score = model(X, verbose=False)\n",
    "        loss = F.cross_entropy(score.view((-1, vocab_size)), Y.view(-1))\n",
    "        reg_loss = lambda_l1 * sum(p.abs().sum() for p in model.parameters())\n",
    "\n",
    "        loss.backward()\n",
    "        reg_loss.backward()\n",
    "        optimizer.step()\n",
    "\n",
    "        # record statistics\n",
    "        with torch.no_grad():\n",
    "            losses[i] = loss.item()\n",
    "            accs[i] = (score.argmax(-1) == Y).float().mean()\n",
    "            score_test = model(X_test)\n",
    "            test_losses[i] = F.cross_entropy(score_test.view((-1, vocab_size)), Y_test.view(-1))\n",
    "            test_accs[i] = (score_test.argmax(-1) == Y_test).float().mean()\n",
    "            weights.append(copy_weights(model))\n",
    "\n",
    "        bar.set_postfix(loss=losses[i].item(), acc=accs[i].item(), test_acc=test_accs[i].item())\n",
    "\n",
    "    if path is not None:\n",
    "        path = os.path.join(SAVE_DIR, path)\n",
    "        path = Path(path)\n",
    "        path.mkdir(parents=True, exist_ok=True)\n",
    "        pickle.dump(weights, open(path / \"weights.pkl\", \"wb\"))\n",
    "        pickle.dump(losses, open(path / \"losses.pkl\", \"wb\"))\n",
    "        pickle.dump(test_losses, open(path / \"test_losses.pkl\", \"wb\"))\n",
    "        pickle.dump(accs, open(path / \"accs.pkl\", \"wb\"))\n",
    "        pickle.dump(test_accs, open(path / \"test_accs.pkl\", \"wb\"))"
   ]
  },
  {
   "cell_type": "code",
   "execution_count": 94,
   "metadata": {},
   "outputs": [
    {
     "name": "stdout",
     "output_type": "stream",
     "text": [
      "Total number of unique sequences 4096\n"
     ]
    }
   ],
   "source": [
    "# Seed for data\n",
    "np.random.seed(seed=42)\n",
    "\n",
    "# Params\n",
    "vocab_size = 2\n",
    "seq_length = 12\n",
    "sparsity_index = 5\n",
    "bsz = 2048\n",
    "test_bsz = 128\n",
    "emb_dim = 2\n",
    "ffn_dim = 10\n",
    "\n",
    "# Data\n",
    "data, targets, test_data, test_targets = get_data(\n",
    "    vocab_size=vocab_size,\n",
    "    seq_length=seq_length,\n",
    "    sparsity_index=sparsity_index,\n",
    "    bsz=bsz,\n",
    "    test_bsz=test_bsz,\n",
    ")"
   ]
  },
  {
   "cell_type": "code",
   "execution_count": 96,
   "metadata": {},
   "outputs": [
    {
     "name": "stdout",
     "output_type": "stream",
     "text": [
      "Number of parameters: 74\n"
     ]
    },
    {
     "name": "stderr",
     "output_type": "stream",
     "text": [
      "100%|██████████| 4000/4000 [01:06<00:00, 60.40it/s, acc=0.536, loss=0.688, test_acc=0.602]\n"
     ]
    },
    {
     "name": "stdout",
     "output_type": "stream",
     "text": [
      "Number of parameters: 74\n"
     ]
    },
    {
     "name": "stderr",
     "output_type": "stream",
     "text": [
      "100%|██████████| 4000/4000 [01:12<00:00, 55.00it/s, acc=0.548, loss=0.686, test_acc=0.539]\n"
     ]
    },
    {
     "name": "stdout",
     "output_type": "stream",
     "text": [
      "Number of parameters: 74\n"
     ]
    },
    {
     "name": "stderr",
     "output_type": "stream",
     "text": [
      "100%|██████████| 4000/4000 [01:11<00:00, 56.00it/s, acc=0.893, loss=0.397, test_acc=0.93] \n"
     ]
    },
    {
     "name": "stdout",
     "output_type": "stream",
     "text": [
      "Number of parameters: 74\n"
     ]
    },
    {
     "name": "stderr",
     "output_type": "stream",
     "text": [
      "100%|██████████| 4000/4000 [01:08<00:00, 58.02it/s, acc=0.952, loss=0.134, test_acc=0.953]\n"
     ]
    }
   ],
   "source": [
    "# Experiments\n",
    "seed_list = [0, 1]  # , 42, 100, 1000]\n",
    "niter = 4000\n",
    "\n",
    "for mup_init in [False, True]:\n",
    "    for seed in seed_list:\n",
    "        apply_seed(seed=seed)\n",
    "\n",
    "        path = f\"exp_{seed}_mup_init_{mup_init}\"\n",
    "        path = os.path.join(SAVE_DIR, path)\n",
    "        path = Path(path)\n",
    "\n",
    "        # Model\n",
    "        model = get_model(\n",
    "            emb_dim=emb_dim,\n",
    "            ffn_dim=ffn_dim,\n",
    "            vocab_size=vocab_size,\n",
    "            seq_length=seq_length,\n",
    "            mup_init=mup_init,\n",
    "        )\n",
    "\n",
    "        # Training\n",
    "        train(\n",
    "            model=model,\n",
    "            data=data,\n",
    "            targets=targets,\n",
    "            test_data=test_data,\n",
    "            test_targets=test_targets,\n",
    "            niter=niter,\n",
    "            path=path,\n",
    "        )"
   ]
  },
  {
   "cell_type": "code",
   "execution_count": 102,
   "metadata": {},
   "outputs": [
    {
     "data": {
      "image/png": "[encoded data removed]",
      "text/plain": [
       "<Figure size 1200x400 with 2 Axes>"
      ]
     },
     "metadata": {},
     "output_type": "display_data"
    }
   ],
   "source": [
    "for seed in seed_list:\n",
    "    for mup_init in [False, True]:\n",
    "        path = f\"exp_{seed}_mup_init_{mup_init}\"\n",
    "        path = os.path.join(SAVE_DIR, path)\n",
    "        path = Path(path)\n",
    "\n",
    "        weights = pickle.load(open(path / \"weights.pkl\", \"rb\"))\n",
    "        losses = pickle.load(open(path / \"losses.pkl\", \"rb\"))\n",
    "        test_losses = pickle.load(open(path / \"test_losses.pkl\", \"rb\"))\n",
    "        accs = pickle.load(open(path / \"accs.pkl\", \"rb\"))\n",
    "        test_accs = pickle.load(open(path / \"test_accs.pkl\", \"rb\"))\n",
    "\n",
    "        fig, axes = plt.subplots(1, 2, figsize=(12, 4))\n",
    "        axes[0].plot(losses, label=\"train\")\n",
    "        axes[0].plot(test_losses, label=\"test\")\n",
    "        axes[0].set_title(\"Loss - Exp_mup_init={mup_init}_SEED={seed}\")\n",
    "        axes[0].legend()\n",
    "        axes[1].plot(accs, label=\"train\")\n",
    "        axes[1].plot(test_accs, label=\"test\")\n",
    "        axes[1].set_title(\"Accuracy\")\n",
    "        axes[1].legend()\n",
    "        axes[1].grid()\n",
    "        plt.title(f\"Acc - Exp_mup_init={mup_init}_SEED={seed}\")\n",
    "        plt.show()"
   ]
  }
 ],
 "metadata": {
  "kernelspec": {
   "display_name": "pruning",
   "language": "python",
   "name": "python3"
  },
  "language_info": {
   "codemirror_mode": {
    "name": "ipython",
    "version": 3
   },
   "file_extension": ".py",
   "mimetype": "text/x-python",
   "name": "python",
   "nbconvert_exporter": "python",
   "pygments_lexer": "ipython3",
   "version": "3.12.5"
  }
 },
 "nbformat": 4,
 "nbformat_minor": 2
}
