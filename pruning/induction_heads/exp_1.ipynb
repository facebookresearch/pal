{
 "cells": [
  {
   "cell_type": "markdown",
   "metadata": {},
   "source": [
    "## Evolution of the circuit along the time"
   ]
  },
  {
   "cell_type": "code",
   "execution_count": 1,
   "metadata": {},
   "outputs": [],
   "source": [
    "%load_ext autoreload\n",
    "%autoreload 2"
   ]
  },
  {
   "cell_type": "code",
   "execution_count": 2,
   "metadata": {},
   "outputs": [
    {
     "name": "stdout",
     "output_type": "stream",
     "text": [
      "/home/vivc/.local/share/texlive/2022/bin/x86_64-linux/pdflatex\n"
     ]
    }
   ],
   "source": [
    "import subprocess\n",
    "import sys\n",
    "from pathlib import Path\n",
    "\n",
    "import matplotlib.animation as animation\n",
    "import matplotlib.pyplot as plt\n",
    "import numpy as np\n",
    "import networkx as nx\n",
    "from matplotlib import rc\n",
    "\n",
    "import torch\n",
    "\n",
    "sys.path.append(str(Path(\"..\").resolve()))\n",
    "\n",
    "from data import generate_data\n",
    "from models.transformer import Transformer, TransformerConfig\n",
    "from visualization.graph import build_graph\n",
    "\n",
    "seed = 42\n",
    "np.random.seed(seed)\n",
    "torch.manual_seed(seed)\n",
    "\n",
    "plt.rc(\"font\", family=\"serif\", size=8)\n",
    "\n",
    "WIDTH = 8.5  # inches (from ICML style file)\n",
    "HEIGHT = 8.5 / 1.5  # golden ratio\n",
    "\n",
    "rc(\"font\", family=\"serif\", size=8)\n",
    "usetex = not subprocess.run([\"which\", \"pdflatex\"]).returncode\n",
    "rc(\"text\", usetex=usetex)\n",
    "if usetex:\n",
    "    rc(\"text.latex\", preamble=r\"\\usepackage{times}\")"
   ]
  },
  {
   "cell_type": "code",
   "execution_count": 7,
   "metadata": {},
   "outputs": [],
   "source": [
    "save_dir = Path(\"..\").resolve() / \"results\"\n",
    "\n",
    "# Generate data\n",
    "vocab_size = 10\n",
    "bsz = 32\n",
    "length = 128\n",
    "data = generate_data(vocab_size, bsz, length)\n",
    "\n",
    "# Load model\n",
    "config = TransformerConfig(\n",
    "    vocab_size=vocab_size,\n",
    "    emb_dim=512,\n",
    "    seq_len=length,\n",
    "    n_head=1,\n",
    "    n_layer=2,\n",
    ")\n",
    "model = Transformer(config)\n",
    "checkpoint = torch.load(save_dir / \"Adam.pt\", map_location=torch.device(\"cpu\"))\n",
    "model.load_state_dict(checkpoint)\n",
    "\n",
    "# Recover attention matrices\n",
    "with torch.no_grad():\n",
    "    _, attns = model(data.to(torch.long), verbose=True)\n",
    "    attns = attns.detach().cpu().numpy()\n",
    "    data = data.numpy()"
   ]
  },
  {
   "cell_type": "code",
   "execution_count": 8,
   "metadata": {},
   "outputs": [],
   "source": [
    "N = 10\n",
    "attns1 = attns[0, :, 0, :N, :N]\n",
    "attns2 = attns[1, :, 0, N - 1, :N]"
   ]
  },
  {
   "cell_type": "code",
   "execution_count": 9,
   "metadata": {},
   "outputs": [],
   "source": [
    "# Create matrix with one on the subdiagonal\n",
    "A = np.diagflat(np.ones(N - 1), k=-1)\n",
    "attns1 = np.tile(A, (100, 1, 1))"
   ]
  },
  {
   "cell_type": "markdown",
   "metadata": {},
   "source": [
    "Graph visualization"
   ]
  },
  {
   "cell_type": "code",
   "execution_count": 10,
   "metadata": {},
   "outputs": [
    {
     "data": {
      "image/png": "[encoded data removed]",
      "text/plain": [
       "<Figure size 850x566.667 with 1 Axes>"
      ]
     },
     "metadata": {},
     "output_type": "display_data"
    }
   ],
   "source": [
    "fig, ax = plt.subplots(figsize=(WIDTH, HEIGHT))\n",
    "G, pos = build_graph(N)\n",
    "magnifier = 5\n",
    "weights = 0\n",
    "\n",
    "data = data[:, :N]\n",
    "current = data[:, -1]\n",
    "ind = data == current[:, np.newaxis]\n",
    "\n",
    "\n",
    "def update(frame):\n",
    "    global weights\n",
    "\n",
    "    # update variables\n",
    "    ax.clear()\n",
    "    old_weights = weights\n",
    "    layer1 = attns1[frame]\n",
    "    layer2 = attns2[frame]\n",
    "    weights = np.hstack((layer1.T.flatten(), layer2))\n",
    "\n",
    "    # color edges according to updates\n",
    "    diff = weights - old_weights\n",
    "    colors = [\"green\" if d > 0 else \"red\" for d in diff]\n",
    "\n",
    "    # color similar nodes\n",
    "    node_colors = [\"lightgreen\" if x else \"lightcoral\" for x in ind[frame]] + [\n",
    "        \"lightblue\",\n",
    "    ] * (N + 1)\n",
    "    labels = (\n",
    "        {f\"0{i}\": int(data[frame, i]) for i in range(N)}\n",
    "        | {f\"1{i}\": \"\" for i in range(N)}\n",
    "        | {\"2\": \"\"}\n",
    "    )\n",
    "\n",
    "    # draw the updated graph\n",
    "    nx.draw(\n",
    "        G,\n",
    "        pos,\n",
    "        width=magnifier * weights,\n",
    "        with_labels=True,\n",
    "        labels=labels,\n",
    "        edge_color=colors,\n",
    "        node_size=500,\n",
    "        node_color=node_colors,\n",
    "        ax=ax,\n",
    "    )\n",
    "    ax.set_title(f\"Iteration {frame+1}\", fontweight=\"bold\")\n",
    "    return\n",
    "\n",
    "\n",
    "length = 10\n",
    "ani = animation.FuncAnimation(fig, update, frames=length, repeat=False)\n",
    "# ani.save(\"test.gif\", writer=\"imagemagick\", fps=5)\n",
    "# ani.save(\"test.mp4\", writer=\"ffmpeg\", fps=1)"
   ]
  }
 ],
 "metadata": {
  "kernelspec": {
   "display_name": "dev",
   "language": "python",
   "name": "python3"
  },
  "language_info": {
   "codemirror_mode": {
    "name": "ipython",
    "version": 3
   },
   "file_extension": ".py",
   "mimetype": "text/x-python",
   "name": "python",
   "nbconvert_exporter": "python",
   "pygments_lexer": "ipython3",
   "version": "3.10.13"
  }
 },
 "nbformat": 4,
 "nbformat_minor": 2
}
