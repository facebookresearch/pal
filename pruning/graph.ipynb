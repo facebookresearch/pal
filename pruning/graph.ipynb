{
 "cells": [
  {
   "cell_type": "markdown",
   "metadata": {},
   "source": [
    "# Scratchpad to study the factorization problem"
   ]
  },
  {
   "cell_type": "code",
   "execution_count": 1,
   "metadata": {},
   "outputs": [],
   "source": [
    "%load_ext autoreload\n",
    "%autoreload 2"
   ]
  },
  {
   "cell_type": "code",
   "execution_count": 2,
   "metadata": {},
   "outputs": [],
   "source": [
    "import math\n",
    "import pickle\n",
    "import subprocess\n",
    "import sys\n",
    "from dataclasses import dataclass\n",
    "from pathlib import Path\n",
    "from tqdm import tqdm\n",
    "\n",
    "sys.path.append(str(Path(\"..\").resolve()))\n",
    "save_dir = Path(\".\").resolve() / \"results\"\n",
    "\n",
    "import matplotlib.animation as animation\n",
    "import matplotlib.pyplot as plt\n",
    "import networkx as nx\n",
    "import numpy as np\n",
    "import seaborn as sns\n",
    "\n",
    "from matplotlib import rc\n",
    "from sklearn.decomposition import PCA\n",
    "from sklearn.manifold import TSNE\n",
    "\n",
    "import torch\n",
    "import torch.nn as nn\n",
    "import torch.nn.functional as F\n",
    "\n",
    "from models.mlp import TransformerFeedForward\n",
    "from models.normalization import RMSNorm\n",
    "from visualization.graph import build_1L_graph, build_1L_graph_tokens\n",
    "\n",
    "DEVICE = torch.device(\"cuda:0\")\n",
    "SEED = None\n",
    "SEED = 1\n",
    "if SEED:\n",
    "    RNG = np.random.default_rng(SEED)\n",
    "    np.random.seed(seed=SEED)\n",
    "    torch.manual_seed(seed=SEED)"
   ]
  },
  {
   "cell_type": "markdown",
   "metadata": {},
   "source": [
    "Data Generation"
   ]
  },
  {
   "cell_type": "code",
   "execution_count": 3,
   "metadata": {},
   "outputs": [],
   "source": [
    "vocab_size = 2\n",
    "vocab_size = 3\n",
    "bsz = 2048\n",
    "length = 8\n",
    "sparsity_index = 5\n",
    "\n",
    "# we create a modular addition problem on some subset of the input only\n",
    "data = np.random.rand(bsz, length) // (1 / vocab_size)\n",
    "targets = data[:, :sparsity_index].sum(axis=1) % vocab_size\n",
    "# data = data.repeat(2, axis=1)\n",
    "\n",
    "test_bsz = 128\n",
    "test_data = np.random.rand(test_bsz, length) // (1 / vocab_size)\n",
    "test_targets = test_data[:, :sparsity_index].sum(axis=1) % vocab_size\n",
    "# test_data = test_data.repeat(2, axis=1)\n",
    "\n",
    "# length = 24"
   ]
  },
  {
   "cell_type": "code",
   "execution_count": 4,
   "metadata": {},
   "outputs": [
    {
     "name": "stdout",
     "output_type": "stream",
     "text": [
      "Total number of unique sequences 6561\n"
     ]
    }
   ],
   "source": [
    "print(f\"Total number of unique sequences {vocab_size ** length}\")"
   ]
  },
  {
   "cell_type": "markdown",
   "metadata": {},
   "source": [
    "Model"
   ]
  },
  {
   "cell_type": "code",
   "execution_count": 5,
   "metadata": {},
   "outputs": [],
   "source": [
    "class SoftmaxLayer(nn.Module):\n",
    "    def __init__(self, emb_dim):\n",
    "        super(SoftmaxLayer, self).__init__()\n",
    "        self.emb_dim = emb_dim\n",
    "        self.query = nn.Linear(emb_dim, 1, bias=False)\n",
    "        self.value = nn.Linear(emb_dim, emb_dim, bias=False)\n",
    "\n",
    "    def forward(self, x, verbose=False):\n",
    "        # x: [bsz, seq_len, emb_dim]\n",
    "        query = self.query.weight\n",
    "        key = x\n",
    "        value = self.value(x)\n",
    "\n",
    "        attn = query @ key.transpose(-1, -2) / math.sqrt(self.emb_dim)\n",
    "        attn = F.softmax(attn, dim=-1)\n",
    "        out = (attn @ value).squeeze(1)\n",
    "        if verbose:\n",
    "            return out, attn.squeeze(1)\n",
    "        return out"
   ]
  },
  {
   "cell_type": "code",
   "execution_count": 6,
   "metadata": {},
   "outputs": [],
   "source": [
    "@dataclass\n",
    "class MLPConfig:\n",
    "    activation: float = \"gelu\"\n",
    "    emb_dim: bool = None\n",
    "    ffn_dim: bool = None\n",
    "    ffn_bias: bool = False\n",
    "    ffn_dropout: float = 0\n",
    "\n",
    "    def __post_init__(self):\n",
    "        if self.ffn_dim is None:\n",
    "            self.ffn_dim = 4 * self.emb_dim\n",
    "\n",
    "\n",
    "class Model(nn.Module):\n",
    "    def __init__(self, emb_dim, vocab_size, ffn_dim=None):\n",
    "        if ffn_dim is None:\n",
    "            ffn_dim = 4 * emb_dim\n",
    "        super(Model, self).__init__()\n",
    "        self.token_emb = nn.Embedding(vocab_size, emb_dim)\n",
    "        self.pos_emb = nn.Embedding(length, emb_dim)\n",
    "\n",
    "        self.softmax = SoftmaxLayer(emb_dim)\n",
    "        config = MLPConfig(\n",
    "            emb_dim=emb_dim,\n",
    "            ffn_dim=ffn_dim,\n",
    "            ffn_bias=True,\n",
    "            activation=\"gelu\",\n",
    "        )\n",
    "        self.mlp = TransformerFeedForward(config)\n",
    "\n",
    "        self.output = nn.Linear(emb_dim, vocab_size, bias=False)\n",
    "        self.output.weight = self.token_emb.weight\n",
    "\n",
    "        self.norm1 = RMSNorm()\n",
    "        self.norm2 = RMSNorm()\n",
    "\n",
    "    def forward(self, x, verbose=False):\n",
    "        out = self.token_emb(x) + self.pos_emb.weight\n",
    "        out = self.softmax(self.norm1(out), verbose=verbose)\n",
    "        if verbose:\n",
    "            out, attn = out\n",
    "        out = out + self.mlp(self.norm2(out))\n",
    "        out = self.output(out)\n",
    "        if verbose:\n",
    "            return out, attn\n",
    "        return out"
   ]
  },
  {
   "cell_type": "markdown",
   "metadata": {},
   "source": [
    "Model Selection"
   ]
  },
  {
   "cell_type": "code",
   "execution_count": 7,
   "metadata": {},
   "outputs": [
    {
     "name": "stdout",
     "output_type": "stream",
     "text": [
      "Number of parameters: 9792\n"
     ]
    },
    {
     "data": {
      "text/plain": [
       "Model(\n",
       "  (token_emb): Embedding(4, 32)\n",
       "  (pos_emb): Embedding(8, 32)\n",
       "  (softmax): SoftmaxLayer(\n",
       "    (query): Linear(in_features=32, out_features=1, bias=False)\n",
       "    (value): Linear(in_features=32, out_features=32, bias=False)\n",
       "  )\n",
       "  (mlp): TransformerFeedForward(\n",
       "    (fc1): Linear(in_features=32, out_features=128, bias=True)\n",
       "    (fc2): Linear(in_features=128, out_features=32, bias=True)\n",
       "  )\n",
       "  (output): Linear(in_features=32, out_features=4, bias=False)\n",
       "  (norm1): RMSNorm()\n",
       "  (norm2): RMSNorm()\n",
       ")"
      ]
     },
     "execution_count": 7,
     "metadata": {},
     "output_type": "execute_result"
    }
   ],
   "source": [
    "emb_dim = 32\n",
    "ffn_dim = 4 * emb_dim\n",
    "# ffn_dim = 10\n",
    "vocab_size = 4\n",
    "X = torch.from_numpy(data.astype(int))\n",
    "torch.manual_seed(20)\n",
    "model = Model(emb_dim=emb_dim, vocab_size=vocab_size, ffn_dim=ffn_dim)\n",
    "print(f\"Number of parameters: {sum(p.numel() for p in model.parameters())}\")\n",
    "model.to(device=DEVICE)"
   ]
  },
  {
   "cell_type": "code",
   "execution_count": 8,
   "metadata": {},
   "outputs": [],
   "source": [
    "import copy\n",
    "init_weights = copy.deepcopy(model.state_dict())"
   ]
  },
  {
   "cell_type": "code",
   "execution_count": 9,
   "metadata": {},
   "outputs": [
    {
     "data": {
      "text/plain": [
       "<All keys matched successfully>"
      ]
     },
     "execution_count": 9,
     "metadata": {},
     "output_type": "execute_result"
    }
   ],
   "source": [
    "model.load_state_dict(init_weights)"
   ]
  },
  {
   "cell_type": "markdown",
   "metadata": {},
   "source": [
    "Training"
   ]
  },
  {
   "cell_type": "code",
   "execution_count": 10,
   "metadata": {},
   "outputs": [
    {
     "name": "stdout",
     "output_type": "stream",
     "text": [
      "Adam\n"
     ]
    },
    {
     "name": "stderr",
     "output_type": "stream",
     "text": [
      "100%|██████████| 10000/10000 [01:17<00:00, 129.46it/s, acc=1, loss=1.38e-6, test_acc=1]     \n"
     ]
    }
   ],
   "source": [
    "niter = 10_000 # 2\n",
    "# niter = 3_000 # 2\n",
    "# niter = 7_000 # 2 -> 4\n",
    "\n",
    "all_losses = {}\n",
    "all_test_losses = {}\n",
    "all_accs = {}\n",
    "all_test_accs = {}\n",
    "all_attns = {}\n",
    "all_weights = {}\n",
    "names = [\"Adam\"] #['SGD', 'Adam', 'AdamLN', 'SGDLN']\n",
    "\n",
    "X = torch.from_numpy(data).to(dtype=torch.long, device=DEVICE)\n",
    "Y = torch.from_numpy(targets).to(dtype=torch.long, device=DEVICE)\n",
    "\n",
    "X_test = torch.from_numpy(test_data).to(dtype=torch.long, device=DEVICE)\n",
    "Y_test = torch.from_numpy(test_targets).to(dtype=torch.long, device=DEVICE)\n",
    "\n",
    "# L1 regularization\n",
    "lambda_l1 = 1e-4\n",
    "\n",
    "for name in names:\n",
    "    print(name, flush=True)\n",
    "    if name[:3] == \"SGD\":\n",
    "        lr = 1e-1\n",
    "        optimizer = torch.optim.SGD(model.parameters(), lr=lr, momentum=0)\n",
    "    else:\n",
    "        # lr = 1e-3 # emb_dim == 8\n",
    "        # lr = 1e-2 # emb_dim == 4\n",
    "        # lr = 1e-3 # emb_dim == 4\n",
    "        # lr = 1e-2 # emb_dim == 2\n",
    "        lr = 1e-2 # emb_dim == 2 & reg_l1\n",
    "        lr = 1e-2 # emb_dim == 2 & ffn_dim == 32 & reg_l1 & model_seed 20\n",
    "        lr = 1e-3 # emb_dim == 2 & ffn_dim == 32 & reg_l1 & model_seed 20 2 -> 5\n",
    "        # lr = 1e-3 # emb_dim == 2 & ffn_dim == 32 & reg_l1 & model_seed 20 2 -> 4 -> 6\n",
    "        # lr = 1e-3 # emb_dim == 2 & ffn_dim == 32 & reg_l1 & model_seed 20 2 -> 4 -> 6\n",
    "        # lr = 1e-1 # emb_dim == 2 & ffn_dim == 32 & reg_l1 & vocab_size 6 model_seed \n",
    "        # lr = 1e-2 # emb_dim == 2 & ffn_dim == 8 & reg_l1 & model_seed 10000\n",
    "        # lr = 1e-2 # emb_dim == 2 & model_seed 200\n",
    "        optimizer = torch.optim.Adam(model.parameters(), lr=lr) \n",
    "\n",
    "    losses = torch.zeros(niter)\n",
    "    test_losses = torch.zeros(niter)\n",
    "    accs = torch.zeros(niter)\n",
    "    test_accs = torch.zeros(niter)\n",
    "    attns = torch.zeros((niter, test_bsz, length))\n",
    "    weights = []\n",
    "\n",
    "    for i in (bar := tqdm(range(niter))):\n",
    "        optimizer.zero_grad()\n",
    "\n",
    "        # compute loss\n",
    "        score = model(X, verbose=False)\n",
    "        loss = F.cross_entropy(score.view((-1, vocab_size)), Y.view(-1))\n",
    "        reg_loss = lambda_l1 * sum(p.abs().sum() for p in model.parameters())\n",
    "\n",
    "        loss.backward()\n",
    "        # reg_loss.backward()\n",
    "        optimizer.step()\n",
    "\n",
    "        # record statistics\n",
    "        with torch.no_grad():\n",
    "            losses[i] = loss.item()\n",
    "            accs[i] = (score.argmax(-1) == Y).float().mean()\n",
    "            score_test, attn = model(X_test, verbose=True)\n",
    "            test_losses[i] = F.cross_entropy(score_test.view((-1, vocab_size)), Y_test.view(-1))\n",
    "            test_accs[i] = (score_test.argmax(-1) == Y_test).float().mean()\n",
    "            attns[i] = attn\n",
    "            # weights.append(copy.deepcopy(model.state_dict()))\n",
    "        \n",
    "        bar.set_postfix(loss=losses[i].item(), acc=accs[i].item(), test_acc=test_accs[i].item())\n",
    "\n",
    "    all_losses[name] = losses\n",
    "    all_test_losses[name] = test_losses\n",
    "    all_accs[name] = accs\n",
    "    all_test_accs[name] = test_accs\n",
    "    all_attns[name] = attns"
   ]
  },
  {
   "cell_type": "code",
   "execution_count": 11,
   "metadata": {},
   "outputs": [
    {
     "data": {
      "text/plain": [
       "[<matplotlib.lines.Line2D at 0x7f5835065990>]"
      ]
     },
     "execution_count": 11,
     "metadata": {},
     "output_type": "execute_result"
    },
    {
     "data": {
      "image/png": "[encoded data removed]",
      "text/plain": [
       "<Figure size 640x480 with 1 Axes>"
      ]
     },
     "metadata": {},
     "output_type": "display_data"
    }
   ],
   "source": [
    "plt.plot(all_accs[\"Adam\"], label=\"train\")\n",
    "plt.plot(all_test_accs[\"Adam\"], label=\"test\")"
   ]
  },
  {
   "cell_type": "code",
   "execution_count": 12,
   "metadata": {},
   "outputs": [],
   "source": [
    "trained_model = copy.deepcopy(model.state_dict())"
   ]
  },
  {
   "cell_type": "code",
   "execution_count": 13,
   "metadata": {},
   "outputs": [
    {
     "data": {
      "text/plain": [
       "<All keys matched successfully>"
      ]
     },
     "execution_count": 13,
     "metadata": {},
     "output_type": "execute_result"
    }
   ],
   "source": [
    "model.load_state_dict(trained_model)"
   ]
  },
  {
   "cell_type": "code",
   "execution_count": 14,
   "metadata": {},
   "outputs": [],
   "source": [
    "save_dir = Path(save_dir)\n",
    "save_dir.mkdir(parents=True, exist_ok=True)\n",
    "\n",
    "# save model\n",
    "torch.save(model.state_dict(), save_dir / f\"{name}.pt\")\n",
    "\n",
    "with open(save_dir / \"losses.pkl\", \"wb\") as f:\n",
    "    pickle.dump(all_losses, f)\n",
    "with open(save_dir / \"accs.pkl\", \"wb\") as f:\n",
    "    pickle.dump(all_accs, f)\n",
    "with open(save_dir / \"attns.npy\", \"wb\") as f:\n",
    "    np.save(f, all_attns[\"Adam\"])"
   ]
  },
  {
   "cell_type": "code",
   "execution_count": 15,
   "metadata": {},
   "outputs": [],
   "source": [
    "all_losses_4 = copy.deepcopy(all_losses)\n",
    "all_test_losses_4 = copy.deepcopy(all_test_losses)\n",
    "all_accs_4 = copy.deepcopy(all_accs)\n",
    "all_test_accs_4 = copy.deepcopy(all_test_accs)\n",
    "all_attns_4 = copy.deepcopy(all_attns)"
   ]
  },
  {
   "cell_type": "code",
   "execution_count": 16,
   "metadata": {},
   "outputs": [],
   "source": [
    "all_accs_2 = copy.deepcopy(all_accs)\n",
    "all_test_accs_2 = copy.deepcopy(all_test_accs)"
   ]
  },
  {
   "cell_type": "code",
   "execution_count": 18,
   "metadata": {},
   "outputs": [
    {
     "name": "stdout",
     "output_type": "stream",
     "text": [
      "/usr/bin/pdflatex\n"
     ]
    },
    {
     "data": {
      "image/png": "[encoded data removed]",
      "text/plain": [
       "<Figure size 850x566 with 1 Axes>"
      ]
     },
     "metadata": {},
     "output_type": "display_data"
    }
   ],
   "source": [
    "plt.rc(\"font\", family=\"serif\", size=8)\n",
    "\n",
    "WIDTH = 8.5  # inches (from ICML style file)\n",
    "HEIGHT = 8.5 / 1.5  # golden ratio\n",
    "sample = 1\n",
    "\n",
    "rc(\"font\", family=\"serif\", size=8)\n",
    "usetex = not subprocess.run([\"which\", \"pdflatex\"]).returncode\n",
    "usetex = False\n",
    "rc(\"text\", usetex=usetex)\n",
    "if usetex:\n",
    "    rc(\"text.latex\", preamble=r\"\\usepackage{times}\")\n",
    "\n",
    "N = 12\n",
    "\n",
    "fig, ax = plt.subplots(figsize=(WIDTH, HEIGHT))\n",
    "G, pos = build_1L_graph(N)\n",
    "magnifier = 8 / attns.max()\n",
    "weights = 0\n",
    "\n",
    "color_palette = [\n",
    "    '#c80000',\n",
    "    '#0000b1',\n",
    "]\n",
    "\n",
    "\n",
    "def update(frame):\n",
    "    global weights\n",
    "\n",
    "    # update variables\n",
    "    ax.clear()\n",
    "    old_weights = weights\n",
    "    # weights = attns[10 * frame].mean(axis=0)\n",
    "    weights = attns[10 * frame, sample]\n",
    "    G, pos = build_1L_graph_tokens(N, tokens=X_test[sample].tolist())\n",
    "    node_colors = [\"#ffffff\"]*12 + [\"#dddddd\"]*12 + [\"#dddddd\"]\n",
    "    T = 0.05\n",
    "    weights = torch.exp(weights / T)\n",
    "    weights /= torch.sum(weights)\n",
    "\n",
    "    # color edges according to updates\n",
    "    diff = weights - old_weights\n",
    "    colors = [color_palette[0] if d > 0 else color_palette[1] for d in diff]\n",
    "\n",
    "    # draw the updated graph\n",
    "    nx.draw(\n",
    "        G,\n",
    "        pos,\n",
    "        width=magnifier * weights,\n",
    "        with_labels=True,\n",
    "        edge_color=colors,\n",
    "        node_size=500,\n",
    "        node_color=node_colors,\n",
    "        labels={rf\"$y_{{{i}}}$\": j for i, j in enumerate(X_test[sample].tolist())} | {rf\"$x_{{{i}}}$\": rf\"$x_{{{i}}}$\" for i in range(N)} | {r\"$q$\": r\"$q$\"},\n",
    "        ax=ax,\n",
    "    )\n",
    "    ax.set_title(f\"Iteration {10 * frame}\", fontweight=\"bold\")\n",
    "\n",
    "\n",
    "ani_length = 400 - 1\n",
    "ani = animation.FuncAnimation(fig, update, frames=ani_length, repeat=False)\n",
    "# ani.save(save_dir / \"test.gif\", writer=\"imagemagick\", fps=20)\n",
    "ani.save(save_dir / f\"test_{sample}.mp4\", writer=\"ffmpeg\", fps=20)"
   ]
  },
  {
   "cell_type": "code",
   "execution_count": 19,
   "metadata": {},
   "outputs": [
    {
     "name": "stdout",
     "output_type": "stream",
     "text": [
      "/private/home/vivc/code/memory-theory/pruning/results\n"
     ]
    }
   ],
   "source": [
    "print(save_dir)"
   ]
  }
 ],
 "metadata": {
  "kernelspec": {
   "display_name": "dev",
   "language": "python",
   "name": "python3"
  },
  "language_info": {
   "codemirror_mode": {
    "name": "ipython",
    "version": 3
   },
   "file_extension": ".py",
   "mimetype": "text/x-python",
   "name": "python",
   "nbconvert_exporter": "python",
   "pygments_lexer": "ipython3",
   "version": "3.11.5"
  }
 },
 "nbformat": 4,
 "nbformat_minor": 2
}
